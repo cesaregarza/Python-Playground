{
 "cells": [
  {
   "cell_type": "code",
   "execution_count": 2,
   "metadata": {},
   "outputs": [],
   "source": [
    "from escape import *\n",
    "import numpy as np\n",
    "import pandas as pd"
   ]
  },
  {
   "cell_type": "code",
   "execution_count": 5,
   "metadata": {},
   "outputs": [
    {
     "data": {
      "text/plain": [
       "array(['3 of Clubs', '7 of Clubs', '4 of Diamonds', 'Queen of Clubs',\n",
       "       'Jack of Spades', '8 of Spades', '5 of Diamonds', '7 of Diamonds',\n",
       "       '10 of Clubs', 'King of Clubs', '6 of Hearts', '4 of Hearts',\n",
       "       '6 of Spades', '4 of Clubs', '8 of Hearts', '2 of Hearts',\n",
       "       '8 of Diamonds', '7 of Spades', 'Queen of Spades', '9 of Clubs',\n",
       "       '10 of Diamonds', 'King of Diamonds', '7 of Hearts', '5 of Hearts',\n",
       "       'Ace of Spades', '5 of Spades', '2 of Diamonds', '9 of Diamonds',\n",
       "       'Jack of Hearts', '5 of Clubs', '3 of Spades', 'King of Hearts',\n",
       "       'Jack of Clubs', 'Jack of Diamonds', 'Ace of Hearts', '6 of Clubs',\n",
       "       '9 of Spades', '2 of Spades', '3 of Hearts', '10 of Spades',\n",
       "       '10 of Hearts', 'Ace of Diamonds', '2 of Clubs',\n",
       "       'Queen of Diamonds', '8 of Clubs', '4 of Spades', '6 of Diamonds',\n",
       "       'King of Spades', '9 of Hearts', '3 of Diamonds',\n",
       "       'Queen of Hearts', 'Ace of Clubs'], dtype='<U17')"
      ]
     },
     "execution_count": 5,
     "metadata": {},
     "output_type": "execute_result"
    }
   ],
   "source": [
    "from escape.deck import generate_deck\n",
    "generate_deck()"
   ]
  },
  {
   "cell_type": "code",
   "execution_count": 2,
   "metadata": {},
   "outputs": [
    {
     "data": {
      "text/plain": [
       "{'King': 0,\n",
       " 'Ace': 1,\n",
       " '2': 2,\n",
       " '3': 3,\n",
       " '4': 4,\n",
       " '5': 5,\n",
       " '6': 6,\n",
       " '7': 7,\n",
       " '8': 8,\n",
       " '9': 9,\n",
       " '10': 10,\n",
       " 'Jack': 11,\n",
       " 'Queen': 12}"
      ]
     },
     "execution_count": 2,
     "metadata": {},
     "output_type": "execute_result"
    }
   ],
   "source": [
    "from escape.constants import ValueToCard\n",
    "ValueToCard.inverse_conversion_table"
   ]
  },
  {
   "cell_type": "code",
   "execution_count": 3,
   "metadata": {},
   "outputs": [
    {
     "data": {
      "text/plain": [
       "'Clubs'"
      ]
     },
     "execution_count": 3,
     "metadata": {},
     "output_type": "execute_result"
    }
   ],
   "source": [
    "from enum import Enum, auto\n",
    "\n",
    "class Suit(Enum):\n",
    "    Clubs       = auto()\n",
    "    Diamonds    = auto()\n",
    "    Hearts      = auto()\n",
    "    Spades      = auto()\n",
    "\n",
    "Suit.Clubs.name"
   ]
  },
  {
   "cell_type": "code",
   "execution_count": 5,
   "metadata": {},
   "outputs": [
    {
     "data": {
      "text/plain": [
       "[]"
      ]
     },
     "execution_count": 5,
     "metadata": {},
     "output_type": "execute_result"
    }
   ],
   "source": [
    "list(range(2))[2:]"
   ]
  },
  {
   "cell_type": "code",
   "execution_count": null,
   "metadata": {},
   "outputs": [],
   "source": []
  }
 ],
 "metadata": {
  "interpreter": {
   "hash": "9dc9feaf15aec78e74b0ff0e7b288802153623dde12ff02a5cb81c45ad1c7b62"
  },
  "kernelspec": {
   "display_name": "Python 3.9.7 64-bit ('py39': conda)",
   "language": "python",
   "name": "python3"
  },
  "language_info": {
   "codemirror_mode": {
    "name": "ipython",
    "version": 3
   },
   "file_extension": ".py",
   "mimetype": "text/x-python",
   "name": "python",
   "nbconvert_exporter": "python",
   "pygments_lexer": "ipython3",
   "version": "3.9.7"
  },
  "orig_nbformat": 4
 },
 "nbformat": 4,
 "nbformat_minor": 2
}
