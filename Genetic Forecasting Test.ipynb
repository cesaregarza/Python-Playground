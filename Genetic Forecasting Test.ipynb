{
 "cells": [
  {
   "cell_type": "code",
   "execution_count": 1,
   "metadata": {},
   "outputs": [],
   "source": [
    "import data_analysis_functions_redux as das\n",
    "import numpy as np\n",
    "import pandas as pd\n",
    "import genetic\n",
    "import time\n",
    "%load_ext line_profiler\n",
    "\n",
    "def sse(adf):\n",
    "    return - np.sum((bdf['Obs'] - adf) ** 2)\n",
    "\n",
    "def fitness(alpha, initial_level = None):\n",
    "    f = das.exponential_smoothing(bdf['Obs'], alpha, 0, initial_level=initial_level)\n",
    "    adf = pd.Series(f[:-1], index=bdf.index).rename(\"Obs\")\n",
    "    return sse(adf)\n",
    "\n",
    "def fitness2(alpha, initial_level = None):\n",
    "    return das.fast_exponential_smoothing(bdf['Obs'],alpha, 0, initial_level=initial_level)\n",
    "\n",
    "def crossover(params):\n",
    "    mom, dad = params\n",
    "    avg = (mom + dad) / 2\n",
    "    std = max((avg + mom) / 2,.1)\n",
    "    return np.random.normal(avg, std)"
   ]
  },
  {
   "cell_type": "code",
   "execution_count": 2,
   "metadata": {},
   "outputs": [],
   "source": [
    "import numpy as np\n",
    "import random\n",
    "\n",
    "class Genetic_Vector:\n",
    "    def __init__(self, vector, generation, parameter_bounds, fitness_function, mutation_rate = 0.015, simple_mutation = True, simple_crossover = True, crossover_function = None, type_check = True, creep_mutate = True):\n",
    "        self.vector = vector\n",
    "        self.generation = generation\n",
    "        self.parameter_bounds = parameter_bounds\n",
    "        self.fitness = fitness_function\n",
    "        self.simple_mutation = simple_mutation\n",
    "        self.mutation_rate = mutation_rate\n",
    "        self.simple_crossover = simple_crossover\n",
    "        self.crossover_function = crossover_function\n",
    "        self.creep_mutate = creep_mutate\n",
    "        self.fitness_val = self.fitness(*list(self.vector))\n",
    "        self.vector_length = len(self.vector)\n",
    "\n",
    "        if type_check:\n",
    "            if not isinstance(self.vector, np.ndarray):\n",
    "                self.vector = np.squeeze(np.asarray(self.vector))\n",
    "                if len(self.vector.shape) > 1:\n",
    "                    raise TypeError(\"Parameter vector must be a 1-dimensional array-like\")\n",
    "            \n",
    "            if isinstance(parameter_bounds, tuple) and len(parameter_bounds) == 2:\n",
    "                self.parameter_bounds = [parameter_bounds] * self.vector_length\n",
    "            \n",
    "            if not all(isinstance(item, tuple) and len(item) == 2 for item in self.parameter_bounds):\n",
    "                raise TypeError(\"Parameter parameter_bounds must be a list of 2-tuples\")\n",
    "            \n",
    "            if not callable(self.fitness):\n",
    "                raise TypeError(\"Parameter fitness_function must be a function\")\n",
    "\n",
    "            if not simple_crossover and crossover_function is None:\n",
    "                raise TypeError(\"Declare a crossover function, otherwise flag simple_crossover as True\")\n",
    "    \n",
    "    def __lt__(self, other):\n",
    "        return self.fitness_val < other.fitness_val\n",
    "    \n",
    "    def __le__(self, other):\n",
    "        return self.fitness_val <= other.fitness_val\n",
    "    \n",
    "    def __eq__(self, other):\n",
    "        return self.fitness_val == other.fitness_val\n",
    "    \n",
    "    def __gt__(self, other):\n",
    "        return self.fitness_val > other.fitness_val\n",
    "    \n",
    "    def __ge__(self, other):\n",
    "        return self.fitness_val >= other.fitness_val\n",
    "    \n",
    "    def __ne__(self, other):\n",
    "        return self.fitness_val != other.fitness_val\n",
    "        \n",
    "    def mate(self, other):\n",
    "        \"\"\"Mating Function\n",
    "        \n",
    "        Parameters\n",
    "        -----------\n",
    "        other: Genetic_Vector\n",
    "            The other parent\n",
    "        \n",
    "        Returns\n",
    "        -------\n",
    "        child: Genetic_Vector\n",
    "            Child vector\n",
    "        \"\"\"\n",
    "        if not isinstance(other, Genetic_Vector):\n",
    "            raise ValueError(\"Other parent is invalid\")\n",
    "        \n",
    "        if self.vector_length != other.vector_length:\n",
    "            raise ValueError(\"Vector lengths do not match\")\n",
    "        \n",
    "        child_vector = np.empty(self.vector_length)\n",
    "        \n",
    "        #If we are doing simple crossover, we're just going to take one of the two parent parameters\n",
    "        if self.simple_crossover:\n",
    "            for i in range(self.vector_length):\n",
    "                parents = [self, other]\n",
    "                rand_parent = random.randint(0,1)\n",
    "                child_vector[i] = parents[rand_parent].vector[i]\n",
    "        #If we are not doing simple crossover, we're going to evaluate the complex crossover\n",
    "        else:\n",
    "            for i in range(self.vector_length):\n",
    "                parent_param_tuple = (self.vector[i], other.vector[i])\n",
    "                param_bounds = self.parameter_bounds[i]\n",
    "                child_vector[i] = self._complex_crossover(parent_param_tuple, param_bounds)\n",
    "        \n",
    "        child_mutation_rate = self.mutation_rate + (random.random() * (0.4) - 0.2) * self.mutation_rate\n",
    "\n",
    "        child_vector = self.mutate(child_vector, child_mutation_rate)\n",
    "        child_generation = max(self.generation, other.generation) + 1\n",
    "        \n",
    "        child = Genetic_Vector(child_vector, child_generation, self.parameter_bounds, self.fitness, mutation_rate = child_mutation_rate, simple_mutation = self.simple_mutation, simple_crossover = self.simple_crossover, crossover_function = self.crossover_function, type_check = False)\n",
    "\n",
    "        return child\n",
    "\n",
    "    def mutate(self, vector, mutation_rate):\n",
    "        \"\"\"Mutation Function\n",
    "\n",
    "        Parameters\n",
    "        ----------\n",
    "        vector: array\n",
    "            The vector that will undergo mutation\n",
    "        \n",
    "        mutation_rate: float\n",
    "            The mutation rate\n",
    "        \n",
    "        Returns\n",
    "        -------\n",
    "        vector: array\n",
    "            vector that has underwent mutation (if at all)\n",
    "        \"\"\"\n",
    "        if not self.creep_mutate:\n",
    "            for i in range(len(vector)):\n",
    "                r = random.random()\n",
    "                if r < mutation_rate:\n",
    "                    vector[i] = random.randint(*self.parameter_bounds[i])\n",
    "            \n",
    "            return vector\n",
    "        else:\n",
    "            for i in range(len(vector)):\n",
    "                lower, upper = self.parameter_bounds[i]\n",
    "                r = random.random()\n",
    "                s = random.random() * (upper - lower) * 0.25 - (upper - lower) * 0.5\n",
    "                if r < mutation_rate:\n",
    "                    if vector[i] + s < upper and vector[i] + s > lower:\n",
    "                        vector[i] += s\n",
    "            \n",
    "            return vector\n",
    "    \n",
    "    def _complex_crossover(self, params, specific_bounds):\n",
    "        \"\"\"Custom crossover function\n",
    "\n",
    "        Parameters\n",
    "        ----------\n",
    "        param: 2-tuple\n",
    "            The appropriate parameter for both parents\n",
    "        \n",
    "        specific_bounds: 2-tuple\n",
    "            Upper and lower bounds for the parameter\n",
    "        \n",
    "        Returns\n",
    "        -------\n",
    "        child_value: value\n",
    "            Result of crossover function\n",
    "        \"\"\"\n",
    "        candidate_within_bounds = False\n",
    "        #Loop so long as the candidate is not within the bounds \n",
    "        while not candidate_within_bounds:\n",
    "            candidate_value = self.crossover_function(params)\n",
    "            lower_bound, upper_bound = specific_bounds\n",
    "            candidate_within_bounds = (candidate_value >= lower_bound) and (candidate_value <= upper_bound)\n",
    "        \n",
    "        return candidate_value\n",
    "\n",
    "class Genetic_Pool:\n",
    "    def __init__(self, template, size = None, elitism = False, selection_method = \"tournament\"):\n",
    "        if not isinstance(template, Genetic_Vector):\n",
    "            raise TypeError(\"Parameter template must be a Genetic_Vector object\")\n",
    "\n",
    "        self.template = template\n",
    "        self.elitism = elitism\n",
    "        self.members = (self.template.vector_length * 10) if not size else size\n",
    "        self.selection_method = selection_method\n",
    "        self.pool = []\n",
    "    \n",
    "    def _parent_selection(self):\n",
    "        fxn_dict = {\n",
    "            \"tournament\": self._tournament\n",
    "        }\n",
    "        try:\n",
    "            optimization_chosen = fxn_dict[self.selection_method.lower()]\n",
    "        except KeyError:\n",
    "            raise ValueError(f\"{self.selection_method} is not a valid optimization method\")\n",
    "\n",
    "        return optimization_chosen()\n",
    "        \n",
    "    def _tournament(self, tournament_size = 6):\n",
    "        \"\"\"Runs a tournament knockout style for parent selection\n",
    "        \n",
    "        Keyword Arguments:\n",
    "            tournament_size {int} -- Number of entrants to a tournament. The farther from a power of 2, the more likely it is to have diversity (default: {6})\n",
    "        \n",
    "        Returns:\n",
    "            Genetic_Vector[] -- List of Genetic_Vectors that are the selected parents\n",
    "        \"\"\"\n",
    "        \n",
    "        try:\n",
    "            candidates = random.sample(self.pool, tournament_size)\n",
    "        except ValueError:\n",
    "            return random.sample(self.pool, 2)\n",
    "        \n",
    "        rounds = (tournament_size - 1).bit_length() - 1\n",
    "\n",
    "        for i in range(rounds):\n",
    "            next_round = []\n",
    "            while len(candidates) > 1:\n",
    "                random.shuffle(candidates)\n",
    "                fighters = candidates[:2]\n",
    "                candidates = candidates[2:]\n",
    "                next_round.append(max(fighters))\n",
    "\n",
    "            candidates += next_round\n",
    "        \n",
    "        return candidates\n",
    "    \n",
    "    def new_generation(self):\n",
    "        \"\"\"Creates a new generation\n",
    "        \n",
    "        Raises:\n",
    "            RuntimeError: self.initialize() must be ran at least once before using this function\n",
    "        \n",
    "        Returns:\n",
    "            Genetic_Vector[] -- List of Genetic Vectors\n",
    "        \"\"\"\n",
    "        gen_size = self.members\n",
    "        next_gen = []\n",
    "        if len(self.pool) == 0:\n",
    "            raise RuntimeError(\"New Generation cannot be generated without first initializing using the initialize() method\")\n",
    "        \n",
    "        if self.elitism:\n",
    "            next_gen.append(self.pool[-1])\n",
    "            self.pool = self.pool[:-1]\n",
    "        \n",
    "        while len(next_gen) < gen_size:\n",
    "            parents = self._parent_selection()\n",
    "            try:\n",
    "                next_gen.append(parents[0].mate(parents[1]))\n",
    "            except TypeError as e:\n",
    "                print(vars(parents[0]))\n",
    "                print(vars(parents[1]))\n",
    "                raise TypeError(e)\n",
    "        \n",
    "        self.pool = next_gen\n",
    "        self.pool.sort()\n",
    "    \n",
    "    def initialization(self, generation_function = None):\n",
    "        \"\"\"Initializes the Genetic_Pool\n",
    "        \n",
    "        Keyword Arguments:\n",
    "            generation_function {function} -- If provided, uses provided function to generate the initial population (default: {None})\n",
    "        \n",
    "        Returns:\n",
    "            None -- No return\n",
    "        \"\"\"\n",
    "        if generation_function is None:\n",
    "            def generation_function():\n",
    "                vector_list = []\n",
    "                for lower, upper in self.template.parameter_bounds:\n",
    "                    distance = upper - lower\n",
    "                    \n",
    "                    if isinstance(lower, float):\n",
    "                        value = random.random() * distance + lower\n",
    "                    else:\n",
    "                        value = random.randint(lower, upper)\n",
    "                    \n",
    "                    vector_list.append(value)\n",
    "                new_genetic_vector = Genetic_Vector(vector_list, 1,self.template.parameter_bounds, self.template.fitness, mutation_rate = self.template.mutation_rate, simple_mutation = self.template.simple_mutation, simple_crossover=self.template.simple_crossover, crossover_function = self.template.crossover_function, type_check = False)\n",
    "                return new_genetic_vector\n",
    "        \n",
    "        for i in range(self.members):\n",
    "            self.pool.append(generation_function())\n",
    "        \n",
    "        self.pool.sort()\n",
    "        self.generation_max = 0\n",
    "        self.score_max = self.pool[-1].fitness_val\n",
    "    \n",
    "    def initialize(self, generation_function):\n",
    "        self.initialization(generation_function)\n",
    "    \n",
    "    def multiple_generations(self, generations, early_stopping = True, es_percent_generations = 0.3):\n",
    "        \"\"\"Runs multiple generations\n",
    "        \n",
    "        Arguments:\n",
    "            generations {int} -- Number of generations you want to run\n",
    "        \n",
    "        Keyword Arguments:\n",
    "            early_stopping {bool} -- Whether or not to use early stopping (default: {True})\n",
    "            es_percent_generations {float} -- Early Stopping Percent of Generations. If early_stopping is true, how much of the generation without changes should indicate stopping (default: {0.3})\n",
    "        \n",
    "        Returns:\n",
    "            [type] -- [description]\n",
    "        \"\"\"\n",
    "        for i in range(generations):\n",
    "            self.new_generation()\n",
    "            if self.pool[-1].fitness_val > self.score_max:\n",
    "                self.score_max = self.pool[-1].fitness_val\n",
    "                self.generation_max = i + 1\n",
    "            elif early_stopping:\n",
    "                if (i - self.generation_max) > (es_percent_generations * generations):\n",
    "                    print(f\"Stopped at generation {i}\")\n",
    "                    break\n",
    "        \n",
    "        return self.pool[-1]\n"
   ]
  },
  {
   "cell_type": "code",
   "execution_count": 3,
   "metadata": {},
   "outputs": [],
   "source": [
    "obs = [445.36, 453.20, 454.41,422.38,456.04,440.39,425.19,486.21,500.43,521.28,508.95,488.89,509.87,456.72,473.82,525.95,549.83,542.34]\n",
    "yr = list(range(1996,2014))"
   ]
  },
  {
   "cell_type": "code",
   "execution_count": 4,
   "metadata": {},
   "outputs": [],
   "source": [
    "adf = pd.DataFrame(list(zip(yr, np.ones(18), np.ones(18))), columns=['Year', 'Month', 'Day'])\n",
    "\n",
    "bdf = pd.DataFrame(obs, columns=['Obs'])\n",
    "bdf['Date'] = pd.to_datetime(adf)\n",
    "bdf = bdf.set_index('Date')"
   ]
  },
  {
   "cell_type": "code",
   "execution_count": 5,
   "metadata": {},
   "outputs": [],
   "source": [
    "f = das.exponential_smoothing(bdf['Obs'], .833924,0)\n",
    "cdf = pd.Series(f[:-1],index = bdf.index).rename(\"Obs\")"
   ]
  },
  {
   "cell_type": "code",
   "execution_count": 6,
   "metadata": {},
   "outputs": [],
   "source": [
    "template = Genetic_Vector([0.5,50],1,[(0.0,1.0),(np.min(bdf['Obs']) * 0.86 ,np.max(bdf['Obs']) * 1.2)],fitness, simple_crossover = False, crossover_function = crossover)\n",
    "template2 = genetic.Genetic_Vector([0.5],1,[(0.0,1.0)],fitness, simple_crossover = False, crossover_function = crossover)\n",
    "template3 = Genetic_Vector([0.5,50],1,[(0.0,1.0),(np.min(bdf['Obs']) * 0.86 ,np.max(bdf['Obs']) * 1.2)],fitness2, simple_crossover = False, crossover_function = crossover)"
   ]
  },
  {
   "cell_type": "code",
   "execution_count": 11,
   "metadata": {},
   "outputs": [],
   "source": [
    "p = Genetic_Pool(template, elitism=True)\n",
    "p.initialization()\n",
    "\n",
    "q = genetic.Genetic_Pool(template2, elitism=True)\n",
    "q.initialization()\n",
    "\n",
    "r = Genetic_Pool(template3, elitism=True)\n",
    "r.initialization()"
   ]
  },
  {
   "cell_type": "code",
   "execution_count": 12,
   "metadata": {},
   "outputs": [
    {
     "name": "stdout",
     "output_type": "stream",
     "text": [
      "Stopped at generation 160\n",
      "2.4222054481506348\n"
     ]
    },
    {
     "data": {
      "text/plain": [
       "{'vector': array([  0.83207288, 446.18799005]),\n",
       " 'generation': 60,\n",
       " 'parameter_bounds': [(0.0, 1.0), (363.2468, 659.796)],\n",
       " 'fitness': <function __main__.fitness(alpha, initial_level=None)>,\n",
       " 'simple_mutation': True,\n",
       " 'mutation_rate': 0.018213451100363414,\n",
       " 'simple_crossover': False,\n",
       " 'crossover_function': <function __main__.crossover(params)>,\n",
       " 'creep_mutate': True,\n",
       " 'fitness_val': -14236.963046274564,\n",
       " 'vector_length': 2}"
      ]
     },
     "execution_count": 12,
     "metadata": {},
     "output_type": "execute_result"
    }
   ],
   "source": [
    "start_time = time.time()\n",
    "k = vars(p.multiple_generations(1000, es_percent_generations = 0.1))\n",
    "print(time.time() - start_time)\n",
    "k"
   ]
  },
  {
   "cell_type": "code",
   "execution_count": 13,
   "metadata": {},
   "outputs": [
    {
     "name": "stdout",
     "output_type": "stream",
     "text": [
      "Stopped at generation 106\n",
      "1.1956074237823486\n"
     ]
    },
    {
     "data": {
      "text/plain": [
       "{'vector': array([0.82891849]),\n",
       " 'generation': 6,\n",
       " 'parameter_bounds': [(0.0, 1.0)],\n",
       " 'fitness': <function __main__.fitness(alpha, initial_level=None)>,\n",
       " 'simple_mutation': True,\n",
       " 'mutation_rate': 0.016721335554412665,\n",
       " 'simple_crossover': False,\n",
       " 'crossover_function': <function __main__.crossover(params)>,\n",
       " 'creep_mutate': True,\n",
       " 'fitness_val': -14779.120153531763,\n",
       " 'vector_length': 1}"
      ]
     },
     "execution_count": 13,
     "metadata": {},
     "output_type": "execute_result"
    }
   ],
   "source": [
    "start_time = time.time()\n",
    "k = vars(q.multiple_generations(1000, es_percent_generations = 0.1))\n",
    "print(time.time() - start_time)\n",
    "k"
   ]
  },
  {
   "cell_type": "code",
   "execution_count": 14,
   "metadata": {},
   "outputs": [
    {
     "name": "stdout",
     "output_type": "stream",
     "text": [
      "Stopped at generation 227\n",
      "0.6887760162353516\n"
     ]
    },
    {
     "data": {
      "text/plain": [
       "{'vector': array([  0.83470669, 446.86660681]),\n",
       " 'generation': 127,\n",
       " 'parameter_bounds': [(0.0, 1.0), (363.2468, 659.796)],\n",
       " 'fitness': <function __main__.fitness2(alpha, initial_level=None)>,\n",
       " 'simple_mutation': True,\n",
       " 'mutation_rate': 0.007567383194684389,\n",
       " 'simple_crossover': False,\n",
       " 'crossover_function': <function __main__.crossover(params)>,\n",
       " 'creep_mutate': True,\n",
       " 'fitness_val': -14236.872940701558,\n",
       " 'vector_length': 2}"
      ]
     },
     "execution_count": 14,
     "metadata": {},
     "output_type": "execute_result"
    }
   ],
   "source": [
    "start_time = time.time()\n",
    "k = vars(r.multiple_generations(1000, es_percent_generations = 0.1))\n",
    "print(time.time() - start_time)\n",
    "k"
   ]
  },
  {
   "cell_type": "code",
   "execution_count": 15,
   "metadata": {},
   "outputs": [
    {
     "data": {
      "text/plain": [
       "Timer unit: 1e-07 s\n",
       "\n",
       "Total time: 0.0414807 s\n",
       "File: <ipython-input-2-7513c7d833ce>\n",
       "Function: new_generation at line 207\n",
       "\n",
       "Line #      Hits         Time  Per Hit   % Time  Line Contents\n",
       "==============================================================\n",
       "   207                                               def new_generation(self):\n",
       "   208                                                   \"\"\"Creates a new generation\n",
       "   209                                                   \n",
       "   210                                                   Raises:\n",
       "   211                                                       RuntimeError: self.initialize() must be ran at least once before using this function\n",
       "   212                                                   \n",
       "   213                                                   Returns:\n",
       "   214                                                       Genetic_Vector[] -- List of Genetic Vectors\n",
       "   215                                                   \"\"\"\n",
       "   216         1         69.0     69.0      0.0          gen_size = self.members\n",
       "   217         1          8.0      8.0      0.0          next_gen = []\n",
       "   218         1         10.0     10.0      0.0          if len(self.pool) == 0:\n",
       "   219                                                       raise RuntimeError(\"New Generation cannot be generated without first initializing using the initialize() method\")\n",
       "   220                                                   \n",
       "   221         1          5.0      5.0      0.0          if self.elitism:\n",
       "   222         1         10.0     10.0      0.0              next_gen.append(self.pool[-1])\n",
       "   223         1         13.0     13.0      0.0              self.pool = self.pool[:-1]\n",
       "   224                                                   \n",
       "   225        20        369.0     18.4      0.1          while len(next_gen) < gen_size:\n",
       "   226        19      25596.0   1347.2      6.2              parents = self._parent_selection()\n",
       "   227        19        182.0      9.6      0.0              try:\n",
       "   228        19     388148.0  20428.8     93.6                  next_gen.append(parents[0].mate(parents[1]))\n",
       "   229                                                       except TypeError as e:\n",
       "   230                                                           print(vars(parents[0]))\n",
       "   231                                                           print(vars(parents[1]))\n",
       "   232                                                           raise TypeError(e)\n",
       "   233                                                   \n",
       "   234         1        116.0    116.0      0.0          self.pool = next_gen\n",
       "   235         1        281.0    281.0      0.1          self.pool.sort()"
      ]
     },
     "metadata": {},
     "output_type": "display_data"
    }
   ],
   "source": [
    "%lprun -f p.new_generation p.new_generation()"
   ]
  },
  {
   "cell_type": "code",
   "execution_count": 16,
   "metadata": {},
   "outputs": [
    {
     "data": {
      "text/plain": [
       "Timer unit: 1e-07 s\n",
       "\n",
       "Total time: 0.0066141 s\n",
       "File: <ipython-input-2-7513c7d833ce>\n",
       "Function: new_generation at line 207\n",
       "\n",
       "Line #      Hits         Time  Per Hit   % Time  Line Contents\n",
       "==============================================================\n",
       "   207                                               def new_generation(self):\n",
       "   208                                                   \"\"\"Creates a new generation\n",
       "   209                                                   \n",
       "   210                                                   Raises:\n",
       "   211                                                       RuntimeError: self.initialize() must be ran at least once before using this function\n",
       "   212                                                   \n",
       "   213                                                   Returns:\n",
       "   214                                                       Genetic_Vector[] -- List of Genetic Vectors\n",
       "   215                                                   \"\"\"\n",
       "   216         1         20.0     20.0      0.0          gen_size = self.members\n",
       "   217         1          6.0      6.0      0.0          next_gen = []\n",
       "   218         1          9.0      9.0      0.0          if len(self.pool) == 0:\n",
       "   219                                                       raise RuntimeError(\"New Generation cannot be generated without first initializing using the initialize() method\")\n",
       "   220                                                   \n",
       "   221         1          6.0      6.0      0.0          if self.elitism:\n",
       "   222         1         12.0     12.0      0.0              next_gen.append(self.pool[-1])\n",
       "   223         1         15.0     15.0      0.0              self.pool = self.pool[:-1]\n",
       "   224                                                   \n",
       "   225        20        201.0     10.1      0.3          while len(next_gen) < gen_size:\n",
       "   226        19      17251.0    907.9     26.1              parents = self._parent_selection()\n",
       "   227        19        120.0      6.3      0.2              try:\n",
       "   228        19      47745.0   2512.9     72.2                  next_gen.append(parents[0].mate(parents[1]))\n",
       "   229                                                       except TypeError as e:\n",
       "   230                                                           print(vars(parents[0]))\n",
       "   231                                                           print(vars(parents[1]))\n",
       "   232                                                           raise TypeError(e)\n",
       "   233                                                   \n",
       "   234         1        471.0    471.0      0.7          self.pool = next_gen\n",
       "   235         1        285.0    285.0      0.4          self.pool.sort()"
      ]
     },
     "metadata": {},
     "output_type": "display_data"
    }
   ],
   "source": [
    "%lprun -f r.new_generation r.new_generation()"
   ]
  },
  {
   "cell_type": "code",
   "execution_count": 18,
   "metadata": {},
   "outputs": [
    {
     "data": {
      "text/plain": [
       "Timer unit: 1e-07 s\n",
       "\n",
       "Total time: 0.0021988 s\n",
       "File: <ipython-input-2-7513c7d833ce>\n",
       "Function: mate at line 54\n",
       "\n",
       "Line #      Hits         Time  Per Hit   % Time  Line Contents\n",
       "==============================================================\n",
       "    54                                               def mate(self, other):\n",
       "    55                                                   \"\"\"Mating Function\n",
       "    56                                                   \n",
       "    57                                                   Parameters\n",
       "    58                                                   -----------\n",
       "    59                                                   other: Genetic_Vector\n",
       "    60                                                       The other parent\n",
       "    61                                                   \n",
       "    62                                                   Returns\n",
       "    63                                                   -------\n",
       "    64                                                   child: Genetic_Vector\n",
       "    65                                                       Child vector\n",
       "    66                                                   \"\"\"\n",
       "    67         1         35.0     35.0      0.2          if not isinstance(other, Genetic_Vector):\n",
       "    68                                                       raise ValueError(\"Other parent is invalid\")\n",
       "    69                                                   \n",
       "    70         1         20.0     20.0      0.1          if self.vector_length != other.vector_length:\n",
       "    71                                                       raise ValueError(\"Vector lengths do not match\")\n",
       "    72                                                   \n",
       "    73         1        132.0    132.0      0.6          child_vector = np.empty(self.vector_length)\n",
       "    74                                                   \n",
       "    75                                                   #If we are doing simple crossover, we're just going to take one of the two parent parameters\n",
       "    76         1         14.0     14.0      0.1          if self.simple_crossover:\n",
       "    77                                                       for i in range(self.vector_length):\n",
       "    78                                                           parents = [self, other]\n",
       "    79                                                           rand_parent = random.randint(0,1)\n",
       "    80                                                           child_vector[i] = parents[rand_parent].vector[i]\n",
       "    81                                                   #If we are not doing simple crossover, we're going to evaluate the complex crossover\n",
       "    82                                                   else:\n",
       "    83         3         46.0     15.3      0.2              for i in range(self.vector_length):\n",
       "    84         2         88.0     44.0      0.4                  parent_param_tuple = (self.vector[i], other.vector[i])\n",
       "    85         2         33.0     16.5      0.2                  param_bounds = self.parameter_bounds[i]\n",
       "    86         2        887.0    443.5      4.0                  child_vector[i] = self._complex_crossover(parent_param_tuple, param_bounds)\n",
       "    87                                                   \n",
       "    88         1         36.0     36.0      0.2          child_mutation_rate = self.mutation_rate + (random.random() * (0.4) - 0.2) * self.mutation_rate\n",
       "    89                                           \n",
       "    90         1         90.0     90.0      0.4          child_vector = self.mutate(child_vector, child_mutation_rate)\n",
       "    91         1         15.0     15.0      0.1          child_generation = max(self.generation, other.generation) + 1\n",
       "    92                                                   \n",
       "    93         1      20579.0  20579.0     93.6          child = Genetic_Vector(child_vector, child_generation, self.parameter_bounds, self.fitness, mutation_rate = child_mutation_rate, simple_mutation = self.simple_mutation, simple_crossover = self.simple_crossover, crossover_function = self.crossover_function, type_check = False)\n",
       "    94                                           \n",
       "    95         1         13.0     13.0      0.1          return child"
      ]
     },
     "metadata": {},
     "output_type": "display_data"
    }
   ],
   "source": [
    "%lprun -f mom.mate mom.mate(dad)"
   ]
  },
  {
   "cell_type": "code",
   "execution_count": 19,
   "metadata": {},
   "outputs": [
    {
     "data": {
      "text/plain": [
       "Timer unit: 1e-07 s\n",
       "\n",
       "Total time: 0.0004085 s\n",
       "File: <ipython-input-2-7513c7d833ce>\n",
       "Function: mate at line 54\n",
       "\n",
       "Line #      Hits         Time  Per Hit   % Time  Line Contents\n",
       "==============================================================\n",
       "    54                                               def mate(self, other):\n",
       "    55                                                   \"\"\"Mating Function\n",
       "    56                                                   \n",
       "    57                                                   Parameters\n",
       "    58                                                   -----------\n",
       "    59                                                   other: Genetic_Vector\n",
       "    60                                                       The other parent\n",
       "    61                                                   \n",
       "    62                                                   Returns\n",
       "    63                                                   -------\n",
       "    64                                                   child: Genetic_Vector\n",
       "    65                                                       Child vector\n",
       "    66                                                   \"\"\"\n",
       "    67         1         30.0     30.0      0.7          if not isinstance(other, Genetic_Vector):\n",
       "    68                                                       raise ValueError(\"Other parent is invalid\")\n",
       "    69                                                   \n",
       "    70         1         17.0     17.0      0.4          if self.vector_length != other.vector_length:\n",
       "    71                                                       raise ValueError(\"Vector lengths do not match\")\n",
       "    72                                                   \n",
       "    73         1         89.0     89.0      2.2          child_vector = np.empty(self.vector_length)\n",
       "    74                                                   \n",
       "    75                                                   #If we are doing simple crossover, we're just going to take one of the two parent parameters\n",
       "    76         1         12.0     12.0      0.3          if self.simple_crossover:\n",
       "    77                                                       for i in range(self.vector_length):\n",
       "    78                                                           parents = [self, other]\n",
       "    79                                                           rand_parent = random.randint(0,1)\n",
       "    80                                                           child_vector[i] = parents[rand_parent].vector[i]\n",
       "    81                                                   #If we are not doing simple crossover, we're going to evaluate the complex crossover\n",
       "    82                                                   else:\n",
       "    83         3         56.0     18.7      1.4              for i in range(self.vector_length):\n",
       "    84         2         76.0     38.0      1.9                  parent_param_tuple = (self.vector[i], other.vector[i])\n",
       "    85         2         38.0     19.0      0.9                  param_bounds = self.parameter_bounds[i]\n",
       "    86         2       1714.0    857.0     42.0                  child_vector[i] = self._complex_crossover(parent_param_tuple, param_bounds)\n",
       "    87                                                   \n",
       "    88         1         32.0     32.0      0.8          child_mutation_rate = self.mutation_rate + (random.random() * (0.4) - 0.2) * self.mutation_rate\n",
       "    89                                           \n",
       "    90         1         82.0     82.0      2.0          child_vector = self.mutate(child_vector, child_mutation_rate)\n",
       "    91         1         16.0     16.0      0.4          child_generation = max(self.generation, other.generation) + 1\n",
       "    92                                                   \n",
       "    93         1       1915.0   1915.0     46.9          child = Genetic_Vector(child_vector, child_generation, self.parameter_bounds, self.fitness, mutation_rate = child_mutation_rate, simple_mutation = self.simple_mutation, simple_crossover = self.simple_crossover, crossover_function = self.crossover_function, type_check = False)\n",
       "    94                                           \n",
       "    95         1          8.0      8.0      0.2          return child"
      ]
     },
     "metadata": {},
     "output_type": "display_data"
    }
   ],
   "source": [
    "%lprun -f rmom.mate rmom.mate(rdad)"
   ]
  },
  {
   "cell_type": "code",
   "execution_count": 35,
   "metadata": {},
   "outputs": [
    {
     "data": {
      "text/plain": [
       "Timer unit: 1e-07 s\n",
       "\n",
       "Total time: 0.0004089 s\n",
       "File: <ipython-input-2-7513c7d833ce>\n",
       "Function: mate at line 54\n",
       "\n",
       "Line #      Hits         Time  Per Hit   % Time  Line Contents\n",
       "==============================================================\n",
       "    54                                               def mate(self, other):\n",
       "    55                                                   \"\"\"Mating Function\n",
       "    56                                                   \n",
       "    57                                                   Parameters\n",
       "    58                                                   -----------\n",
       "    59                                                   other: Genetic_Vector\n",
       "    60                                                       The other parent\n",
       "    61                                                   \n",
       "    62                                                   Returns\n",
       "    63                                                   -------\n",
       "    64                                                   child: Genetic_Vector\n",
       "    65                                                       Child vector\n",
       "    66                                                   \"\"\"\n",
       "    67         1         21.0     21.0      0.5          if not isinstance(other, Genetic_Vector):\n",
       "    68                                                       raise ValueError(\"Other parent is invalid\")\n",
       "    69                                                   \n",
       "    70         1         16.0     16.0      0.4          if self.vector_length != other.vector_length:\n",
       "    71                                                       raise ValueError(\"Vector lengths do not match\")\n",
       "    72                                                   \n",
       "    73         1         70.0     70.0      1.7          child_vector = np.empty(self.vector_length)\n",
       "    74                                                   \n",
       "    75                                                   #If we are doing simple crossover, we're just going to take one of the two parent parameters\n",
       "    76         1          9.0      9.0      0.2          if self.simple_crossover:\n",
       "    77                                                       for i in range(self.vector_length):\n",
       "    78                                                           parents = [self, other]\n",
       "    79                                                           rand_parent = random.randint(0,1)\n",
       "    80                                                           child_vector[i] = parents[rand_parent].vector[i]\n",
       "    81                                                   #If we are not doing simple crossover, we're going to evaluate the complex crossover\n",
       "    82                                                   else:\n",
       "    83         3         36.0     12.0      0.9              for i in range(self.vector_length):\n",
       "    84         2         50.0     25.0      1.2                  parent_param_tuple = (self.vector[i], other.vector[i])\n",
       "    85         2         20.0     10.0      0.5                  param_bounds = self.parameter_bounds[i]\n",
       "    86         2       1766.0    883.0     43.2                  child_vector[i] = self._complex_crossover(parent_param_tuple, param_bounds)\n",
       "    87                                                   \n",
       "    88         1         27.0     27.0      0.7          child_mutation_rate = self.mutation_rate + (random.random() * (0.4) - 0.2) * self.mutation_rate\n",
       "    89                                           \n",
       "    90         1         82.0     82.0      2.0          child_vector = self.mutate(child_vector, child_mutation_rate)\n",
       "    91         1         15.0     15.0      0.4          child_generation = max(self.generation, other.generation) + 1\n",
       "    92                                                   \n",
       "    93         1       1969.0   1969.0     48.2          child = Genetic_Vector(child_vector, child_generation, self.parameter_bounds, self.fitness, mutation_rate = child_mutation_rate, simple_mutation = self.simple_mutation, simple_crossover = self.simple_crossover, crossover_function = self.crossover_function, type_check = False)\n",
       "    94                                           \n",
       "    95         1          8.0      8.0      0.2          return child"
      ]
     },
     "metadata": {},
     "output_type": "display_data"
    }
   ],
   "source": [
    "%lprun -f rmom.mate rmom.mate(rdad)"
   ]
  },
  {
   "cell_type": "code",
   "execution_count": 35,
   "metadata": {},
   "outputs": [
    {
     "data": {
      "text/plain": [
       "Timer unit: 1e-07 s\n",
       "\n",
       "Total time: 0.0018003 s\n",
       "File: <ipython-input-7-35825789bbce>\n",
       "Function: fitness at line 11\n",
       "\n",
       "Line #      Hits         Time  Per Hit   % Time  Line Contents\n",
       "==============================================================\n",
       "    11                                           def fitness(alpha, initial_level = None):\n",
       "    12         1       3501.0   3501.0     19.4      f = das.exponential_smoothing(bdf['Obs'], alpha, 0, initial_level=initial_level)\n",
       "    13         1       4459.0   4459.0     24.8      adf = pd.Series(f[:-1], index=bdf.index).rename(\"Obs\")\n",
       "    14         1      10043.0  10043.0     55.8      return sse(adf)"
      ]
     },
     "metadata": {},
     "output_type": "display_data"
    }
   ],
   "source": [
    "%lprun -f fitness fitness(0.5,50)"
   ]
  },
  {
   "cell_type": "code",
   "execution_count": 36,
   "metadata": {},
   "outputs": [
    {
     "data": {
      "text/plain": [
       "Timer unit: 1e-07 s\n",
       "\n",
       "Total time: 0.0002848 s\n",
       "File: <ipython-input-7-35825789bbce>\n",
       "Function: fitness2 at line 16\n",
       "\n",
       "Line #      Hits         Time  Per Hit   % Time  Line Contents\n",
       "==============================================================\n",
       "    16                                           def fitness2(alpha, initial_level = None):\n",
       "    17         1       2848.0   2848.0    100.0      return das.fast_exponential_smoothing(bdf['Obs'],alpha, 0, initial_level=initial_level)"
      ]
     },
     "metadata": {},
     "output_type": "display_data"
    }
   ],
   "source": [
    "%lprun -f fitness2 fitness2(0.5, 50)"
   ]
  },
  {
   "cell_type": "code",
   "execution_count": 26,
   "metadata": {},
   "outputs": [
    {
     "data": {
      "text/plain": [
       "Timer unit: 1e-07 s\n",
       "\n",
       "Total time: 8.82e-05 s\n",
       "File: <ipython-input-1-35825789bbce>\n",
       "Function: crossover at line 19\n",
       "\n",
       "Line #      Hits         Time  Per Hit   % Time  Line Contents\n",
       "==============================================================\n",
       "    19                                           def crossover(params):\n",
       "    20         1         20.0     20.0      2.3      mom, dad = params\n",
       "    21         1        678.0    678.0     76.9      avg = np.mean([mom, dad])\n",
       "    22         1         39.0     39.0      4.4      std = max((avg + mom) / 2,.1)\n",
       "    23         1        145.0    145.0     16.4      return np.random.normal(avg, std)"
      ]
     },
     "metadata": {},
     "output_type": "display_data"
    }
   ],
   "source": [
    "%lprun -f crossover crossover((0.1,0.9))"
   ]
  },
  {
   "cell_type": "code",
   "execution_count": 20,
   "metadata": {},
   "outputs": [
    {
     "data": {
      "text/plain": [
       "Timer unit: 1e-07 s\n",
       "\n",
       "Total time: 3.77e-05 s\n",
       "File: <ipython-input-1-dd2356bf5ca7>\n",
       "Function: crossover at line 19\n",
       "\n",
       "Line #      Hits         Time  Per Hit   % Time  Line Contents\n",
       "==============================================================\n",
       "    19                                           def crossover(params):\n",
       "    20         1         20.0     20.0      5.3      mom, dad = params\n",
       "    21         1         23.0     23.0      6.1      avg = (mom + dad) / 2\n",
       "    22         1         25.0     25.0      6.6      std = max((avg + mom) / 2,.1)\n",
       "    23         1        309.0    309.0     82.0      return np.random.normal(avg, std)"
      ]
     },
     "metadata": {},
     "output_type": "display_data"
    }
   ],
   "source": [
    "%lprun -f crossover crossover((0.1,0.9))"
   ]
  },
  {
   "cell_type": "code",
   "execution_count": 17,
   "metadata": {},
   "outputs": [],
   "source": [
    "mom, dad = p.pool[-2:]\n",
    "rmom, rdad = r.pool[-2:]"
   ]
  },
  {
   "cell_type": "code",
   "execution_count": 16,
   "metadata": {},
   "outputs": [
    {
     "data": {
      "text/plain": [
       "{'vector': array([  0.74227703, 426.29766868]),\n",
       " 'generation': 653,\n",
       " 'parameter_bounds': [(0.0, 1.0), (363.2468, 659.796)],\n",
       " 'fitness': <function __main__.fitness(alpha, initial_level=None)>,\n",
       " 'simple_mutation': True,\n",
       " 'mutation_rate': 0.0003587751202157722,\n",
       " 'simple_crossover': False,\n",
       " 'crossover_function': <function __main__.crossover(params)>,\n",
       " 'creep_mutate': True,\n",
       " 'fitness_val': -14783.51436726081,\n",
       " 'vector_length': 2}"
      ]
     },
     "execution_count": 16,
     "metadata": {},
     "output_type": "execute_result"
    }
   ],
   "source": []
  },
  {
   "cell_type": "code",
   "execution_count": 32,
   "metadata": {},
   "outputs": [
    {
     "data": {
      "text/plain": [
       "4.0"
      ]
     },
     "execution_count": 32,
     "metadata": {},
     "output_type": "execute_result"
    }
   ],
   "source": [
    "np.mean([1,2,3,4,5,6,7])"
   ]
  },
  {
   "cell_type": "code",
   "execution_count": null,
   "metadata": {},
   "outputs": [],
   "source": []
  }
 ],
 "metadata": {
  "kernelspec": {
   "display_name": "Python 3",
   "language": "python",
   "name": "python3"
  },
  "language_info": {
   "codemirror_mode": {
    "name": "ipython",
    "version": 3
   },
   "file_extension": ".py",
   "mimetype": "text/x-python",
   "name": "python",
   "nbconvert_exporter": "python",
   "pygments_lexer": "ipython3",
   "version": "3.7.4"
  }
 },
 "nbformat": 4,
 "nbformat_minor": 4
}
