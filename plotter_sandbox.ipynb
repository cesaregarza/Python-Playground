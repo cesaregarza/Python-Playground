{
 "cells": [
  {
   "cell_type": "code",
   "execution_count": 36,
   "metadata": {},
   "outputs": [
    {
     "output_type": "display_data",
     "data": {
      "text/plain": "<Figure size 432x288 with 1 Axes>",
      "image/svg+xml": "<?xml version=\"1.0\" encoding=\"utf-8\" standalone=\"no\"?>\n<!DOCTYPE svg PUBLIC \"-//W3C//DTD SVG 1.1//EN\"\n  \"http://www.w3.org/Graphics/SVG/1.1/DTD/svg11.dtd\">\n<!-- Created with matplotlib (https://matplotlib.org/) -->\n<svg height=\"248.518125pt\" version=\"1.1\" viewBox=\"0 0 352.7 248.518125\" width=\"352.7pt\" xmlns=\"http://www.w3.org/2000/svg\" xmlns:xlink=\"http://www.w3.org/1999/xlink\">\n <defs>\n  <style type=\"text/css\">\n*{stroke-linecap:butt;stroke-linejoin:round;}\n  </style>\n </defs>\n <g id=\"figure_1\">\n  <g id=\"patch_1\">\n   <path d=\"M 0 248.518125 \nL 352.7 248.518125 \nL 352.7 0 \nL 0 0 \nz\n\" style=\"fill:none;\"/>\n  </g>\n  <g id=\"axes_1\">\n   <g id=\"patch_2\">\n    <path d=\"M 10.7 224.64 \nL 345.5 224.64 \nL 345.5 7.2 \nL 10.7 7.2 \nz\n\" style=\"fill:#ffffff;\"/>\n   </g>\n   <g id=\"PolyCollection_1\">\n    <defs>\n     <path d=\"M 25.918182 -33.761761 \nL 25.918182 -35.958715 \nL 28.992562 -36.391945 \nL 32.066942 -36.89906 \nL 35.141322 -37.49023 \nL 38.215702 -38.17655 \nL 41.290083 -38.970039 \nL 44.364463 -39.883617 \nL 47.438843 -40.931064 \nL 50.513223 -42.126945 \nL 53.587603 -43.486521 \nL 56.661983 -45.025617 \nL 59.736364 -46.760466 \nL 62.810744 -48.707516 \nL 65.885124 -50.883206 \nL 68.959504 -53.303706 \nL 72.033884 -55.984621 \nL 75.108264 -58.940671 \nL 75.108264 -33.761761 \nL 75.108264 -33.761761 \nL 72.033884 -33.761761 \nL 68.959504 -33.761761 \nL 65.885124 -33.761761 \nL 62.810744 -33.761761 \nL 59.736364 -33.761761 \nL 56.661983 -33.761761 \nL 53.587603 -33.761761 \nL 50.513223 -33.761761 \nL 47.438843 -33.761761 \nL 44.364463 -33.761761 \nL 41.290083 -33.761761 \nL 38.215702 -33.761761 \nL 35.141322 -33.761761 \nL 32.066942 -33.761761 \nL 28.992562 -33.761761 \nL 25.918182 -33.761761 \nz\n\" id=\"m3748589f0d\" style=\"stroke:#ff0000;stroke-opacity:0.5;\"/>\n    </defs>\n    <g clip-path=\"url(#p179ac01594)\">\n     <use style=\"fill:#ff0000;fill-opacity:0.5;stroke:#ff0000;stroke-opacity:0.5;\" x=\"0\" xlink:href=\"#m3748589f0d\" y=\"248.518125\"/>\n    </g>\n   </g>\n   <g id=\"matplotlib.axis_1\">\n    <g id=\"xtick_1\">\n     <g id=\"line2d_1\">\n      <defs>\n       <path d=\"M 0 0 \nL 0 3.5 \n\" id=\"m692d3c3898\" style=\"stroke:#000000;stroke-width:0.8;\"/>\n      </defs>\n      <g>\n       <use style=\"stroke:#000000;stroke-width:0.8;\" x=\"25.918182\" xlink:href=\"#m692d3c3898\" y=\"224.64\"/>\n      </g>\n     </g>\n    </g>\n    <g id=\"xtick_2\">\n     <g id=\"line2d_2\">\n      <g>\n       <use style=\"stroke:#000000;stroke-width:0.8;\" x=\"76.645455\" xlink:href=\"#m692d3c3898\" y=\"224.64\"/>\n      </g>\n     </g>\n    </g>\n    <g id=\"xtick_3\">\n     <g id=\"line2d_3\">\n      <g>\n       <use style=\"stroke:#000000;stroke-width:0.8;\" x=\"127.372727\" xlink:href=\"#m692d3c3898\" y=\"224.64\"/>\n      </g>\n     </g>\n    </g>\n    <g id=\"xtick_4\">\n     <g id=\"line2d_4\">\n      <g>\n       <use style=\"stroke:#000000;stroke-width:0.8;\" x=\"178.1\" xlink:href=\"#m692d3c3898\" y=\"224.64\"/>\n      </g>\n     </g>\n     <g id=\"text_1\">\n      <!-- $\\mu$ -->\n      <defs>\n       <path d=\"M -1.3125 -20.796875 \nL 13.375 54.6875 \nL 22.40625 54.6875 \nL 15.765625 20.65625 \nQ 15.578125 19.625 15.421875 18.359375 \nQ 15.28125 17.09375 15.28125 15.828125 \nQ 15.28125 11.28125 18.140625 8.828125 \nQ 21 6.390625 26.3125 6.390625 \nQ 33.546875 6.390625 37.984375 10.484375 \nQ 42.4375 14.59375 44 22.796875 \nL 50.203125 54.6875 \nL 59.1875 54.6875 \nL 51.03125 12.640625 \nQ 50.828125 11.71875 50.75 11.03125 \nQ 50.6875 10.359375 50.6875 9.8125 \nQ 50.6875 8.296875 51.296875 7.59375 \nQ 51.90625 6.890625 53.21875 6.890625 \nQ 53.71875 6.890625 54.5625 7.125 \nQ 55.421875 7.375 56.984375 8.015625 \nL 55.609375 0.78125 \nQ 53.46875 -0.296875 51.515625 -0.859375 \nQ 49.5625 -1.421875 47.703125 -1.421875 \nQ 44.484375 -1.421875 42.65625 0.625 \nQ 40.828125 2.6875 40.828125 6.296875 \nQ 38.09375 2.390625 34.296875 0.484375 \nQ 30.515625 -1.421875 25.390625 -1.421875 \nQ 20.84375 -1.421875 17.453125 0.671875 \nQ 14.0625 2.78125 12.984375 6.203125 \nL 7.71875 -20.796875 \nz\n\" id=\"DejaVuSans-Oblique-956\"/>\n      </defs>\n      <g transform=\"translate(174.9 239.218125)scale(0.1 -0.1)\">\n       <use transform=\"translate(0 0.3125)\" xlink:href=\"#DejaVuSans-Oblique-956\"/>\n      </g>\n     </g>\n    </g>\n    <g id=\"xtick_5\">\n     <g id=\"line2d_5\">\n      <g>\n       <use style=\"stroke:#000000;stroke-width:0.8;\" x=\"228.827273\" xlink:href=\"#m692d3c3898\" y=\"224.64\"/>\n      </g>\n     </g>\n    </g>\n    <g id=\"xtick_6\">\n     <g id=\"line2d_6\">\n      <g>\n       <use style=\"stroke:#000000;stroke-width:0.8;\" x=\"279.554545\" xlink:href=\"#m692d3c3898\" y=\"224.64\"/>\n      </g>\n     </g>\n    </g>\n    <g id=\"xtick_7\">\n     <g id=\"line2d_7\">\n      <g>\n       <use style=\"stroke:#000000;stroke-width:0.8;\" x=\"330.281818\" xlink:href=\"#m692d3c3898\" y=\"224.64\"/>\n      </g>\n     </g>\n    </g>\n   </g>\n   <g id=\"matplotlib.axis_2\">\n    <g id=\"ytick_1\">\n     <g id=\"line2d_8\">\n      <defs>\n       <path d=\"M 0 0 \nL -3.5 0 \n\" id=\"m092ce1a46a\" style=\"stroke:#000000;stroke-width:0.8;\"/>\n      </defs>\n      <g>\n       <use style=\"stroke:#000000;stroke-width:0.8;\" x=\"10.7\" xlink:href=\"#m092ce1a46a\" y=\"214.756364\"/>\n      </g>\n     </g>\n    </g>\n    <g id=\"ytick_2\">\n     <g id=\"line2d_9\">\n      <g>\n       <use style=\"stroke:#000000;stroke-width:0.8;\" x=\"10.7\" xlink:href=\"#m092ce1a46a\" y=\"189.970384\"/>\n      </g>\n     </g>\n    </g>\n    <g id=\"ytick_3\">\n     <g id=\"line2d_10\">\n      <g>\n       <use style=\"stroke:#000000;stroke-width:0.8;\" x=\"10.7\" xlink:href=\"#m092ce1a46a\" y=\"165.184404\"/>\n      </g>\n     </g>\n    </g>\n    <g id=\"ytick_4\">\n     <g id=\"line2d_11\">\n      <g>\n       <use style=\"stroke:#000000;stroke-width:0.8;\" x=\"10.7\" xlink:href=\"#m092ce1a46a\" y=\"140.398424\"/>\n      </g>\n     </g>\n    </g>\n    <g id=\"ytick_5\">\n     <g id=\"line2d_12\">\n      <g>\n       <use style=\"stroke:#000000;stroke-width:0.8;\" x=\"10.7\" xlink:href=\"#m092ce1a46a\" y=\"115.612444\"/>\n      </g>\n     </g>\n    </g>\n    <g id=\"ytick_6\">\n     <g id=\"line2d_13\">\n      <g>\n       <use style=\"stroke:#000000;stroke-width:0.8;\" x=\"10.7\" xlink:href=\"#m092ce1a46a\" y=\"90.826464\"/>\n      </g>\n     </g>\n    </g>\n    <g id=\"ytick_7\">\n     <g id=\"line2d_14\">\n      <g>\n       <use style=\"stroke:#000000;stroke-width:0.8;\" x=\"10.7\" xlink:href=\"#m092ce1a46a\" y=\"66.040484\"/>\n      </g>\n     </g>\n    </g>\n    <g id=\"ytick_8\">\n     <g id=\"line2d_15\">\n      <g>\n       <use style=\"stroke:#000000;stroke-width:0.8;\" x=\"10.7\" xlink:href=\"#m092ce1a46a\" y=\"41.254504\"/>\n      </g>\n     </g>\n    </g>\n    <g id=\"ytick_9\">\n     <g id=\"line2d_16\">\n      <g>\n       <use style=\"stroke:#000000;stroke-width:0.8;\" x=\"10.7\" xlink:href=\"#m092ce1a46a\" y=\"16.468524\"/>\n      </g>\n     </g>\n    </g>\n   </g>\n   <g id=\"line2d_17\">\n    <path clip-path=\"url(#p179ac01594)\" d=\"M 25.918182 212.55941 \nL 28.992562 212.12618 \nL 32.066942 211.619065 \nL 35.141322 211.027895 \nL 38.215702 210.341575 \nL 41.290083 209.548086 \nL 44.364463 208.634508 \nL 47.438843 207.587061 \nL 50.513223 206.39118 \nL 53.587603 205.031604 \nL 56.661983 203.492508 \nL 59.736364 201.757659 \nL 62.810744 199.810609 \nL 65.885124 197.634919 \nL 68.959504 195.214419 \nL 72.033884 192.533504 \nL 75.108264 189.577454 \nL 78.182645 186.332791 \nL 81.257025 182.787646 \nL 84.331405 178.932158 \nL 87.405785 174.758877 \nL 90.480165 170.263164 \nL 93.554545 165.443596 \nL 96.628926 160.302349 \nL 99.703306 154.845549 \nL 102.777686 149.083593 \nL 105.852066 143.031414 \nL 108.926446 136.70869 \nL 112.000826 130.139979 \nL 115.075207 123.354771 \nL 118.149587 116.387454 \nL 121.223967 109.277183 \nL 124.298347 102.067647 \nL 127.372727 94.806733 \nL 130.447107 87.546089 \nL 133.521488 80.340583 \nL 136.595868 73.247669 \nL 139.670248 66.326671 \nL 142.744628 59.63799 \nL 145.819008 53.242244 \nL 148.893388 47.199377 \nL 151.967769 41.56773 \nL 155.042149 36.403116 \nL 158.116529 31.757895 \nL 161.190909 27.680102 \nL 164.265289 24.212614 \nL 167.339669 21.392406 \nL 170.41405 19.249891 \nL 173.48843 17.808375 \nL 176.56281 17.083636 \nL 179.63719 17.083636 \nL 182.71157 17.808375 \nL 185.78595 19.249891 \nL 188.860331 21.392406 \nL 191.934711 24.212614 \nL 195.009091 27.680102 \nL 198.083471 31.757895 \nL 201.157851 36.403116 \nL 204.232231 41.56773 \nL 207.306612 47.199377 \nL 210.380992 53.242244 \nL 213.455372 59.63799 \nL 216.529752 66.326671 \nL 219.604132 73.247669 \nL 222.678512 80.340583 \nL 225.752893 87.546089 \nL 228.827273 94.806733 \nL 231.901653 102.067647 \nL 234.976033 109.277183 \nL 238.050413 116.387454 \nL 241.124793 123.354771 \nL 244.199174 130.139979 \nL 247.273554 136.70869 \nL 250.347934 143.031414 \nL 253.422314 149.083593 \nL 256.496694 154.845549 \nL 259.571074 160.302349 \nL 262.645455 165.443596 \nL 265.719835 170.263164 \nL 268.794215 174.758877 \nL 271.868595 178.932158 \nL 274.942975 182.787646 \nL 278.017355 186.332791 \nL 281.091736 189.577454 \nL 284.166116 192.533504 \nL 287.240496 195.214419 \nL 290.314876 197.634919 \nL 293.389256 199.810609 \nL 296.463636 201.757659 \nL 299.538017 203.492508 \nL 302.612397 205.031604 \nL 305.686777 206.39118 \nL 308.761157 207.587061 \nL 311.835537 208.634508 \nL 314.909917 209.548086 \nL 317.984298 210.341575 \nL 321.058678 211.027895 \nL 324.133058 211.619065 \nL 327.207438 212.12618 \nL 330.281818 212.55941 \n\" style=\"fill:none;stroke:#000000;stroke-linecap:square;stroke-width:1.5;\"/>\n   </g>\n   <g id=\"patch_3\">\n    <path d=\"M 10.7 224.64 \nL 10.7 7.2 \n\" style=\"fill:none;stroke:#000000;stroke-linecap:square;stroke-linejoin:miter;stroke-width:0.8;\"/>\n   </g>\n   <g id=\"patch_4\">\n    <path d=\"M 345.5 224.64 \nL 345.5 7.2 \n\" style=\"fill:none;stroke:#000000;stroke-linecap:square;stroke-linejoin:miter;stroke-width:0.8;\"/>\n   </g>\n   <g id=\"patch_5\">\n    <path d=\"M 10.7 224.64 \nL 345.5 224.64 \n\" style=\"fill:none;stroke:#000000;stroke-linecap:square;stroke-linejoin:miter;stroke-width:0.8;\"/>\n   </g>\n   <g id=\"patch_6\">\n    <path d=\"M 10.7 7.2 \nL 345.5 7.2 \n\" style=\"fill:none;stroke:#000000;stroke-linecap:square;stroke-linejoin:miter;stroke-width:0.8;\"/>\n   </g>\n   <g id=\"text_2\">\n    <!-- $-z+\\mu$ -->\n    <defs>\n     <path d=\"M 10.59375 35.5 \nL 73.1875 35.5 \nL 73.1875 27.203125 \nL 10.59375 27.203125 \nz\n\" id=\"DejaVuSans-8722\"/>\n     <path d=\"M 11.625 54.6875 \nL 54.296875 54.6875 \nL 52.6875 46.484375 \nL 11.53125 7.171875 \nL 45.515625 7.171875 \nL 44.09375 0 \nL -0.296875 0 \nL 1.3125 8.203125 \nL 42.484375 47.515625 \nL 10.203125 47.515625 \nz\n\" id=\"DejaVuSans-Oblique-122\"/>\n     <path d=\"M 46 62.703125 \nL 46 35.5 \nL 73.1875 35.5 \nL 73.1875 27.203125 \nL 46 27.203125 \nL 46 0 \nL 37.796875 0 \nL 37.796875 27.203125 \nL 10.59375 27.203125 \nL 10.59375 35.5 \nL 37.796875 35.5 \nL 37.796875 62.703125 \nz\n\" id=\"DejaVuSans-43\"/>\n    </defs>\n    <g transform=\"translate(46.209091 177.577394)scale(0.1 -0.1)\">\n     <use transform=\"translate(0 0.296875)\" xlink:href=\"#DejaVuSans-8722\"/>\n     <use transform=\"translate(83.789062 0.296875)\" xlink:href=\"#DejaVuSans-Oblique-122\"/>\n     <use transform=\"translate(155.761719 0.296875)\" xlink:href=\"#DejaVuSans-43\"/>\n     <use transform=\"translate(259.033203 0.296875)\" xlink:href=\"#DejaVuSans-Oblique-956\"/>\n    </g>\n   </g>\n  </g>\n </g>\n <defs>\n  <clipPath id=\"p179ac01594\">\n   <rect height=\"217.44\" width=\"334.8\" x=\"10.7\" y=\"7.2\"/>\n  </clipPath>\n </defs>\n</svg>\n",
      "image/png": "[encoded data removed]"
     },
     "metadata": {
      "needs_background": "light"
     }
    }
   ],
   "source": [
    "import matplotlib.pyplot as plt\n",
    "import matplotlib.patches as mpatches\n",
    "import numpy as np\n",
    "import scipy.stats as stats\n",
    "import math\n",
    "\n",
    "inner=\"green\"\n",
    "outer=\"orange\"\n",
    "\n",
    "mu = 0\n",
    "variance = 1\n",
    "sigma = math.sqrt(variance)\n",
    "\n",
    "x = np.linspace(mu - 3*sigma, mu + 3*sigma, 100)\n",
    "x1 = x[(x >= -2) & (x <= 2)]\n",
    "x2 = x[(x <= -2) | (x == x1[0])]\n",
    "x3 = x[(x >= 2) | (x == x1[-1])]\n",
    "\n",
    "x4 = x[x < 2]\n",
    "x5 = x[x < -2]\n",
    "\n",
    "y = stats.norm.pdf(x, mu, sigma)\n",
    "y1 = y[np.argwhere((x >= -2) & (x <= 2))].T.flatten()\n",
    "y2 = y[np.argwhere((x <= -2) | (x == x1[0]))].T.flatten()\n",
    "y3 = y[np.argwhere((x >=  2) | (x == x1[-1]))].T.flatten()\n",
    "\n",
    "y4 = y[np.argwhere(x < 2)].T.flatten()\n",
    "y5 = y[np.argwhere(x < -2)].T.flatten()\n",
    "\n",
    "\n",
    "n = plt.figure()\n",
    "\n",
    "# inner_patch = mpatches.Patch(color=inner, label='Crossover')\n",
    "# outer_patch = mpatches.Patch(color=outer, label='Mutation')\n",
    "# plt.legend(handles=[inner_patch, outer_patch])\n",
    "\n",
    "plt.plot(x, y, color=\"black\")\n",
    "# plt.fill_between(x1, y1, 0, alpha=0.7, color=inner)\n",
    "# plt.fill_between(x2, y2, 0, alpha=0.7, color=outer)\n",
    "# plt.fill_between(x3, y3, 0, alpha=0.7, color=outer)\n",
    "# plt.fill_between(x4, y4, 0, alpha=0.5, color=\"blue\")\n",
    "plt.fill_between(x5, y5, 0, alpha=0.5, color=\"red\")\n",
    "plt.xticks(np.arange(7)-3, [\"\", \"\", \"\", r\"$\\mu$\", \"\", \"\", \"\"])\n",
    "plt.yticks(np.arange(0.0, 0.45, 0.05), [\"\"]*9)\n",
    "# plt.text(2, .075, r'$z+\\mu$')\n",
    "plt.text(-2.6, .075, r'$-z+\\mu$')\n",
    "\n",
    "plt.show()"
   ]
  },
  {
   "cell_type": "code",
   "execution_count": 37,
   "metadata": {},
   "outputs": [],
   "source": [
    "n.savefig(\"cdf2.png\", transparent=True, dpi=200)"
   ]
  },
  {
   "cell_type": "code",
   "execution_count": 49,
   "metadata": {},
   "outputs": [
    {
     "output_type": "execute_result",
     "data": {
      "text/plain": "array([0.00443185, 0.00530579, 0.00632878, 0.00752133, 0.00890582,\n       0.0105065 , 0.01234943, 0.01446241, 0.01687483, 0.01961746,\n       0.02272223, 0.02622189, 0.03014961, 0.03453857, 0.03942137,\n       0.0448295 , 0.05079264, 0.05733801, 0.06448952, 0.07226707,\n       0.08068571, 0.08975477, 0.09947714, 0.10984842, 0.12085626,\n       0.13247967, 0.14468855, 0.15744319, 0.17069405, 0.18438164,\n       0.1984366 , 0.21277993, 0.22732351, 0.24197072, 0.2566174 ,\n       0.27115285, 0.28546117, 0.29942268, 0.31291556, 0.3258175 ,\n       0.33800759, 0.34936814, 0.35978656, 0.36915722, 0.37738323,\n       0.38437808, 0.3900672 , 0.39438923, 0.39729716, 0.39875915,\n       0.39875915, 0.39729716, 0.39438923, 0.3900672 , 0.38437808,\n       0.37738323, 0.36915722, 0.35978656, 0.34936814, 0.33800759,\n       0.3258175 , 0.31291556, 0.29942268, 0.28546117, 0.27115285,\n       0.2566174 , 0.24197072, 0.22732351, 0.21277993, 0.1984366 ,\n       0.18438164, 0.17069405, 0.15744319, 0.14468855, 0.13247967,\n       0.12085626, 0.10984842, 0.09947714, 0.08975477, 0.08068571,\n       0.07226707, 0.06448952, 0.05733801, 0.05079264, 0.0448295 ,\n       0.03942137, 0.03453857, 0.03014961, 0.02622189, 0.02272223,\n       0.01961746, 0.01687483, 0.01446241, 0.01234943, 0.0105065 ,\n       0.00890582, 0.00752133, 0.00632878, 0.00530579, 0.00443185])"
     },
     "metadata": {},
     "execution_count": 49
    }
   ],
   "source": [
    "y"
   ]
  },
  {
   "cell_type": "code",
   "execution_count": 38,
   "metadata": {},
   "outputs": [],
   "source": [
    "from scipy.special import erfinv"
   ]
  },
  {
   "cell_type": "code",
   "execution_count": 39,
   "metadata": {},
   "outputs": [
    {
     "output_type": "execute_result",
     "data": {
      "text/plain": "1.2999999999968652"
     },
     "metadata": {},
     "execution_count": 39
    }
   ],
   "source": [
    "erfinv(0.93400794494)"
   ]
  },
  {
   "cell_type": "code",
   "execution_count": 40,
   "metadata": {},
   "outputs": [],
   "source": [
    "import scipy.optimize"
   ]
  },
  {
   "cell_type": "code",
   "execution_count": 41,
   "metadata": {},
   "outputs": [],
   "source": [
    "from scipy.special import erf"
   ]
  },
  {
   "cell_type": "code",
   "execution_count": 53,
   "metadata": {},
   "outputs": [],
   "source": [
    "def Fxn(s):\n",
    "    def F(x):\n",
    "        return erf(x/np.sqrt(2)) + s - 1\n",
    "    return F"
   ]
  },
  {
   "cell_type": "code",
   "execution_count": 61,
   "metadata": {},
   "outputs": [
    {
     "output_type": "execute_result",
     "data": {
      "text/plain": "array([1.81190499])"
     },
     "metadata": {},
     "execution_count": 61
    }
   ],
   "source": [
    "scipy.optimize.broyden2(Fxn(0.0), [1])"
   ]
  },
  {
   "cell_type": "code",
   "execution_count": 45,
   "metadata": {},
   "outputs": [
    {
     "output_type": "execute_result",
     "data": {
      "text/plain": "<function __main__.Fxn.<locals>.F(x)>"
     },
     "metadata": {},
     "execution_count": 45
    }
   ],
   "source": [
    "Fxn(0.95)"
   ]
  },
  {
   "cell_type": "code",
   "execution_count": 65,
   "metadata": {},
   "outputs": [],
   "source": [
    "def float_crossover(mom, dad, n):\n",
    "    avg = (mom + dad) / 2\n",
    "    std = abs(mom - dad) / (2 * n)\n",
    "    return np.random.normal(avg, std)"
   ]
  },
  {
   "cell_type": "code",
   "execution_count": 78,
   "metadata": {},
   "outputs": [],
   "source": [
    "def plot_dist(loops, n, mom=0, dad=1):\n",
    "    y = []\n",
    "    for _ in range(loops):\n",
    "        y += [float_crossover(mom, dad, n)]\n",
    "    \n",
    "    y = np.asarray(y)\n",
    "    return len(y[(y < mom) | (y > dad)])/loops"
   ]
  },
  {
   "cell_type": "code",
   "execution_count": 79,
   "metadata": {},
   "outputs": [
    {
     "output_type": "execute_result",
     "data": {
      "text/plain": "0.0702"
     },
     "metadata": {},
     "execution_count": 79
    }
   ],
   "source": [
    "plot_dist(100000,1.81190499, 1.5, 3)"
   ]
  },
  {
   "cell_type": "code",
   "execution_count": 88,
   "metadata": {},
   "outputs": [],
   "source": [
    "def test_fxn(p, loops, mom=0, dad=1):\n",
    "    a = scipy.optimize.broyden1(Fxn(p),[1])[0]\n",
    "    return plot_dist(loops, a, mom, dad) - p"
   ]
  },
  {
   "cell_type": "code",
   "execution_count": 97,
   "metadata": {},
   "outputs": [
    {
     "output_type": "execute_result",
     "data": {
      "text/plain": "0.0014600000000000168"
     },
     "metadata": {},
     "execution_count": 97
    }
   ],
   "source": [
    "test_fxn(0.9, 100000, -20, 20)"
   ]
  },
  {
   "cell_type": "code",
   "execution_count": 93,
   "metadata": {},
   "outputs": [
    {
     "output_type": "error",
     "ename": "NameError",
     "evalue": "name 's' is not defined",
     "traceback": [
      "\u001b[0;31m---------------------------------------------------------------------------\u001b[0m",
      "\u001b[0;31mNameError\u001b[0m                                 Traceback (most recent call last)",
      "\u001b[0;32m<ipython-input-93-ded5ba42480f>\u001b[0m in \u001b[0;36m<module>\u001b[0;34m\u001b[0m\n\u001b[0;32m----> 1\u001b[0;31m \u001b[0ms\u001b[0m\u001b[0;34m\u001b[0m\u001b[0;34m\u001b[0m\u001b[0m\n\u001b[0m",
      "\u001b[0;31mNameError\u001b[0m: name 's' is not defined"
     ]
    }
   ],
   "source": [
    "s"
   ]
  },
  {
   "cell_type": "code",
   "execution_count": 1,
   "metadata": {},
   "outputs": [],
   "source": [
    "import ets_fitness"
   ]
  },
  {
   "cell_type": "code",
   "execution_count": 3,
   "metadata": {},
   "outputs": [],
   "source": [
    "k = ets_fitness.float_crossover_mutation(0.05)"
   ]
  },
  {
   "cell_type": "code",
   "execution_count": 6,
   "metadata": {},
   "outputs": [
    {
     "output_type": "execute_result",
     "data": {
      "text/plain": "4.054848120829439"
     },
     "metadata": {},
     "execution_count": 6
    }
   ],
   "source": [
    "k(3, 5)"
   ]
  },
  {
   "cell_type": "code",
   "execution_count": null,
   "metadata": {},
   "outputs": [],
   "source": []
  }
 ],
 "metadata": {
  "language_info": {
   "codemirror_mode": {
    "name": "ipython",
    "version": 3
   },
   "file_extension": ".py",
   "mimetype": "text/x-python",
   "name": "python",
   "nbconvert_exporter": "python",
   "pygments_lexer": "ipython3",
   "version": "3.7.6-final"
  },
  "orig_nbformat": 2,
  "kernelspec": {
   "name": "python3",
   "display_name": "Python 3"
  }
 },
 "nbformat": 4,
 "nbformat_minor": 2
}