{
 "metadata": {
  "language_info": {
   "codemirror_mode": {
    "name": "ipython",
    "version": 3
   },
   "file_extension": ".py",
   "mimetype": "text/x-python",
   "name": "python",
   "nbconvert_exporter": "python",
   "pygments_lexer": "ipython3",
   "version": "3.8.5-final"
  },
  "orig_nbformat": 2,
  "kernelspec": {
   "name": "python3",
   "display_name": "Python 3"
  }
 },
 "nbformat": 4,
 "nbformat_minor": 2,
 "cells": [
  {
   "cell_type": "code",
   "execution_count": 1,
   "metadata": {},
   "outputs": [],
   "source": [
    "import pandas as pd\n",
    "f = open(\"day_8_input.txt\")\n",
    "input_list = f.read().split(\"\\n\")\n",
    "input_list = [item.split(\" \") for item in input_list]"
   ]
  },
  {
   "cell_type": "code",
   "execution_count": 2,
   "metadata": {},
   "outputs": [],
   "source": [
    "action_df = pd.DataFrame(input_list, columns=[\"action\", \"value\"])\n",
    "action_df['value'] = action_df['value'].astype(int)"
   ]
  },
  {
   "cell_type": "code",
   "execution_count": 3,
   "metadata": {},
   "outputs": [
    {
     "output_type": "execute_result",
     "data": {
      "text/plain": [
       "    action  value\n",
       "0      acc     13\n",
       "1      acc     -6\n",
       "2      acc     -8\n",
       "3      jmp    140\n",
       "4      acc     44\n",
       "..     ...    ...\n",
       "618    acc     14\n",
       "619    acc     40\n",
       "620    acc     14\n",
       "621    acc     34\n",
       "622    jmp      1\n",
       "\n",
       "[623 rows x 2 columns]"
      ],
      "text/html": "<div>\n<style scoped>\n    .dataframe tbody tr th:only-of-type {\n        vertical-align: middle;\n    }\n\n    .dataframe tbody tr th {\n        vertical-align: top;\n    }\n\n    .dataframe thead th {\n        text-align: right;\n    }\n</style>\n<table border=\"1\" class=\"dataframe\">\n  <thead>\n    <tr style=\"text-align: right;\">\n      <th></th>\n      <th>action</th>\n      <th>value</th>\n    </tr>\n  </thead>\n  <tbody>\n    <tr>\n      <th>0</th>\n      <td>acc</td>\n      <td>13</td>\n    </tr>\n    <tr>\n      <th>1</th>\n      <td>acc</td>\n      <td>-6</td>\n    </tr>\n    <tr>\n      <th>2</th>\n      <td>acc</td>\n      <td>-8</td>\n    </tr>\n    <tr>\n      <th>3</th>\n      <td>jmp</td>\n      <td>140</td>\n    </tr>\n    <tr>\n      <th>4</th>\n      <td>acc</td>\n      <td>44</td>\n    </tr>\n    <tr>\n      <th>...</th>\n      <td>...</td>\n      <td>...</td>\n    </tr>\n    <tr>\n      <th>618</th>\n      <td>acc</td>\n      <td>14</td>\n    </tr>\n    <tr>\n      <th>619</th>\n      <td>acc</td>\n      <td>40</td>\n    </tr>\n    <tr>\n      <th>620</th>\n      <td>acc</td>\n      <td>14</td>\n    </tr>\n    <tr>\n      <th>621</th>\n      <td>acc</td>\n      <td>34</td>\n    </tr>\n    <tr>\n      <th>622</th>\n      <td>jmp</td>\n      <td>1</td>\n    </tr>\n  </tbody>\n</table>\n<p>623 rows × 2 columns</p>\n</div>"
     },
     "metadata": {},
     "execution_count": 3
    }
   ],
   "source": [
    "action_df"
   ]
  },
  {
   "cell_type": "code",
   "execution_count": 4,
   "metadata": {},
   "outputs": [],
   "source": [
    "def day_8_part_1():\n",
    "    #Set up the accumulator and the index of the action we're on. We also set up a set with previous_actions that will keep track of where we've been to point out any loops\n",
    "    accumulator, action_index = [0,0]\n",
    "    previous_actions = set()\n",
    "\n",
    "    #No \"while\" condition given since we're going to break out of it either through a loop in the actions list or through a key error\n",
    "    while True:\n",
    "        #Get the row from the action dataframe where our pointer is currently at\n",
    "        action, value = action_df.loc[action_index]\n",
    "\n",
    "        #If the index has already been visited, return the accumulator value. Otherwise, add it to our list of previous actions\n",
    "        if action_index in previous_actions:\n",
    "            return accumulator\n",
    "        else:\n",
    "            previous_actions.add(action_index)\n",
    "\n",
    "        #Simply encoding what to do at each action\n",
    "        if action == \"acc\":\n",
    "            accumulator += value\n",
    "            action_index += 1\n",
    "        elif action == \"jmp\":\n",
    "            action_index += value\n",
    "        elif action == \"nop\":\n",
    "            action_index += 1\n",
    "        "
   ]
  },
  {
   "cell_type": "code",
   "execution_count": 5,
   "metadata": {},
   "outputs": [
    {
     "output_type": "execute_result",
     "data": {
      "text/plain": [
       "1331"
      ]
     },
     "metadata": {},
     "execution_count": 5
    }
   ],
   "source": [
    "day_8_part_1()"
   ]
  },
  {
   "cell_type": "code",
   "execution_count": 6,
   "metadata": {},
   "outputs": [],
   "source": [
    "def day_8_part_2():\n",
    "\n",
    "    #Similar to part 1 above, but just the raw engine with a slight modification\n",
    "    def execute_actions(input_dataframe):\n",
    "        accumulator, action_index = [0,0]\n",
    "        previous_actions = set()\n",
    "\n",
    "        while True:\n",
    "            #Now, if there's a KeyError it means the program terminated by trying to reach outside the list of values. This KeyError will instead return the value of our accumulator\n",
    "            try:\n",
    "                action, value = input_dataframe.loc[action_index]\n",
    "            except KeyError:\n",
    "                return accumulator\n",
    "            \n",
    "            #Check if the action has already been executed. If so, return False.            \n",
    "            if action_index in previous_actions:\n",
    "                return False\n",
    "            else:\n",
    "                previous_actions.add(action_index)\n",
    "\n",
    "            if action == \"acc\":\n",
    "                accumulator += value\n",
    "                action_index += 1\n",
    "            elif action == \"jmp\":\n",
    "                action_index += value\n",
    "            elif action == \"nop\":\n",
    "                action_index += 1\n",
    "    \n",
    "    #Generate a list of indices where the action is either \"jmp\" or \"nop\"\n",
    "    index_of_non_acc = action_df.loc[action_df['action'] != 'acc'].index\n",
    "    #This dict will make it flipping the action more elegant\n",
    "\n",
    "    flipped_dict = {\n",
    "        \"jmp\": \"nop\",\n",
    "        \"nop\": \"jmp\"\n",
    "    }\n",
    "\n",
    "    #Iterate along each index containing either a \"jmp\" or \"nop\"\n",
    "    for flipped_index in index_of_non_acc:\n",
    "        #Create a copy of the original dataframe to prevent accidentally mutating the original data\n",
    "        action_df_copy = action_df.copy()\n",
    "\n",
    "        #Retrieve the action and value at the row located at the given index\n",
    "        action, value = action_df_copy.loc[flipped_index]\n",
    "\n",
    "        #Flip the action, then overwrite the old action with the new one\n",
    "        new_action = flipped_dict[action]\n",
    "        action_df_copy.loc[flipped_index, \"action\"] = new_action\n",
    "\n",
    "        #Execute the list of actions and store the returned value\n",
    "        return_value = execute_actions(action_df_copy)\n",
    "\n",
    "        #If False, the loop auto-terminated. Otherwise, the loop terminated by reaching the end of the file, so our answer has been found.\n",
    "        if return_value == False:\n",
    "            continue\n",
    "        else:\n",
    "            return return_value\n",
    "    \n",
    "    #This will never be reached but just for completeness.\n",
    "    return False"
   ]
  },
  {
   "cell_type": "code",
   "execution_count": 7,
   "metadata": {},
   "outputs": [
    {
     "output_type": "execute_result",
     "data": {
      "text/plain": [
       "1121"
      ]
     },
     "metadata": {},
     "execution_count": 7
    }
   ],
   "source": [
    "day_8_part_2()"
   ]
  },
  {
   "cell_type": "code",
   "execution_count": null,
   "metadata": {},
   "outputs": [],
   "source": []
  }
 ]
}