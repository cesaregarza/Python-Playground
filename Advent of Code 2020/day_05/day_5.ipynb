{
 "metadata": {
  "language_info": {
   "codemirror_mode": {
    "name": "ipython",
    "version": 3
   },
   "file_extension": ".py",
   "mimetype": "text/x-python",
   "name": "python",
   "nbconvert_exporter": "python",
   "pygments_lexer": "ipython3",
   "version": "3.8.5-final"
  },
  "orig_nbformat": 2,
  "kernelspec": {
   "name": "python3",
   "display_name": "Python 3"
  }
 },
 "nbformat": 4,
 "nbformat_minor": 2,
 "cells": [
  {
   "cell_type": "code",
   "execution_count": 1,
   "metadata": {},
   "outputs": [],
   "source": [
    "import pandas as pd\n",
    "f = open(\"day_5_input.txt\")\n",
    "input_list = f.read().split(\"\\n\")"
   ]
  },
  {
   "cell_type": "code",
   "execution_count": 2,
   "metadata": {},
   "outputs": [],
   "source": [
    "def input_to_binary_string(input_string):\n",
    "    input_string = input_string.replace(\"F\", \"0\") \\\n",
    "                               .replace(\"B\", \"1\") \\\n",
    "                               .replace(\"L\", \"0\") \\\n",
    "                               .replace(\"R\", \"1\")\n",
    "    \n",
    "    row = int(input_string[:-3], 2)\n",
    "    col = int(input_string[-3:], 2)\n",
    "    return [row, col]"
   ]
  },
  {
   "cell_type": "code",
   "execution_count": 3,
   "metadata": {},
   "outputs": [],
   "source": [
    "converted_list = [[item, *input_to_binary_string(item)] for item in input_list]\n",
    "df = pd.DataFrame(converted_list, columns=[\"boarding_pass\", \"row\", \"column\"])\n",
    "df['ID'] = df['row'] * 8 + df['column']"
   ]
  },
  {
   "cell_type": "code",
   "execution_count": 4,
   "metadata": {},
   "outputs": [
    {
     "output_type": "execute_result",
     "data": {
      "text/plain": [
       "    boarding_pass  row  column   ID\n",
       "0      FFFFBFBLLR    5       1   41\n",
       "1      BFBFFBBLLR   83       1  665\n",
       "2      BBFFFFBLRR   97       3  779\n",
       "3      FBFBFFFRLL   40       4  324\n",
       "4      BFFBFFFRRR   72       7  583\n",
       "..            ...  ...     ...  ...\n",
       "819    BFFFBFBLRL   69       2  554\n",
       "820    FBBBBBFLLL   62       0  496\n",
       "821    FBBFFBFLLL   50       0  400\n",
       "822    BBFFBFFRLL  100       4  804\n",
       "823    FBFFFBFLLL   34       0  272\n",
       "\n",
       "[824 rows x 4 columns]"
      ],
      "text/html": "<div>\n<style scoped>\n    .dataframe tbody tr th:only-of-type {\n        vertical-align: middle;\n    }\n\n    .dataframe tbody tr th {\n        vertical-align: top;\n    }\n\n    .dataframe thead th {\n        text-align: right;\n    }\n</style>\n<table border=\"1\" class=\"dataframe\">\n  <thead>\n    <tr style=\"text-align: right;\">\n      <th></th>\n      <th>boarding_pass</th>\n      <th>row</th>\n      <th>column</th>\n      <th>ID</th>\n    </tr>\n  </thead>\n  <tbody>\n    <tr>\n      <th>0</th>\n      <td>FFFFBFBLLR</td>\n      <td>5</td>\n      <td>1</td>\n      <td>41</td>\n    </tr>\n    <tr>\n      <th>1</th>\n      <td>BFBFFBBLLR</td>\n      <td>83</td>\n      <td>1</td>\n      <td>665</td>\n    </tr>\n    <tr>\n      <th>2</th>\n      <td>BBFFFFBLRR</td>\n      <td>97</td>\n      <td>3</td>\n      <td>779</td>\n    </tr>\n    <tr>\n      <th>3</th>\n      <td>FBFBFFFRLL</td>\n      <td>40</td>\n      <td>4</td>\n      <td>324</td>\n    </tr>\n    <tr>\n      <th>4</th>\n      <td>BFFBFFFRRR</td>\n      <td>72</td>\n      <td>7</td>\n      <td>583</td>\n    </tr>\n    <tr>\n      <th>...</th>\n      <td>...</td>\n      <td>...</td>\n      <td>...</td>\n      <td>...</td>\n    </tr>\n    <tr>\n      <th>819</th>\n      <td>BFFFBFBLRL</td>\n      <td>69</td>\n      <td>2</td>\n      <td>554</td>\n    </tr>\n    <tr>\n      <th>820</th>\n      <td>FBBBBBFLLL</td>\n      <td>62</td>\n      <td>0</td>\n      <td>496</td>\n    </tr>\n    <tr>\n      <th>821</th>\n      <td>FBBFFBFLLL</td>\n      <td>50</td>\n      <td>0</td>\n      <td>400</td>\n    </tr>\n    <tr>\n      <th>822</th>\n      <td>BBFFBFFRLL</td>\n      <td>100</td>\n      <td>4</td>\n      <td>804</td>\n    </tr>\n    <tr>\n      <th>823</th>\n      <td>FBFFFBFLLL</td>\n      <td>34</td>\n      <td>0</td>\n      <td>272</td>\n    </tr>\n  </tbody>\n</table>\n<p>824 rows × 4 columns</p>\n</div>"
     },
     "metadata": {},
     "execution_count": 4
    }
   ],
   "source": [
    "df"
   ]
  },
  {
   "cell_type": "code",
   "execution_count": 5,
   "metadata": {},
   "outputs": [],
   "source": [
    "def day_5_part_1():\n",
    "    return df['ID'].max()"
   ]
  },
  {
   "cell_type": "code",
   "execution_count": 6,
   "metadata": {},
   "outputs": [
    {
     "output_type": "execute_result",
     "data": {
      "text/plain": [
       "835"
      ]
     },
     "metadata": {},
     "execution_count": 6
    }
   ],
   "source": [
    "day_5_part_1()"
   ]
  },
  {
   "cell_type": "code",
   "execution_count": 7,
   "metadata": {},
   "outputs": [],
   "source": [
    "def day_5_part_2():\n",
    "\n",
    "    #Copy to prevent overwriting our dataframe\n",
    "    df_copy = df.copy()\n",
    "    \n",
    "    #Sort by index, re-index\n",
    "    df_copy = df_copy.sort_values(\"ID\").reset_index(drop=True)\n",
    "    #Create a new column, 'idx', that will be used as the index\n",
    "    df_copy['idx'] = df_copy['ID']\n",
    "\n",
    "    #Create a pd.Series that uses idx as the index, then apply a \"reindex\" using a range to fill missing values with a \"NaN\"\n",
    "    #We start from the minimum and go all the way to the maximum so our sole \"NaN\" value is our answer\n",
    "    series = df_copy[['idx', 'ID']].set_index('idx')\n",
    "    series = series.reindex(range(df_copy['ID'].min(), df_copy['ID'].max()))\n",
    "\n",
    "    #Mask out all valid values to give us our sole missing value\n",
    "    missing_mask = series['ID'].isna()\n",
    "    return series.loc[missing_mask].index[0]\n"
   ]
  },
  {
   "cell_type": "code",
   "execution_count": 8,
   "metadata": {},
   "outputs": [
    {
     "output_type": "execute_result",
     "data": {
      "text/plain": [
       "649"
      ]
     },
     "metadata": {},
     "execution_count": 8
    }
   ],
   "source": [
    "day_5_part_2()"
   ]
  }
 ]
}