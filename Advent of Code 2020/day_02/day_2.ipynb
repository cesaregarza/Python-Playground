{
 "metadata": {
  "language_info": {
   "codemirror_mode": {
    "name": "ipython",
    "version": 3
   },
   "file_extension": ".py",
   "mimetype": "text/x-python",
   "name": "python",
   "nbconvert_exporter": "python",
   "pygments_lexer": "ipython3",
   "version": "3.8.5-final"
  },
  "orig_nbformat": 2,
  "kernelspec": {
   "name": "python3",
   "display_name": "Python 3"
  }
 },
 "nbformat": 4,
 "nbformat_minor": 2,
 "cells": [
  {
   "cell_type": "code",
   "execution_count": 1,
   "metadata": {},
   "outputs": [],
   "source": [
    "import pandas as pd"
   ]
  },
  {
   "cell_type": "code",
   "execution_count": 2,
   "metadata": {},
   "outputs": [],
   "source": [
    "day_2_df = pd.read_csv(\"day_2_input.txt\", header=None)\n",
    "day_2_df.columns = [\"input\"]"
   ]
  },
  {
   "cell_type": "code",
   "execution_count": 3,
   "metadata": {},
   "outputs": [],
   "source": [
    "day_2_df = day_2_df[\"input\"].str.split(\":\", expand=True)\n",
    "day_2_df.columns = [\"policy\", \"password\"]"
   ]
  },
  {
   "cell_type": "code",
   "execution_count": 4,
   "metadata": {},
   "outputs": [],
   "source": [
    "day_2_df[[\"least\", \"most\", \"letter\"]] = day_2_df['policy'].str.split(\"-| \", expand=True)"
   ]
  },
  {
   "cell_type": "code",
   "execution_count": 5,
   "metadata": {},
   "outputs": [],
   "source": [
    "day_2_df['letter_count'] = day_2_df.apply(lambda x: x['password'].count(x['letter']), axis=1)"
   ]
  },
  {
   "cell_type": "code",
   "execution_count": 6,
   "metadata": {},
   "outputs": [],
   "source": [
    "day_2_df['least'] = day_2_df['least'].astype(int)\n",
    "day_2_df['most'] = day_2_df['most'].astype(int)"
   ]
  },
  {
   "cell_type": "code",
   "execution_count": 7,
   "metadata": {},
   "outputs": [],
   "source": [
    "mask = (day_2_df['letter_count'] <= day_2_df['most']) & (day_2_df['letter_count'] >= day_2_df['least'])"
   ]
  },
  {
   "cell_type": "code",
   "execution_count": 8,
   "metadata": {},
   "outputs": [
    {
     "output_type": "execute_result",
     "data": {
      "text/plain": [
       "458"
      ]
     },
     "metadata": {},
     "execution_count": 8
    }
   ],
   "source": [
    "len(day_2_df.loc[mask])"
   ]
  },
  {
   "cell_type": "code",
   "execution_count": 9,
   "metadata": {},
   "outputs": [],
   "source": [
    "day_2_df['first_value'] = day_2_df.apply(lambda x: x['password'][x['least']] == x['letter'], axis=1)\n",
    "day_2_df['second_value'] = day_2_df.apply(lambda x: x['password'][x['most']] == x['letter'], axis=1)"
   ]
  },
  {
   "cell_type": "code",
   "execution_count": 10,
   "metadata": {},
   "outputs": [],
   "source": [
    "day_2_df['valid'] = day_2_df['first_value'] ^ day_2_df['second_value']"
   ]
  },
  {
   "cell_type": "code",
   "execution_count": 11,
   "metadata": {},
   "outputs": [
    {
     "output_type": "execute_result",
     "data": {
      "text/plain": [
       "342"
      ]
     },
     "metadata": {},
     "execution_count": 11
    }
   ],
   "source": [
    "len(day_2_df.loc[day_2_df['valid']])"
   ]
  },
  {
   "cell_type": "code",
   "execution_count": 12,
   "metadata": {},
   "outputs": [
    {
     "output_type": "execute_result",
     "data": {
      "text/plain": [
       "      policy               password  least  most letter  letter_count  \\\n",
       "0      5-9 g              ggccggmgn      5     9      g             5   \n",
       "1    11-16 l       llllqllllllllflq     11    16      l            13   \n",
       "2      3-6 q              qvqqqpzqd      3     6      q             5   \n",
       "3     6-11 f            ffffpcffffp      6    11      f             8   \n",
       "4      7-8 l             lllqlwtqll      7     8      l             6   \n",
       "..       ...                    ...    ...   ...    ...           ...   \n",
       "995  17-20 k   kkkkkkkkkkkkkkkkkkkk     17    20      k            20   \n",
       "996    3-5 q                hjqrqsq      3     5      q             3   \n",
       "997  12-13 h          hhhhhhhhfhhhh     12    13      h            12   \n",
       "998    3-4 x               gxxjphxx      3     4      x             4   \n",
       "999    4-6 g                 sbwggg      4     6      g             3   \n",
       "\n",
       "     first_value  second_value  valid  \n",
       "0           True         False   True  \n",
       "1           True         False   True  \n",
       "2           True         False   True  \n",
       "3          False         False  False  \n",
       "4          False         False  False  \n",
       "..           ...           ...    ...  \n",
       "995         True          True  False  \n",
       "996         True          True  False  \n",
       "997         True          True  False  \n",
       "998         True         False   True  \n",
       "999         True          True  False  \n",
       "\n",
       "[1000 rows x 9 columns]"
      ],
      "text/html": "<div>\n<style scoped>\n    .dataframe tbody tr th:only-of-type {\n        vertical-align: middle;\n    }\n\n    .dataframe tbody tr th {\n        vertical-align: top;\n    }\n\n    .dataframe thead th {\n        text-align: right;\n    }\n</style>\n<table border=\"1\" class=\"dataframe\">\n  <thead>\n    <tr style=\"text-align: right;\">\n      <th></th>\n      <th>policy</th>\n      <th>password</th>\n      <th>least</th>\n      <th>most</th>\n      <th>letter</th>\n      <th>letter_count</th>\n      <th>first_value</th>\n      <th>second_value</th>\n      <th>valid</th>\n    </tr>\n  </thead>\n  <tbody>\n    <tr>\n      <th>0</th>\n      <td>5-9 g</td>\n      <td>ggccggmgn</td>\n      <td>5</td>\n      <td>9</td>\n      <td>g</td>\n      <td>5</td>\n      <td>True</td>\n      <td>False</td>\n      <td>True</td>\n    </tr>\n    <tr>\n      <th>1</th>\n      <td>11-16 l</td>\n      <td>llllqllllllllflq</td>\n      <td>11</td>\n      <td>16</td>\n      <td>l</td>\n      <td>13</td>\n      <td>True</td>\n      <td>False</td>\n      <td>True</td>\n    </tr>\n    <tr>\n      <th>2</th>\n      <td>3-6 q</td>\n      <td>qvqqqpzqd</td>\n      <td>3</td>\n      <td>6</td>\n      <td>q</td>\n      <td>5</td>\n      <td>True</td>\n      <td>False</td>\n      <td>True</td>\n    </tr>\n    <tr>\n      <th>3</th>\n      <td>6-11 f</td>\n      <td>ffffpcffffp</td>\n      <td>6</td>\n      <td>11</td>\n      <td>f</td>\n      <td>8</td>\n      <td>False</td>\n      <td>False</td>\n      <td>False</td>\n    </tr>\n    <tr>\n      <th>4</th>\n      <td>7-8 l</td>\n      <td>lllqlwtqll</td>\n      <td>7</td>\n      <td>8</td>\n      <td>l</td>\n      <td>6</td>\n      <td>False</td>\n      <td>False</td>\n      <td>False</td>\n    </tr>\n    <tr>\n      <th>...</th>\n      <td>...</td>\n      <td>...</td>\n      <td>...</td>\n      <td>...</td>\n      <td>...</td>\n      <td>...</td>\n      <td>...</td>\n      <td>...</td>\n      <td>...</td>\n    </tr>\n    <tr>\n      <th>995</th>\n      <td>17-20 k</td>\n      <td>kkkkkkkkkkkkkkkkkkkk</td>\n      <td>17</td>\n      <td>20</td>\n      <td>k</td>\n      <td>20</td>\n      <td>True</td>\n      <td>True</td>\n      <td>False</td>\n    </tr>\n    <tr>\n      <th>996</th>\n      <td>3-5 q</td>\n      <td>hjqrqsq</td>\n      <td>3</td>\n      <td>5</td>\n      <td>q</td>\n      <td>3</td>\n      <td>True</td>\n      <td>True</td>\n      <td>False</td>\n    </tr>\n    <tr>\n      <th>997</th>\n      <td>12-13 h</td>\n      <td>hhhhhhhhfhhhh</td>\n      <td>12</td>\n      <td>13</td>\n      <td>h</td>\n      <td>12</td>\n      <td>True</td>\n      <td>True</td>\n      <td>False</td>\n    </tr>\n    <tr>\n      <th>998</th>\n      <td>3-4 x</td>\n      <td>gxxjphxx</td>\n      <td>3</td>\n      <td>4</td>\n      <td>x</td>\n      <td>4</td>\n      <td>True</td>\n      <td>False</td>\n      <td>True</td>\n    </tr>\n    <tr>\n      <th>999</th>\n      <td>4-6 g</td>\n      <td>sbwggg</td>\n      <td>4</td>\n      <td>6</td>\n      <td>g</td>\n      <td>3</td>\n      <td>True</td>\n      <td>True</td>\n      <td>False</td>\n    </tr>\n  </tbody>\n</table>\n<p>1000 rows × 9 columns</p>\n</div>"
     },
     "metadata": {},
     "execution_count": 12
    }
   ],
   "source": [
    "day_2_df"
   ]
  },
  {
   "cell_type": "code",
   "execution_count": null,
   "metadata": {},
   "outputs": [],
   "source": []
  }
 ]
}