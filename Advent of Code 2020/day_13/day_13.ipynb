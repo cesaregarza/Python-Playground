{
 "metadata": {
  "language_info": {
   "codemirror_mode": {
    "name": "ipython",
    "version": 3
   },
   "file_extension": ".py",
   "mimetype": "text/x-python",
   "name": "python",
   "nbconvert_exporter": "python",
   "pygments_lexer": "ipython3",
   "version": "3.8.3-final"
  },
  "orig_nbformat": 2,
  "kernelspec": {
   "name": "python3",
   "display_name": "Python 3",
   "language": "python"
  }
 },
 "nbformat": 4,
 "nbformat_minor": 2,
 "cells": [
  {
   "cell_type": "code",
   "execution_count": 1,
   "metadata": {},
   "outputs": [],
   "source": [
    "import numpy as np\n",
    "import pandas as pd\n",
    "f = open(\"day_13_input.txt\")\n",
    "[timestamp, raw_input_string] = f.read().split(\"\\n\")\n",
    "input_array = np.array(raw_input_string.split(\",\"))"
   ]
  },
  {
   "cell_type": "code",
   "execution_count": 2,
   "metadata": {},
   "outputs": [],
   "source": [
    "def day_13_part_1():\n",
    "    bus_ids = input_array[input_array != \"x\"].astype(int)\n",
    "    timestamp_int = int(timestamp)\n",
    "    \n",
    "    modulus_time = bus_ids - (timestamp_int % bus_ids)\n",
    "    return modulus_time.min() * bus_ids[modulus_time.argmin()]"
   ]
  },
  {
   "cell_type": "code",
   "execution_count": 3,
   "metadata": {},
   "outputs": [
    {
     "output_type": "execute_result",
     "data": {
      "text/plain": [
       "2947"
      ]
     },
     "metadata": {},
     "execution_count": 3
    }
   ],
   "source": [
    "day_13_part_1()"
   ]
  },
  {
   "cell_type": "code",
   "execution_count": 13,
   "metadata": {},
   "outputs": [],
   "source": [
    "import pandas as pd\n",
    "ser = pd.Series(input_array)\n",
    "ser = ser.loc[ser != \"x\"].astype(int).reset_index()\n",
    "ser['value'] = ser['index'] % ser[0]\n",
    "ser"
   ]
  },
  {
   "cell_type": "code",
   "execution_count": 14,
   "metadata": {},
   "outputs": [],
   "source": [
    "ser = ser.loc[ser != \"x\"].astype(int).reset_index()\n",
    "ser['value'] = ser['index'] % ser[0]"
   ]
  },
  {
   "cell_type": "code",
   "execution_count": 15,
   "metadata": {},
   "outputs": [
    {
     "output_type": "execute_result",
     "data": {
      "text/plain": [
       "   index    0  value\n",
       "0      0   13      0\n",
       "1      3   41      3\n",
       "2      7   37      7\n",
       "3     13  419     13\n",
       "4     32   19     13\n",
       "5     36   23     13\n",
       "6     42   29     13\n",
       "7     44  421     44\n",
       "8     61   17     10"
      ],
      "text/html": "<div>\n<style scoped>\n    .dataframe tbody tr th:only-of-type {\n        vertical-align: middle;\n    }\n\n    .dataframe tbody tr th {\n        vertical-align: top;\n    }\n\n    .dataframe thead th {\n        text-align: right;\n    }\n</style>\n<table border=\"1\" class=\"dataframe\">\n  <thead>\n    <tr style=\"text-align: right;\">\n      <th></th>\n      <th>index</th>\n      <th>0</th>\n      <th>value</th>\n    </tr>\n  </thead>\n  <tbody>\n    <tr>\n      <th>0</th>\n      <td>0</td>\n      <td>13</td>\n      <td>0</td>\n    </tr>\n    <tr>\n      <th>1</th>\n      <td>3</td>\n      <td>41</td>\n      <td>3</td>\n    </tr>\n    <tr>\n      <th>2</th>\n      <td>7</td>\n      <td>37</td>\n      <td>7</td>\n    </tr>\n    <tr>\n      <th>3</th>\n      <td>13</td>\n      <td>419</td>\n      <td>13</td>\n    </tr>\n    <tr>\n      <th>4</th>\n      <td>32</td>\n      <td>19</td>\n      <td>13</td>\n    </tr>\n    <tr>\n      <th>5</th>\n      <td>36</td>\n      <td>23</td>\n      <td>13</td>\n    </tr>\n    <tr>\n      <th>6</th>\n      <td>42</td>\n      <td>29</td>\n      <td>13</td>\n    </tr>\n    <tr>\n      <th>7</th>\n      <td>44</td>\n      <td>421</td>\n      <td>44</td>\n    </tr>\n    <tr>\n      <th>8</th>\n      <td>61</td>\n      <td>17</td>\n      <td>10</td>\n    </tr>\n  </tbody>\n</table>\n</div>"
     },
     "metadata": {},
     "execution_count": 15
    }
   ],
   "source": [
    "ser"
   ]
  },
  {
   "cell_type": "code",
   "execution_count": null,
   "metadata": {},
   "outputs": [],
   "source": []
  }
 ]
}