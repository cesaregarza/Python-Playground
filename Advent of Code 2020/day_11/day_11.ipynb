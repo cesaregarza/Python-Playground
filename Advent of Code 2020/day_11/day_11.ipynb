{
 "cells": [
  {
   "cell_type": "code",
   "execution_count": 1,
   "metadata": {},
   "outputs": [],
   "source": [
    "import numpy as np\n",
    "f = open('day_11_input.txt')\n",
    "input_list = f.read().split('\\n')\n",
    "input_array = np.array([list(item) for item in input_list])"
   ]
  },
  {
   "cell_type": "code",
   "execution_count": 2,
   "metadata": {},
   "outputs": [
    {
     "output_type": "execute_result",
     "data": {
      "text/plain": [
       "array([['L', 'L', 'L', ..., 'L', 'L', 'L'],\n",
       "       ['L', 'L', 'L', ..., 'L', '.', 'L'],\n",
       "       ['L', 'L', 'L', ..., 'L', 'L', 'L'],\n",
       "       ...,\n",
       "       ['.', 'L', 'L', ..., '.', 'L', 'L'],\n",
       "       ['L', 'L', 'L', ..., 'L', 'L', 'L'],\n",
       "       ['L', 'L', 'L', ..., 'L', 'L', 'L']], dtype='<U1')"
      ]
     },
     "metadata": {},
     "execution_count": 2
    }
   ],
   "source": [
    "input_array"
   ]
  },
  {
   "cell_type": "code",
   "execution_count": 3,
   "metadata": {},
   "outputs": [],
   "source": [
    "def day_11_part_1():\n",
    "\n",
    "    #This function will generate and find the neighbors for the given inputs\n",
    "    def find_neighbors(x_coordinate, y_coordinate, inp_array):\n",
    "        \n",
    "        #We generate the x and y neighbors that are valid, that is that their indices are within the array\n",
    "        valid_x_neighbors = [x_coordinate + x for x in range(-1, 2) if (x_coordinate + x) >= 0 and (x_coordinate + x) < len(inp_array[0])]\n",
    "        valid_y_neighbors = [y_coordinate + y for y in range(-1, 2) if (y_coordinate + y) >= 0 and (y_coordinate + y) < len(inp_array)]\n",
    "        \n",
    "        #Then, we generate the cartesian product of the x and y neighbors, removing for the cell itself\n",
    "        neighbor_coordinates = [[x, y] for x in valid_x_neighbors for y in valid_y_neighbors if not ((x == x_coordinate) and (y == y_coordinate))]\n",
    "        neighbor_list = []\n",
    "\n",
    "        #For each coordinate, append the value found at the input array to the list\n",
    "        for x_neighbor_coordinate, y_neighbor_coordinate in neighbor_coordinates:\n",
    "            neighbor_list.append(inp_array[y_neighbor_coordinate, x_neighbor_coordinate])\n",
    "        \n",
    "        return np.array(neighbor_list)\n",
    "    \n",
    "    #This function will step through each \"generation\"\n",
    "    def generation(inp_array):\n",
    "        #Create a copy of the input array that will be mutated and set a counter tracking number of changes to zero\n",
    "        array_copy = inp_array.copy()\n",
    "        counter = 0\n",
    "        #Iterate on each row while keeping track of the y index\n",
    "        for y_index,row in enumerate(inp_array):\n",
    "            #Iterate on each column while keeping track of the x index\n",
    "            for x_index,item in enumerate(row):\n",
    "                #Get the list of neighbors for the given cell\n",
    "                neighbor_array = find_neighbors(x_index, y_index, inp_array)\n",
    "\n",
    "                #Apply the generation rules. Each time there's a change, add 1 to the counter\n",
    "                if item == \"L\" and (\"#\" not in neighbor_array):\n",
    "                    array_copy[y_index, x_index] = \"#\"\n",
    "                    counter += 1\n",
    "                elif item == \"#\" and len(neighbor_array[neighbor_array == \"#\"]) >= 4:\n",
    "                    array_copy[y_index, x_index] = \"L\"\n",
    "                    counter += 1\n",
    "        \n",
    "        return array_copy, counter\n",
    "    \n",
    "    #Create a copy of the day 11 input and set a counter to 1, representing the amount of changes made in each generation\n",
    "    array_copy = input_array.copy()\n",
    "    counter = 1\n",
    "    #Break as soon as a generation makes no change\n",
    "    while counter > 0:\n",
    "        array_copy, counter = generation(array_copy)\n",
    "    \n",
    "    #Return how many seats are occupied\n",
    "    return len(array_copy[array_copy == '#'])"
   ]
  },
  {
   "cell_type": "code",
   "execution_count": 4,
   "metadata": {},
   "outputs": [
    {
     "output_type": "execute_result",
     "data": {
      "text/plain": [
       "2238"
      ]
     },
     "metadata": {},
     "execution_count": 4
    }
   ],
   "source": [
    "day_11_part_1()"
   ]
  },
  {
   "cell_type": "code",
   "execution_count": 5,
   "metadata": {
    "tags": []
   },
   "outputs": [],
   "source": [
    "#Generate a 2D array where each entry contains a list of the valid neighbors to be found. This approach is significantly faster than the one taken above\n",
    "def generate_neighbor_coordinates():\n",
    "    #Hoist a variable representing the full neighbor array\n",
    "    full_array = []\n",
    "\n",
    "    #Iterate on each row, keeping track of the y index\n",
    "    for y, row in enumerate(input_array):\n",
    "        #Hoist a variable representing the inputs for each row\n",
    "        new_row = []\n",
    "        #Iterate on each column, keeping track of the x index\n",
    "        for x, item in enumerate(row):\n",
    "            #Hoist a variable that will keep the list of the coordinates of the neighbors for the given cell\n",
    "            neighbor_coordinate_list = []\n",
    "\n",
    "            #For each direction, create a counter that will keep going until it either collides with an empty seat or goes out of bounds. Record the collisions with empty seats\n",
    "            #west\n",
    "            counter = 1\n",
    "            while (x - counter) >= 0:\n",
    "                candidate = input_array[y, x - counter]\n",
    "                if candidate != '.':\n",
    "                    neighbor_coordinate_list.append([x - counter, y])\n",
    "                    break\n",
    "                else:\n",
    "                    counter += 1\n",
    "                \n",
    "            \n",
    "            #east\n",
    "            counter = 1\n",
    "            while (x + counter) < len(input_array[0]):\n",
    "                candidate = input_array[y, x + counter]\n",
    "                if candidate != '.':\n",
    "                    neighbor_coordinate_list.append([x + counter, y])\n",
    "                    break\n",
    "                else:\n",
    "                    counter += 1\n",
    "            \n",
    "            #north\n",
    "            counter = 1\n",
    "            while (y - counter) >= 0:\n",
    "                candidate = input_array[y - counter, x]\n",
    "                if candidate != '.':\n",
    "                    neighbor_coordinate_list.append([x, y - counter])\n",
    "                    break\n",
    "                else:\n",
    "                    counter += 1\n",
    "            \n",
    "            #south\n",
    "            counter = 1\n",
    "            while (y + counter) < len(input_array):\n",
    "                candidate = input_array[y + counter, x]\n",
    "                if candidate != '.':\n",
    "                    neighbor_coordinate_list.append([x, y + counter])\n",
    "                    break\n",
    "                else:\n",
    "                    counter += 1\n",
    "\n",
    "            #northwest\n",
    "            counter = 1\n",
    "            while ((x - counter) >= 0) and ((y - counter) >= 0):\n",
    "                candidate = input_array[y - counter, x - counter]\n",
    "                if candidate != '.':\n",
    "                    neighbor_coordinate_list.append([x - counter, y - counter])\n",
    "                    break\n",
    "                else:\n",
    "                    counter += 1\n",
    "            \n",
    "            #northeast\n",
    "            counter = 1\n",
    "            while ((x + counter) < len(input_array[0])) and ((y - counter) >= 0):\n",
    "                candidate = input_array[y - counter, x + counter]\n",
    "                if candidate != '.':\n",
    "                    neighbor_coordinate_list.append([x + counter, y - counter])\n",
    "                    break\n",
    "                else:\n",
    "                    counter += 1\n",
    "            \n",
    "            #southwest\n",
    "            counter = 1\n",
    "            while ((x - counter) >= 0) and ((y + counter) < len(input_list)):\n",
    "                candidate = input_array[y + counter, x - counter]\n",
    "                if candidate != '.':\n",
    "                    neighbor_coordinate_list.append([x - counter, y + counter])\n",
    "                    break\n",
    "                else:\n",
    "                    counter += 1\n",
    "            \n",
    "            #southeast\n",
    "            counter = 1\n",
    "            while ((x + counter) < len(input_array[0])) and ((y + counter) < len(input_list)):\n",
    "                candidate = input_array[y + counter, x + counter]\n",
    "                if candidate != '.':\n",
    "                    neighbor_coordinate_list.append([x + counter, y + counter])\n",
    "                    break\n",
    "                else:\n",
    "                    counter += 1\n",
    "\n",
    "            #Append the neighbor coordinate list to the new row\n",
    "            new_row.append(neighbor_coordinate_list)\n",
    "        #Turn each new_row into a numpy array, then append it to full_array\n",
    "        full_array.append(np.array(new_row))\n",
    "    #Turn full_array into a numpy array to allow for ease of access of each item\n",
    "    return np.array(full_array)"
   ]
  },
  {
   "cell_type": "code",
   "execution_count": 6,
   "metadata": {},
   "outputs": [],
   "source": [
    "full_neighbor_list = generate_neighbor_coordinates()"
   ]
  },
  {
   "cell_type": "code",
   "execution_count": 7,
   "metadata": {},
   "outputs": [],
   "source": [
    "def day_11_part_2():\n",
    "\n",
    "    #This function works equivalently to the one above, but uses the pre-built 2D array full_neighbor_list that contains the list for each appropriate cell\n",
    "    def find_neighbors(x_coordinate, y_coordinate, inp_array):\n",
    "        neighbor_indices = full_neighbor_list[y_coordinate, x_coordinate]\n",
    "        neighbor_list = []\n",
    "        for x_index, y_index in neighbor_indices:\n",
    "            neighbor_list.append(inp_array[y_index, x_index])\n",
    "        \n",
    "        return np.array(neighbor_list)\n",
    "    \n",
    "    #This function works nearly identically to the one above, but has a tolerance for 5 seats instead of 4\n",
    "    def generation(inp_array):\n",
    "        array_copy = inp_array.copy()\n",
    "        counter = 0\n",
    "        for y_index,row in enumerate(inp_array):\n",
    "            for x_index,item in enumerate(row):\n",
    "                neighbor_array = find_neighbors(x_index, y_index, inp_array)\n",
    "                if item == \"L\" and (\"#\" not in neighbor_array):\n",
    "                    array_copy[y_index, x_index] = \"#\"\n",
    "                    counter += 1\n",
    "                elif item == \"#\" and len(neighbor_array[neighbor_array == \"#\"]) >= 5:\n",
    "                    array_copy[y_index, x_index] = \"L\"\n",
    "                    counter += 1\n",
    "        \n",
    "        return array_copy, counter\n",
    "    \n",
    "    #Again, works identically to the one above\n",
    "    array_copy = input_array.copy()\n",
    "    counter = 1\n",
    "    while counter > 0:\n",
    "        array_copy, counter = generation(array_copy)\n",
    "    \n",
    "    return len(array_copy[array_copy == \"#\"])"
   ]
  },
  {
   "cell_type": "code",
   "execution_count": 8,
   "metadata": {},
   "outputs": [
    {
     "output_type": "execute_result",
     "data": {
      "text/plain": [
       "2013"
      ]
     },
     "metadata": {},
     "execution_count": 8
    }
   ],
   "source": [
    "day_11_part_2()"
   ]
  },
  {
   "cell_type": "code",
   "execution_count": null,
   "metadata": {},
   "outputs": [],
   "source": []
  }
 ],
 "metadata": {
  "language_info": {
   "codemirror_mode": {
    "name": "ipython",
    "version": 3
   },
   "file_extension": ".py",
   "mimetype": "text/x-python",
   "name": "python",
   "nbconvert_exporter": "python",
   "pygments_lexer": "ipython3",
   "version": "3.8.5-final"
  },
  "orig_nbformat": 2,
  "kernelspec": {
   "name": "python3",
   "display_name": "Python 3.8.5 64-bit ('newpy38': conda)",
   "metadata": {
    "interpreter": {
     "hash": "b845c24f545efb918699511a349d3a292375bcfdcffe586ab011a7a862206127"
    }
   }
  }
 },
 "nbformat": 4,
 "nbformat_minor": 2
}