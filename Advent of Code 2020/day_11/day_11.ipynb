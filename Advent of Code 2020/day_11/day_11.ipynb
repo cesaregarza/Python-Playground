{
 "cells": [
  {
   "cell_type": "code",
   "execution_count": 1,
   "metadata": {},
   "outputs": [],
   "source": [
    "import numpy as np\n",
    "f = open('day_11_input.txt')\n",
    "input_list = f.read().split('\\n')\n",
    "input_array = np.array([list(item) for item in input_list])"
   ]
  },
  {
   "cell_type": "code",
   "execution_count": 2,
   "metadata": {},
   "outputs": [
    {
     "output_type": "execute_result",
     "data": {
      "text/plain": "array([['L', 'L', 'L', ..., 'L', 'L', 'L'],\n       ['L', 'L', 'L', ..., 'L', '.', 'L'],\n       ['L', 'L', 'L', ..., 'L', 'L', 'L'],\n       ...,\n       ['.', 'L', 'L', ..., '.', 'L', 'L'],\n       ['L', 'L', 'L', ..., 'L', 'L', 'L'],\n       ['L', 'L', 'L', ..., 'L', 'L', 'L']], dtype='<U1')"
     },
     "metadata": {},
     "execution_count": 2
    }
   ],
   "source": [
    "input_array"
   ]
  },
  {
   "cell_type": "code",
   "execution_count": 3,
   "metadata": {},
   "outputs": [],
   "source": [
    "def find_neighbors(x_coordinate, y_coordinate, inp_array):\n",
    "    \n",
    "    valid_x_neighbors = [x_coordinate + x for x in range(-1, 2) if (x_coordinate + x) >= 0 and (x_coordinate + x) < len(inp_array[0])]\n",
    "    valid_y_neighbors = [y_coordinate + y for y in range(-1, 2) if (y_coordinate + y) >= 0 and (y_coordinate + y) < len(inp_array)]\n",
    "    \n",
    "    neighbor_coordinates = [[x, y] for x in valid_x_neighbors for y in valid_y_neighbors if not ((x == x_coordinate) and (y == y_coordinate))]\n",
    "    neighbor_list = []\n",
    "\n",
    "    for x_neighbor_coordinate, y_neighbor_coordinate in neighbor_coordinates:\n",
    "        neighbor_list.append(inp_array[y_neighbor_coordinate, x_neighbor_coordinate])\n",
    "    \n",
    "    return np.array(neighbor_list)"
   ]
  },
  {
   "cell_type": "code",
   "execution_count": 4,
   "metadata": {},
   "outputs": [],
   "source": [
    "def generation(inp_array):\n",
    "    array_copy = inp_array.copy()\n",
    "    counter = 0\n",
    "    for y_index,row in enumerate(inp_array):\n",
    "        for x_index,item in enumerate(row):\n",
    "            neighbor_array = find_neighbors(x_index, y_index, inp_array)\n",
    "            if item == \"L\" and (\"#\" not in neighbor_array):\n",
    "                array_copy[y_index, x_index] = \"#\"\n",
    "                counter += 1\n",
    "            elif item == \"#\" and len(neighbor_array[neighbor_array == \"#\"]) >= 4:\n",
    "                array_copy[y_index, x_index] = \"L\"\n",
    "                counter += 1\n",
    "    \n",
    "    return array_copy, counter"
   ]
  },
  {
   "cell_type": "code",
   "execution_count": 5,
   "metadata": {},
   "outputs": [],
   "source": [
    "def day_11_part_1():\n",
    "    array_copy = input_array.copy()\n",
    "    counter = 1\n",
    "    while counter > 0:\n",
    "        array_copy, counter = generation(array_copy)\n",
    "    \n",
    "    return len(array_copy[array_copy == '#'])"
   ]
  },
  {
   "cell_type": "code",
   "execution_count": 6,
   "metadata": {},
   "outputs": [
    {
     "output_type": "execute_result",
     "data": {
      "text/plain": "2238"
     },
     "metadata": {},
     "execution_count": 6
    }
   ],
   "source": [
    "day_11_part_1()"
   ]
  },
  {
   "cell_type": "code",
   "execution_count": 6,
   "metadata": {},
   "outputs": [
    {
     "output_type": "error",
     "ename": "KeyboardInterrupt",
     "evalue": "",
     "traceback": [
      "\u001b[0;31m---------------------------------------------------------------------------\u001b[0m",
      "\u001b[0;31mKeyboardInterrupt\u001b[0m                         Traceback (most recent call last)",
      "\u001b[0;32m<ipython-input-6-c6b76d48a511>\u001b[0m in \u001b[0;36m<module>\u001b[0;34m\u001b[0m\n\u001b[1;32m     15\u001b[0m         \u001b[0mcounter\u001b[0m \u001b[0;34m=\u001b[0m \u001b[0;36m1\u001b[0m\u001b[0;34m\u001b[0m\u001b[0;34m\u001b[0m\u001b[0m\n\u001b[1;32m     16\u001b[0m         \u001b[0;32mwhile\u001b[0m \u001b[0;34m(\u001b[0m\u001b[0mx\u001b[0m \u001b[0;34m+\u001b[0m \u001b[0mcounter\u001b[0m\u001b[0;34m)\u001b[0m \u001b[0;34m<\u001b[0m \u001b[0mlen\u001b[0m\u001b[0;34m(\u001b[0m\u001b[0minput_array\u001b[0m\u001b[0;34m[\u001b[0m\u001b[0;36m0\u001b[0m\u001b[0;34m]\u001b[0m\u001b[0;34m)\u001b[0m\u001b[0;34m:\u001b[0m\u001b[0;34m\u001b[0m\u001b[0;34m\u001b[0m\u001b[0m\n\u001b[0;32m---> 17\u001b[0;31m             \u001b[0mcandidate\u001b[0m \u001b[0;34m=\u001b[0m \u001b[0minput_array\u001b[0m\u001b[0;34m[\u001b[0m\u001b[0my\u001b[0m\u001b[0;34m,\u001b[0m \u001b[0mx\u001b[0m \u001b[0;34m+\u001b[0m \u001b[0mcounter\u001b[0m\u001b[0;34m]\u001b[0m\u001b[0;34m\u001b[0m\u001b[0;34m\u001b[0m\u001b[0m\n\u001b[0m\u001b[1;32m     18\u001b[0m             \u001b[0;32mif\u001b[0m \u001b[0mcandidate\u001b[0m \u001b[0;34m!=\u001b[0m \u001b[0;34m'.'\u001b[0m\u001b[0;34m:\u001b[0m\u001b[0;34m\u001b[0m\u001b[0;34m\u001b[0m\u001b[0m\n\u001b[1;32m     19\u001b[0m                 \u001b[0mneighbor_coordinate_list\u001b[0m\u001b[0;34m.\u001b[0m\u001b[0mappend\u001b[0m\u001b[0;34m(\u001b[0m\u001b[0;34m[\u001b[0m\u001b[0mx\u001b[0m \u001b[0;34m+\u001b[0m \u001b[0mcounter\u001b[0m\u001b[0;34m,\u001b[0m \u001b[0my\u001b[0m\u001b[0;34m]\u001b[0m\u001b[0;34m)\u001b[0m\u001b[0;34m\u001b[0m\u001b[0;34m\u001b[0m\u001b[0m\n",
      "\u001b[0;31mKeyboardInterrupt\u001b[0m: "
     ]
    }
   ],
   "source": [
    "full_array = []\n",
    "for y, row in enumerate(input_array):\n",
    "    new_row = []\n",
    "    for x, item in enumerate(row):\n",
    "        neighbor_coordinate_list = []\n",
    "        #west\n",
    "        counter = 1\n",
    "        while (x - counter) >= 0:\n",
    "            candidate = input_array[y, x - counter]\n",
    "            if candidate != '.':\n",
    "                neighbor_coordinate_list.append([x - counter, y])\n",
    "                break\n",
    "        \n",
    "        #east\n",
    "        counter = 1\n",
    "        while (x + counter) < len(input_array[0]):\n",
    "            candidate = input_array[y, x + counter]\n",
    "            if candidate != '.':\n",
    "                neighbor_coordinate_list.append([x + counter, y])\n",
    "                break\n",
    "        \n",
    "        #north\n",
    "        counter = 1\n",
    "        while (y - counter) >= 0:\n",
    "            candidate = input_array[y - counter, x]\n",
    "            if candidate != '.':\n",
    "                neighbor_coordinate_list.append([x, y - counter])\n",
    "                break\n",
    "        \n",
    "        #south\n",
    "        counter = 1\n",
    "        while (y + counter) < len(input_array):\n",
    "            candidate = input_array[y + counter, x]\n",
    "            if candidate != '.':\n",
    "                neighbor_coordinate_list.append([x, y + counter])\n",
    "                break\n",
    "\n",
    "        #northwest\n",
    "        counter = 1\n",
    "        while ((x - counter) >= 0) and ((y - counter) >= 0):\n",
    "            candidate = input_array[y - counter, x - counter]\n",
    "            if candidate != '.':\n",
    "                neighbor_coordinate_list.append([x - counter, y - counter])\n",
    "                break\n",
    "        \n",
    "        #northeast\n",
    "        counter = 1\n",
    "        while ((x + counter) < len(input_array[0])) and ((y - counter) >= 0):\n",
    "            candidate = input_array[y - counter, x + counter]\n",
    "            if candidate != '.':\n",
    "                neighbor_coordinate_list.append([x + counter, y - counter])\n",
    "                break\n",
    "        \n",
    "        #southwest\n",
    "        counter = 1\n",
    "        while ((x - counter) >= 0) and ((y + counter) < len(input_list)):\n",
    "            candidate = input_array[y + counter, x - counter]\n",
    "            if candidate != '.':\n",
    "                neighbor_coordinate_list.append([x - counter, y + counter])\n",
    "                break\n",
    "        \n",
    "        #southeast\n",
    "        counter = 1\n",
    "        while ((x - counter) < len(input_array[0])) and ((y + counter) < len(input_list)):\n",
    "            candidate = input_array[y + counter, x + counter]\n",
    "            if candidate != '.':\n",
    "                neighbor_coordinate_list.append([x + counter, y + counter])\n",
    "                break\n",
    "\n",
    "        new_row.append(np.array(neighbor_coordinate_list))\n",
    "    full_array.append(np.array(new_row))"
   ]
  },
  {
   "cell_type": "code",
   "execution_count": 8,
   "metadata": {},
   "outputs": [
    {
     "output_type": "execute_result",
     "data": {
      "text/plain": "[array([[1, 0],\n        [0, 1],\n        [1, 1]]),\n array([[0, 0],\n        [2, 0],\n        [1, 1],\n        [0, 1],\n        [2, 1]]),\n array([[1, 0],\n        [3, 0],\n        [2, 1],\n        [1, 1],\n        [3, 1]]),\n array([[2, 0],\n        [4, 0],\n        [3, 1],\n        [2, 1],\n        [4, 1]]),\n array([[3, 0],\n        [5, 0],\n        [4, 1],\n        [3, 1],\n        [5, 1]]),\n array([[4, 0],\n        [6, 0],\n        [5, 1],\n        [4, 1],\n        [6, 1]]),\n array([[5, 0],\n        [7, 0],\n        [6, 1],\n        [5, 1],\n        [7, 1]]),\n array([[6, 0],\n        [8, 0],\n        [7, 1],\n        [6, 1],\n        [8, 1]]),\n array([[7, 0],\n        [9, 0],\n        [8, 1],\n        [7, 1],\n        [9, 1]])]"
     },
     "metadata": {},
     "execution_count": 8
    }
   ],
   "source": [
    "new_row"
   ]
  },
  {
   "cell_type": "code",
   "execution_count": null,
   "metadata": {},
   "outputs": [],
   "source": []
  }
 ],
 "metadata": {
  "language_info": {
   "codemirror_mode": {
    "name": "ipython",
    "version": 3
   },
   "file_extension": ".py",
   "mimetype": "text/x-python",
   "name": "python",
   "nbconvert_exporter": "python",
   "pygments_lexer": "ipython3",
   "version": 3
  },
  "orig_nbformat": 2,
  "kernelspec": {
   "name": "python_defaultSpec_1607664583886",
   "display_name": "Python 3.7.6 64-bit ('base': conda)"
  }
 },
 "nbformat": 4,
 "nbformat_minor": 2
}