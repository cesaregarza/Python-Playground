{
 "metadata": {
  "language_info": {
   "codemirror_mode": {
    "name": "ipython",
    "version": 3
   },
   "file_extension": ".py",
   "mimetype": "text/x-python",
   "name": "python",
   "nbconvert_exporter": "python",
   "pygments_lexer": "ipython3",
   "version": "3.8.5-final"
  },
  "orig_nbformat": 2,
  "kernelspec": {
   "name": "python3",
   "display_name": "Python 3"
  }
 },
 "nbformat": 4,
 "nbformat_minor": 2,
 "cells": [
  {
   "cell_type": "code",
   "execution_count": 1,
   "metadata": {},
   "outputs": [],
   "source": [
    "import numpy as np\n",
    "f = open(\"day_10_input.txt\")\n",
    "input_list = f.read().split(\"\\n\")\n",
    "#Turn the input list into an array, and turn each element in the list into an integer. Then, add 0 and max+3 to the list\n",
    "input_array = np.array([int(item) for item in input_list])\n",
    "input_array = np.append(input_array, [0, input_array.max() + 3])"
   ]
  },
  {
   "cell_type": "code",
   "execution_count": 2,
   "metadata": {},
   "outputs": [
    {
     "output_type": "execute_result",
     "data": {
      "text/plain": [
       "array([144,  10,  75,   3,  36,  80, 143,  59, 111, 133,   1, 112,  23,\n",
       "        62, 101, 137,  41,  24,   8, 121,  35, 105, 161,  69,  52,  21,\n",
       "        55,  29, 135, 142,  38, 108, 141, 115,  68,   7,  98,  82,   9,\n",
       "        72, 118,  27, 153, 140,  61,  90, 158, 102,  28, 134,  91,   2,\n",
       "        17,  81,  31,  15, 120,  20,  34,  56,   4,  44,  74,  14, 147,\n",
       "        11,  49, 128,  16,  99,  66,  47, 125, 155, 130,  37,  67,  54,\n",
       "        60,  48, 136,  89, 119, 154, 122, 129, 163,  73, 100,  85,  95,\n",
       "        30,  76, 162,  22,  79,  88, 150,  53,  63,  92,   0, 166])"
      ]
     },
     "metadata": {},
     "execution_count": 2
    }
   ],
   "source": [
    "input_array"
   ]
  },
  {
   "cell_type": "code",
   "execution_count": 3,
   "metadata": {},
   "outputs": [],
   "source": [
    "def day_10_part_1():\n",
    "    #Sort the list\n",
    "    sorted_array = np.sort(input_array)\n",
    "\n",
    "    #Generate an array which contains the differences between each consecutive element. So [1,3,6] will return [2,3]\n",
    "    difference_array = np.ediff1d(sorted_array)\n",
    "\n",
    "    #Count the number of ones, and the number of threes. Return the product\n",
    "    number_of_ones   = len(difference_array[difference_array == 1])\n",
    "    number_of_threes = len(difference_array[difference_array == 3])\n",
    "    return number_of_ones * number_of_threes"
   ]
  },
  {
   "cell_type": "code",
   "execution_count": 4,
   "metadata": {},
   "outputs": [
    {
     "output_type": "execute_result",
     "data": {
      "text/plain": [
       "2240"
      ]
     },
     "metadata": {},
     "execution_count": 4
    }
   ],
   "source": [
    "day_10_part_1()"
   ]
  },
  {
   "cell_type": "code",
   "execution_count": 5,
   "metadata": {},
   "outputs": [],
   "source": [
    "def day_10_part_2():\n",
    "    #Sort the array and generate the difference array, as in part 1\n",
    "    sorted_array =      np.sort(input_array)\n",
    "    difference_array =  np.ediff1d(sorted_array)\n",
    "\n",
    "    #Function that will enumerate the length of the runs\n",
    "    def count_run_length_in_array():\n",
    "        #Set up an empty runs_list and a variable current_run that will be set to 0\n",
    "        runs_list = []\n",
    "        current_run = 0\n",
    "\n",
    "        #Iterate over each value in the difference array looking for 1s. If there's a 1, make the current run longer.\n",
    "        for value in difference_array:\n",
    "            if value == 1:\n",
    "                current_run += 1\n",
    "            #If the value is not a 1, add it to the run list and reset the current_run counter.\n",
    "            else:\n",
    "                runs_list.append(current_run)\n",
    "                current_run = 0\n",
    "        \n",
    "        #Return the list of run lengths. Note that two 3s in a row will net a \"0\", but that's automatically handled by the next function\n",
    "        return runs_list\n",
    "    \n",
    "    #Function that will generate a n-bonacci sequence of given length. That is, a(k) = a(k-1) + a(k-2) ... + a(k-n). As such, a Fibonacci sequence is an n-bonacci sequence when n=2\n",
    "    def n_bonacci(n, length_of_sequence):\n",
    "        #Create an empty array, and set the one located at n-1 to 1. This is our a(0)\n",
    "        n_bonacci_array = np.zeros(shape = (length_of_sequence + n,))\n",
    "        n_bonacci_array[n - 1] = 1\n",
    "\n",
    "        #Iterate over the rest of the numbers in the n-bonacci array as the sum of the previous n array elements.\n",
    "        for index in range(n, length_of_sequence + n):\n",
    "            n_bonacci_array[index] = sum([n_bonacci_array[index - pointer] for pointer in range(1, n+1)])\n",
    "        \n",
    "        #Lop off all the zeros before returning\n",
    "        return n_bonacci_array[n - 1:]\n",
    "    \n",
    "    #Turn the difference array into a list containing the length of each run in the array\n",
    "    runs_list = count_run_length_in_array()\n",
    "\n",
    "    #Generate an tribonacci list whose length is the maximum of the runs list\n",
    "    n_bonacci_list = n_bonacci(3, max(runs_list))\n",
    "\n",
    "    #The goods. This is where the math comes in. \n",
    "    #Each sequence of 1s that can sum up to k when order matters can be represented in a(k) ways where a(k) is the kth entry of the n-bonacci sequence\n",
    "    #So, 1 1 1 1 where the values can sum to {1, 2, 3} can be represented in the following ways:\n",
    "    # 1) 1 1 1 1                    2) 1 1 2                    3) 1 2 1\n",
    "    # 4) 2 1 1                      5) 2 2                      6) 1 3\n",
    "    # 7) 3 1\n",
    "    #Thus, there are 7 ways to represent four ones in a row. a(4) of the tribonacci sequence is also 7. Thus, we replace each run length with the corresponding tribonacci number\n",
    "    #Because a(0) = 1, it was not necessary to remove 0s from the run length generating function, as the resulting product will be unchanged.\n",
    "    n_bonacci_replaced = [n_bonacci_list[run] for run in runs_list]\n",
    "\n",
    "    #We now return an integer value of the product of each item in the list containing the appropriate tribonacci replacement for each run\n",
    "    return int(np.product(n_bonacci_replaced))"
   ]
  },
  {
   "cell_type": "code",
   "execution_count": 6,
   "metadata": {},
   "outputs": [
    {
     "output_type": "execute_result",
     "data": {
      "text/plain": [
       "99214346656768"
      ]
     },
     "metadata": {},
     "execution_count": 6
    }
   ],
   "source": [
    "day_10_part_2()"
   ]
  }
 ]
}