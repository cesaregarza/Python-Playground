{
 "cells": [
  {
   "cell_type": "code",
   "execution_count": 1,
   "metadata": {},
   "outputs": [],
   "source": [
    "import pandas as pd\n",
    "pdix = pd.IndexSlice\n",
    "f = open(\"day_7_input.txt\")\n",
    "input_list = f.read().split(\"\\n\")"
   ]
  },
  {
   "cell_type": "code",
   "execution_count": 2,
   "metadata": {},
   "outputs": [],
   "source": [
    "df = pd.DataFrame(input_list, columns=[\"raw\"])\n",
    "#Separate into parent and children\n",
    "df['parent'] = df['raw'].str.split(' contain ').str[0].str.replace('bags', '').str.replace('bag', '').str.strip()\n",
    "df['raw_child'] = df['raw'].str.split(' contain ').str[1].str.replace('bags', '').str.replace('bag', '').str.strip()"
   ]
  },
  {
   "cell_type": "code",
   "execution_count": 3,
   "metadata": {},
   "outputs": [],
   "source": [
    "#Expand the children into the dataframe\n",
    "children_list = [f\"child_{i}\" for i in range(1, 5)]\n",
    "df[children_list] = df['raw_child'].str.split(\", \", expand=True)\n",
    "\n",
    "#Remove unnecessary columns and stack\n",
    "df = df[['parent', *children_list]].set_index('parent').stack().to_frame()\n",
    "df.columns = [\"child\"]\n",
    "\n",
    "#Split the 'child' column into quantity and type using regex\n",
    "df['child'] = df['child'].str.strip().str.strip('.')\n",
    "regex = r\"([0-9]+)\"\n",
    "regex_2 = r\"([a-zA-Z\\ ]+)\"\n",
    "#Extract the quantity, set those with N/A values as \"0\" to identify which are the bottom-level bags, and set as an integer\n",
    "df['qty'] = df['child'].str.extract(regex)\n",
    "df.loc[df['qty'].isna(), 'qty'] = 0\n",
    "df['qty'] = df['qty'].astype(int)\n",
    "#Extract type, clean up a bit, then remove unnecessary interim columns\n",
    "df['type'] = df['child'].str.extract(regex_2).loc[:, 0].str.strip()\n",
    "df = df[['type', 'qty']]"
   ]
  },
  {
   "cell_type": "code",
   "execution_count": 4,
   "metadata": {},
   "outputs": [
    {
     "output_type": "execute_result",
     "data": {
      "text/plain": "                                                           parent\ntype                                                             \nbright aqua            [faded chartreuse, posh aqua, pale violet]\nbright beige                            [wavy green, faded black]\nbright black    [bright chartreuse, wavy red, vibrant coral, d...\nbright blue     [posh fuchsia, mirrored white, striped tomato,...\nbright bronze   [faded chartreuse, wavy black, dark gray, clea...\n...                                                           ...\nwavy purple              [dull olive, wavy fuchsia, clear maroon]\nwavy silver                                        [striped gold]\nwavy turquoise                     [striped magenta, pale violet]\nwavy violet     [pale salmon, clear orange, dotted purple, shi...\nwavy yellow     [shiny teal, plaid green, dim beige, dark beig...\n\n[431 rows x 1 columns]",
      "text/html": "<div>\n<style scoped>\n    .dataframe tbody tr th:only-of-type {\n        vertical-align: middle;\n    }\n\n    .dataframe tbody tr th {\n        vertical-align: top;\n    }\n\n    .dataframe thead th {\n        text-align: right;\n    }\n</style>\n<table border=\"1\" class=\"dataframe\">\n  <thead>\n    <tr style=\"text-align: right;\">\n      <th></th>\n      <th>parent</th>\n    </tr>\n    <tr>\n      <th>type</th>\n      <th></th>\n    </tr>\n  </thead>\n  <tbody>\n    <tr>\n      <th>bright aqua</th>\n      <td>[faded chartreuse, posh aqua, pale violet]</td>\n    </tr>\n    <tr>\n      <th>bright beige</th>\n      <td>[wavy green, faded black]</td>\n    </tr>\n    <tr>\n      <th>bright black</th>\n      <td>[bright chartreuse, wavy red, vibrant coral, d...</td>\n    </tr>\n    <tr>\n      <th>bright blue</th>\n      <td>[posh fuchsia, mirrored white, striped tomato,...</td>\n    </tr>\n    <tr>\n      <th>bright bronze</th>\n      <td>[faded chartreuse, wavy black, dark gray, clea...</td>\n    </tr>\n    <tr>\n      <th>...</th>\n      <td>...</td>\n    </tr>\n    <tr>\n      <th>wavy purple</th>\n      <td>[dull olive, wavy fuchsia, clear maroon]</td>\n    </tr>\n    <tr>\n      <th>wavy silver</th>\n      <td>[striped gold]</td>\n    </tr>\n    <tr>\n      <th>wavy turquoise</th>\n      <td>[striped magenta, pale violet]</td>\n    </tr>\n    <tr>\n      <th>wavy violet</th>\n      <td>[pale salmon, clear orange, dotted purple, shi...</td>\n    </tr>\n    <tr>\n      <th>wavy yellow</th>\n      <td>[shiny teal, plaid green, dim beige, dark beig...</td>\n    </tr>\n  </tbody>\n</table>\n<p>431 rows × 1 columns</p>\n</div>"
     },
     "metadata": {},
     "execution_count": 4
    }
   ],
   "source": [
    "#Create an inverse of the dataframe that contains the parents of a child\n",
    "inverted_df = df['type'].reset_index().drop(columns = 'level_1').groupby('type')['parent'].apply(list).to_frame()\n",
    "inverted_df"
   ]
  },
  {
   "cell_type": "code",
   "execution_count": 5,
   "metadata": {},
   "outputs": [],
   "source": [
    "def day_7_part_1():\n",
    "    #Create a queueueueue, or stack, that we will iterate through\n",
    "    queueueueue = [\"shiny gold\"]\n",
    "    valid_parents = set()\n",
    "    \n",
    "    #This will loop until the queueueueue is empty\n",
    "    while len(queueueueue) > 0:\n",
    "        #Remove the first item in the queueueue from the list\n",
    "        subject = queueueueue.pop(0)\n",
    "        #Add the parents to the set containing the valid parents. This is to remove redundancies automatically\n",
    "        valid_parents.add(subject)\n",
    "        #Try is here to catch top-level parents. If it throws a KeyError, there's no parents, and thus we are at the top level\n",
    "        try:\n",
    "            parents = inverted_df.loc[subject, 'parent']\n",
    "        except KeyError:\n",
    "            continue\n",
    "        #Add the parents to the queue. NOTE: THIS WILL NOT REMOVE DUPLICATES. IMPORTANT TO STRESS\n",
    "        queueueueue += parents\n",
    "    \n",
    "    #After we're out of the queue but before we return, we remove \"Shiny gold\" from the equation\n",
    "    valid_parents.remove(\"shiny gold\")\n",
    "    return len(valid_parents)"
   ]
  },
  {
   "cell_type": "code",
   "execution_count": 6,
   "metadata": {},
   "outputs": [
    {
     "output_type": "execute_result",
     "data": {
      "text/plain": "235"
     },
     "metadata": {},
     "execution_count": 6
    }
   ],
   "source": [
    "day_7_part_1()"
   ]
  },
  {
   "cell_type": "code",
   "execution_count": 7,
   "metadata": {},
   "outputs": [],
   "source": [
    "def day_7_part_2(subject = \"shiny gold\"):\n",
    "\n",
    "    #This will retrieve a view of the dataframe that only has the appropriate children of the \"subject\" in question\n",
    "    children_df = df.loc[pdix[subject, :], :]\n",
    "    total_bags = 0\n",
    "\n",
    "    #Iterate over the view retrieved above\n",
    "    for [parent, idx], [child, qty] in children_df.iterrows():\n",
    "        #If quantity is zero, we have a bottom-level bag and can return a 1\n",
    "        if qty == 0:\n",
    "            return 1\n",
    "        \n",
    "        #Otherwise, we will recurse with the child bag and multiply by the quantity of the bags within with the quantity of that specific bag held within the subject\n",
    "        total_bags += qty * day_7_part_2(child)\n",
    "    \n",
    "    #Once outside the loop, we've completed how many bags are located inside. If the subject is \"shiny gold\", then we've reached the end and return the total bags. Otherwise, we return the amount of bags contained within plus one, to represent the subject itself.\n",
    "    if subject == \"shiny gold\":\n",
    "        return total_bags\n",
    "    else:\n",
    "        return total_bags + 1"
   ]
  },
  {
   "cell_type": "code",
   "execution_count": 8,
   "metadata": {},
   "outputs": [
    {
     "output_type": "execute_result",
     "data": {
      "text/plain": "158493"
     },
     "metadata": {},
     "execution_count": 8
    }
   ],
   "source": [
    "day_7_part_2()"
   ]
  },
  {
   "cell_type": "code",
   "execution_count": null,
   "metadata": {},
   "outputs": [],
   "source": []
  }
 ],
 "metadata": {
  "language_info": {
   "codemirror_mode": {
    "name": "ipython",
    "version": 3
   },
   "file_extension": ".py",
   "mimetype": "text/x-python",
   "name": "python",
   "nbconvert_exporter": "python",
   "pygments_lexer": "ipython3",
   "version": 3
  },
  "orig_nbformat": 2,
  "kernelspec": {
   "name": "python_defaultSpec_1607323584017",
   "display_name": "Python 3.7.6 64-bit ('anaconda3': virtualenv)"
  }
 },
 "nbformat": 4,
 "nbformat_minor": 2
}