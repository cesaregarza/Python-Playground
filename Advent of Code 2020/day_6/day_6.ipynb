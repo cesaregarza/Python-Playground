{
 "metadata": {
  "language_info": {
   "codemirror_mode": {
    "name": "ipython",
    "version": 3
   },
   "file_extension": ".py",
   "mimetype": "text/x-python",
   "name": "python",
   "nbconvert_exporter": "python",
   "pygments_lexer": "ipython3",
   "version": "3.8.5-final"
  },
  "orig_nbformat": 2,
  "kernelspec": {
   "name": "python3",
   "display_name": "Python 3"
  }
 },
 "nbformat": 4,
 "nbformat_minor": 2,
 "cells": [
  {
   "cell_type": "code",
   "execution_count": 1,
   "metadata": {},
   "outputs": [],
   "source": [
    "import pandas as pd\n",
    "import functools\n",
    "f = open(\"day_6_input.txt\")\n",
    "\n",
    "input_list = f.read().split(\"\\n\\n\")\n",
    "input_list = [item.split(\"\\n\") for item in input_list]"
   ]
  },
  {
   "cell_type": "code",
   "execution_count": 2,
   "metadata": {},
   "outputs": [],
   "source": [
    "df = pd.DataFrame(input_list).stack()"
   ]
  },
  {
   "cell_type": "code",
   "execution_count": 3,
   "metadata": {},
   "outputs": [
    {
     "output_type": "execute_result",
     "data": {
      "text/plain": [
       "0    0    rypdeiqkbgacnxwumhtozfjvs\n",
       "     1    mhrqdwtxcfjuseknozipayvbg\n",
       "     2    gunjdtebovsyihraczkmqxfpw\n",
       "     3    pqcnduafgkbzjhvirxtwmesoy\n",
       "1    0              wmghxlzctojyspn\n",
       "                    ...            \n",
       "496  2                         dcpr\n",
       "497  0                          nsi\n",
       "     1                        vlsig\n",
       "     2                          ins\n",
       "     3                           si\n",
       "Length: 1700, dtype: object"
      ]
     },
     "metadata": {},
     "execution_count": 3
    }
   ],
   "source": [
    "df"
   ]
  },
  {
   "cell_type": "code",
   "execution_count": 4,
   "metadata": {},
   "outputs": [],
   "source": [
    "def day_6_part_1():\n",
    "    \n",
    "    #We will create a function that we're going to apply to each row\n",
    "    #This function will use reduce to roll through each row, turn the first input into a set and then find the union between the aggregate and the next one. Finally, we return the length of the finalized reduced set.\n",
    "    def pandas_apply_set_union(row):\n",
    "        reduced_set = functools.reduce(lambda a, b: set(a).union(b), row)\n",
    "        return len(reduced_set)\n",
    "    \n",
    "    #Create a copy of the dataframe\n",
    "    df_copy = df\n",
    "    \n",
    "    #We then groupby on the 0th level, which represents each group, and apply our \"pandas_apply_set_union\" to each row. We then return the sum to find our answer\n",
    "    df_copy = df_copy.groupby(level=0).apply(pandas_apply_set_union)\n",
    "    return df_copy.sum()"
   ]
  },
  {
   "cell_type": "code",
   "execution_count": 5,
   "metadata": {},
   "outputs": [
    {
     "output_type": "execute_result",
     "data": {
      "text/plain": [
       "7128"
      ]
     },
     "metadata": {},
     "execution_count": 5
    }
   ],
   "source": [
    "day_6_part_1()"
   ]
  },
  {
   "cell_type": "code",
   "execution_count": 6,
   "metadata": {},
   "outputs": [],
   "source": [
    "def day_6_part_2():\n",
    "    \n",
    "    #This is the same as part 1, but with intersection rather than union\n",
    "    def pandas_apply_set_union(row):\n",
    "        reduced_set = functools.reduce(lambda a, b: set(a).intersection(b), row)\n",
    "        return len(reduced_set)\n",
    "    \n",
    "    #Create a copy of the dataframe\n",
    "    df_copy = df\n",
    "    \n",
    "    #We then groupby on the 0th level, which represents each group, and apply our \"pandas_apply_set_union\" to each row. We then return the sum to find our answer\n",
    "    df_copy = df_copy.groupby(level=0).apply(pandas_apply_set_union)\n",
    "    return df_copy.sum()"
   ]
  },
  {
   "cell_type": "code",
   "execution_count": 7,
   "metadata": {},
   "outputs": [
    {
     "output_type": "execute_result",
     "data": {
      "text/plain": [
       "3640"
      ]
     },
     "metadata": {},
     "execution_count": 7
    }
   ],
   "source": [
    "day_6_part_2()"
   ]
  }
 ]
}