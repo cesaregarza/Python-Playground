{
 "metadata": {
  "language_info": {
   "codemirror_mode": {
    "name": "ipython",
    "version": 3
   },
   "file_extension": ".py",
   "mimetype": "text/x-python",
   "name": "python",
   "nbconvert_exporter": "python",
   "pygments_lexer": "ipython3",
   "version": "3.8.3-final"
  },
  "orig_nbformat": 2,
  "kernelspec": {
   "name": "python3",
   "display_name": "Python 3",
   "language": "python"
  }
 },
 "nbformat": 4,
 "nbformat_minor": 2,
 "cells": [
  {
   "cell_type": "code",
   "execution_count": 1,
   "metadata": {},
   "outputs": [],
   "source": [
    "import pandas as pd\n",
    "f = open(\"day_12_input.txt\")\n",
    "input_list = f.read().split(\"\\n\")"
   ]
  },
  {
   "cell_type": "code",
   "execution_count": 2,
   "metadata": {},
   "outputs": [
    {
     "output_type": "execute_result",
     "data": {
      "text/plain": [
       "    command  value\n",
       "0         N      4\n",
       "1         F     85\n",
       "2         L     90\n",
       "3         N      4\n",
       "4         E      3\n",
       "..      ...    ...\n",
       "778       W      1\n",
       "779       R    180\n",
       "780       W      1\n",
       "781       L    180\n",
       "782       F     35\n",
       "\n",
       "[783 rows x 2 columns]"
      ],
      "text/html": "<div>\n<style scoped>\n    .dataframe tbody tr th:only-of-type {\n        vertical-align: middle;\n    }\n\n    .dataframe tbody tr th {\n        vertical-align: top;\n    }\n\n    .dataframe thead th {\n        text-align: right;\n    }\n</style>\n<table border=\"1\" class=\"dataframe\">\n  <thead>\n    <tr style=\"text-align: right;\">\n      <th></th>\n      <th>command</th>\n      <th>value</th>\n    </tr>\n  </thead>\n  <tbody>\n    <tr>\n      <th>0</th>\n      <td>N</td>\n      <td>4</td>\n    </tr>\n    <tr>\n      <th>1</th>\n      <td>F</td>\n      <td>85</td>\n    </tr>\n    <tr>\n      <th>2</th>\n      <td>L</td>\n      <td>90</td>\n    </tr>\n    <tr>\n      <th>3</th>\n      <td>N</td>\n      <td>4</td>\n    </tr>\n    <tr>\n      <th>4</th>\n      <td>E</td>\n      <td>3</td>\n    </tr>\n    <tr>\n      <th>...</th>\n      <td>...</td>\n      <td>...</td>\n    </tr>\n    <tr>\n      <th>778</th>\n      <td>W</td>\n      <td>1</td>\n    </tr>\n    <tr>\n      <th>779</th>\n      <td>R</td>\n      <td>180</td>\n    </tr>\n    <tr>\n      <th>780</th>\n      <td>W</td>\n      <td>1</td>\n    </tr>\n    <tr>\n      <th>781</th>\n      <td>L</td>\n      <td>180</td>\n    </tr>\n    <tr>\n      <th>782</th>\n      <td>F</td>\n      <td>35</td>\n    </tr>\n  </tbody>\n</table>\n<p>783 rows × 2 columns</p>\n</div>"
     },
     "metadata": {},
     "execution_count": 2
    }
   ],
   "source": [
    "commands_df = pd.DataFrame(input_list, columns=[\"command\"])\n",
    "commands_df['value'] = commands_df['command'].str[1:].astype(int)\n",
    "commands_df['command'] = commands_df['command'].str[:1]\n",
    "commands_df"
   ]
  },
  {
   "cell_type": "code",
   "execution_count": 3,
   "metadata": {},
   "outputs": [],
   "source": [
    "def day_12_part_1():\n",
    "\n",
    "    #Calculate North/South and East/West movement. North, East are positive values.\n",
    "    north_south_movement = commands_df.loc[commands_df['command'] == 'N', 'value'].sum() - commands_df.loc[commands_df['command'] == 'S', 'value'].sum()\n",
    "    east_west_movement   = commands_df.loc[commands_df['command'] == 'E', 'value'].sum() - commands_df.loc[commands_df['command'] == 'W', 'value'].sum()\n",
    "    #Create a mask for absolute movements and create a new dataframe that will contain only relative movements\n",
    "    absolute_movement_mask = commands_df['command'].isin(list('NESW'))\n",
    "    relative_commands_df = commands_df.loc[~absolute_movement_mask]\n",
    "\n",
    "    #Delete \"left\" turns, these will now be \"right\".\n",
    "    left_mask = relative_commands_df['command'] == 'L'\n",
    "    relative_commands_df.loc[left_mask, 'command']  = 'R'\n",
    "    relative_commands_df.loc[left_mask,   'value'] *= -1\n",
    "    \n",
    "    #Create a new key that will be used to combine values\n",
    "    relative_commands_df['key'] = (relative_commands_df['command'] != relative_commands_df['command'].shift(1)).astype(int).cumsum()\n",
    "    \n",
    "    #Overwrite relative_commands with the groupby version\n",
    "    relative_commands_df = relative_commands_df.groupby(['key', 'command']).sum()\n",
    "\n",
    "    #Delete empty values and reset index\n",
    "    relative_commands_df = relative_commands_df.loc[relative_commands_df['value'] != 0].reset_index()\n",
    "\n",
    "    #Re-groupby\n",
    "    relative_commands_df['key'] = (relative_commands_df['command'] != relative_commands_df['command'].shift(1)).astype(int).cumsum()\n",
    "    relative_commands_df = relative_commands_df.groupby(['key', 'command']).sum()\n",
    "\n",
    "    #Iterate on the resulting dataframe\n",
    "    direction = 0\n",
    "    for [key, command], row in relative_commands_df.iterrows():\n",
    "        value = row['value']\n",
    "        if command == 'F':\n",
    "            if direction == 0:\n",
    "                east_west_movement += value\n",
    "            elif direction == 90:\n",
    "                north_south_movement -= value\n",
    "            elif direction == 180:\n",
    "                east_west_movement -= value\n",
    "            elif direction == 270:\n",
    "                north_south_movement += value\n",
    "        else:\n",
    "            direction = (direction + value) % 360\n",
    "    # return north_south_movement, east_west_movement\n",
    "    return abs(north_south_movement) + abs(east_west_movement)"
   ]
  },
  {
   "cell_type": "code",
   "execution_count": 4,
   "metadata": {},
   "outputs": [
    {
     "output_type": "execute_result",
     "data": {
      "text/plain": [
       "1687"
      ]
     },
     "metadata": {},
     "execution_count": 4
    }
   ],
   "source": [
    "day_12_part_1()"
   ]
  },
  {
   "cell_type": "code",
   "execution_count": 5,
   "metadata": {},
   "outputs": [],
   "source": [
    "def day_12_part_2():\n",
    "    #Start expressing all values as complex values\n",
    "    waypoint_position = complex(10,1)\n",
    "    ship_position = complex(0,0)\n",
    "    #Dictionary containing the appropriate values for the turns. Note that 90 and 270 are flipped since we're doing \"R\" instead of \"L\"\n",
    "    directions = {\n",
    "        0:    complex( 1,  0),\n",
    "        90:   complex( 0, -1),\n",
    "        180:  complex(-1,  0),\n",
    "        270:  complex( 0,  1),\n",
    "    }\n",
    "    #Create a copy of the commands_df, and turn NSW into complex numbers\n",
    "    commands_df_copy = commands_df.copy()\n",
    "    commands_df_copy.loc[commands_df_copy['command'] == 'N', 'value'] *= 1j\n",
    "    commands_df_copy.loc[commands_df_copy['command'] == 'S', 'value'] *= -1j\n",
    "    commands_df_copy.loc[commands_df_copy['command'] == 'W', 'value'] *= -1\n",
    "\n",
    "    #Create a mask for the waypoint movements, then replace their command with an 'M'\n",
    "    absolute_movement_mask = commands_df_copy['command'].isin(list('NESW'))\n",
    "    commands_df_copy.loc[absolute_movement_mask, 'command'] = 'M'\n",
    "\n",
    "    #As before, turn all 'left' turns into 'right' turns\n",
    "    left_mask = commands_df_copy['command']  == 'L'\n",
    "    commands_df_copy.loc[left_mask, 'command']  = 'R'\n",
    "    commands_df_copy.loc[left_mask,   'value'] *= -1\n",
    "\n",
    "    #Create a new key that will be used to combine values\n",
    "    commands_df_copy['key'] = (commands_df_copy['command'] != commands_df_copy['command'].shift(1)).astype(int).cumsum()\n",
    "    \n",
    "    #Overwrite relative_commands with the groupby version\n",
    "    commands_df_copy = commands_df_copy.groupby(['key', 'command']).sum()\n",
    "\n",
    "    #Iterate over the resulting commands.\n",
    "    for [key, command], row in commands_df_copy.iterrows():\n",
    "        value = row['value']\n",
    "        #If \"M\", move the waypoint\n",
    "        if command == \"M\":\n",
    "            waypoint_position += value\n",
    "        #If \"R\", rotate by multiplying by the appropriate value\n",
    "        elif command == 'R':\n",
    "            mult = directions[int(value) % 360]\n",
    "            waypoint_position *= mult\n",
    "        #If \"F\", add the waypoint position the times indicated\n",
    "        elif command == 'F':\n",
    "            ship_position += waypoint_position * value\n",
    "            \n",
    "    #Return the sum of the absolute value of the real part and the imaginary part\n",
    "    return int(abs(ship_position.real) + abs(ship_position.imag))"
   ]
  },
  {
   "cell_type": "code",
   "execution_count": 6,
   "metadata": {},
   "outputs": [
    {
     "output_type": "execute_result",
     "data": {
      "text/plain": [
       "20873"
      ]
     },
     "metadata": {},
     "execution_count": 6
    }
   ],
   "source": [
    "day_12_part_2()"
   ]
  },
  {
   "cell_type": "code",
   "execution_count": null,
   "metadata": {},
   "outputs": [],
   "source": []
  }
 ]
}