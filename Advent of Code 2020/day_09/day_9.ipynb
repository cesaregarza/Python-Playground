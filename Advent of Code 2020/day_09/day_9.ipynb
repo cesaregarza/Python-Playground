{
 "metadata": {
  "language_info": {
   "codemirror_mode": {
    "name": "ipython",
    "version": 3
   },
   "file_extension": ".py",
   "mimetype": "text/x-python",
   "name": "python",
   "nbconvert_exporter": "python",
   "pygments_lexer": "ipython3",
   "version": "3.8.5-final"
  },
  "orig_nbformat": 2,
  "kernelspec": {
   "name": "python3",
   "display_name": "Python 3"
  }
 },
 "nbformat": 4,
 "nbformat_minor": 2,
 "cells": [
  {
   "cell_type": "code",
   "execution_count": 1,
   "metadata": {},
   "outputs": [],
   "source": [
    "import numpy as np\n",
    "f = open(\"day_9_input.txt\")\n",
    "input_list = f.read().split(\"\\n\")\n",
    "input_list = [int(item) for item in input_list]"
   ]
  },
  {
   "cell_type": "code",
   "execution_count": 2,
   "metadata": {},
   "outputs": [],
   "source": [
    "def calculate_sliding_window(window_list, target_sum):\n",
    "    #Just like day 1, assume a sorted list input and have a lower and upper pointer converging upon the target sum\n",
    "    lower_pointer, upper_pointer = [0, len(window_list) - 1]\n",
    "\n",
    "    for _ in range(upper_pointer + 1):\n",
    "        first = window_list[lower_pointer]\n",
    "        last =  window_list[upper_pointer]\n",
    "\n",
    "        summ = first + last\n",
    "\n",
    "        if summ == target_sum:\n",
    "            return True\n",
    "        elif summ < target_sum:\n",
    "            lower_pointer += 1\n",
    "        elif summ > target_sum:\n",
    "            upper_pointer -= 1\n",
    "    #If the loop ends without returning True, then return False\n",
    "    return False"
   ]
  },
  {
   "cell_type": "code",
   "execution_count": 3,
   "metadata": {},
   "outputs": [],
   "source": [
    "def day_9_part_1():\n",
    "    #Set a maximum length, which is going to be the length of the input, minus the preamble of 25, minus one\n",
    "    max_length = len(input_list) - 25 - 1\n",
    "\n",
    "    for i in range(max_length):\n",
    "        #Set the window and the target sum. Sort the window\n",
    "        window_list = input_list[i:i+25]\n",
    "        target = input_list[i + 25]\n",
    "        window_list.sort()\n",
    "        \n",
    "        #Use the function defined above to determine if the sum is in the window\n",
    "        return_value = calculate_sliding_window(window_list, target)\n",
    "\n",
    "        #If the value is false, return out target\n",
    "        if return_value == False:\n",
    "            return target"
   ]
  },
  {
   "cell_type": "code",
   "execution_count": 4,
   "metadata": {},
   "outputs": [
    {
     "output_type": "execute_result",
     "data": {
      "text/plain": [
       "1309761972"
      ]
     },
     "metadata": {},
     "execution_count": 4
    }
   ],
   "source": [
    "day_9_part_1()"
   ]
  },
  {
   "cell_type": "code",
   "execution_count": 5,
   "metadata": {},
   "outputs": [],
   "source": [
    "def day_9_part_2():\n",
    "    #Our target is the value from part 1, so we get both the target and the length\n",
    "    target_sum = day_9_part_1()\n",
    "    max_length = input_list.index(target_sum)\n",
    "\n",
    "    #We again establish two pointers, this time both located at [0,0]. We do this because we can take advantage of a numpy property of [].sum() = 0\n",
    "    lower_pointer, upper_pointer = [0, 0]\n",
    "\n",
    "    #While the lower pointer is before the target sum\n",
    "    while lower_pointer < max_length:\n",
    "        #Set an array that's the input list between the lower and upper pointers\n",
    "        array = np.array(input_list[lower_pointer:upper_pointer])\n",
    "        summ = array.sum()\n",
    "\n",
    "        #If the sum of the array is the target, return the sum of the minimum and maximum of the array\n",
    "        if summ == target_sum:\n",
    "            return array.min() + array.max()\n",
    "        #If the sum of the array is too small, add another item into the window\n",
    "        elif summ < target_sum:\n",
    "            upper_pointer += 1\n",
    "        #If the sum of the array is too large, remove the first item from the window\n",
    "        elif summ > target_sum:\n",
    "            lower_pointer += 1"
   ]
  },
  {
   "cell_type": "code",
   "execution_count": 6,
   "metadata": {},
   "outputs": [
    {
     "output_type": "execute_result",
     "data": {
      "text/plain": [
       "177989832"
      ]
     },
     "metadata": {},
     "execution_count": 6
    }
   ],
   "source": [
    "day_9_part_2()"
   ]
  },
  {
   "cell_type": "code",
   "execution_count": null,
   "metadata": {},
   "outputs": [],
   "source": []
  }
 ]
}