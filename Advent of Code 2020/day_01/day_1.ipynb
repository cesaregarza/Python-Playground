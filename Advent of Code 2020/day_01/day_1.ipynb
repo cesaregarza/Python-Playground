{
 "metadata": {
  "language_info": {
   "codemirror_mode": {
    "name": "ipython",
    "version": 3
   },
   "file_extension": ".py",
   "mimetype": "text/x-python",
   "name": "python",
   "nbconvert_exporter": "python",
   "pygments_lexer": "ipython3",
   "version": "3.8.5-final"
  },
  "orig_nbformat": 2,
  "kernelspec": {
   "name": "python3",
   "display_name": "Python 3"
  }
 },
 "nbformat": 4,
 "nbformat_minor": 2,
 "cells": [
  {
   "cell_type": "code",
   "execution_count": 1,
   "metadata": {},
   "outputs": [],
   "source": [
    "import numpy as np"
   ]
  },
  {
   "cell_type": "code",
   "execution_count": 2,
   "metadata": {},
   "outputs": [],
   "source": [
    "input_array = np.loadtxt(\"day_1_input.txt\")\n",
    "input_array.sort()"
   ]
  },
  {
   "cell_type": "code",
   "execution_count": 3,
   "metadata": {},
   "outputs": [],
   "source": [
    "def day_1():\n",
    "    #Create two pointers at opposite ends of the list\n",
    "    i, j = 0, len(input_array) - 1\n",
    "    \n",
    "    #Iterate over whole list, returning early when found\n",
    "    for _ in range(len(input_array)):\n",
    "        #Establish the two items that our pointers are looking at\n",
    "        first = input_array[i]\n",
    "        last = input_array[j]\n",
    "        #Find the sum\n",
    "        summ = last + first\n",
    "\n",
    "        #If it's greater than 2020, going back one will reduce the sum. If it's less, going forward will add to the sum. Repeat until you find a sum equal to 2020\n",
    "        if summ == 2020:\n",
    "            return first * last\n",
    "        elif summ > 2020:\n",
    "            j -= 1\n",
    "        elif summ < 2020:\n",
    "            i += 1"
   ]
  },
  {
   "cell_type": "code",
   "execution_count": 4,
   "metadata": {},
   "outputs": [
    {
     "output_type": "execute_result",
     "data": {
      "text/plain": [
       "926464.0"
      ]
     },
     "metadata": {},
     "execution_count": 4
    }
   ],
   "source": [
    "day_1()"
   ]
  },
  {
   "cell_type": "code",
   "execution_count": 5,
   "metadata": {},
   "outputs": [],
   "source": [
    "input_array_2 = np.loadtxt(\"day_1_part_2.txt\").reshape((1, -1))\n",
    "input_array_2.sort()"
   ]
  },
  {
   "cell_type": "code",
   "execution_count": 6,
   "metadata": {},
   "outputs": [],
   "source": [
    "def day_1_part_2():\n",
    "    #Create a 2D matrix containing all the sums of any two digits\n",
    "    output_matrix = []\n",
    "\n",
    "    for row in input_array_2:\n",
    "        inner_list = []\n",
    "        for element in row:\n",
    "            inner_list.append(row + element)\n",
    "        \n",
    "        output_matrix.append(inner_list)\n",
    "    \n",
    "    output_matrix = np.array(output_matrix).reshape(200,200)\n",
    "\n",
    "    #Next, create a vector of the difference between 2020 and our inputs\n",
    "    difference_vector = 2020 - input_array_2\n",
    "\n",
    "    #Finally, look for which items from this difference vector are within the matrix of sums. The only 3 that should pop up will be the solution\n",
    "    mask = np.isin(difference_vector, output_matrix)\n",
    "    return np.product(input_array_2[mask])"
   ]
  },
  {
   "cell_type": "code",
   "execution_count": 7,
   "metadata": {},
   "outputs": [
    {
     "output_type": "execute_result",
     "data": {
      "text/plain": [
       "65656536.0"
      ]
     },
     "metadata": {},
     "execution_count": 7
    }
   ],
   "source": [
    "day_1_part_2()"
   ]
  }
 ]
}