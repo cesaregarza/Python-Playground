{
 "metadata": {
  "language_info": {
   "codemirror_mode": {
    "name": "ipython",
    "version": 3
   },
   "file_extension": ".py",
   "mimetype": "text/x-python",
   "name": "python",
   "nbconvert_exporter": "python",
   "pygments_lexer": "ipython3",
   "version": "3.8.5-final"
  },
  "orig_nbformat": 2,
  "kernelspec": {
   "name": "python3",
   "display_name": "Python 3"
  }
 },
 "nbformat": 4,
 "nbformat_minor": 2,
 "cells": [
  {
   "cell_type": "code",
   "execution_count": 1,
   "metadata": {},
   "outputs": [],
   "source": [
    "f = open(\"day_3_input.txt\")\n",
    "input_list = f.read().split(\"\\n\")"
   ]
  },
  {
   "cell_type": "code",
   "execution_count": 2,
   "metadata": {},
   "outputs": [],
   "source": [
    "def day_3(x_delta = 3, y_delta = 1):\n",
    "    #Start three counters. collisions is the number of trees hit, position is the position on that row, and y_counter will skip rows until the y_delta is reached\n",
    "    #collisions is obviously set at zero, but position has to be set at -x_delta and y_counter at -1 so that upon our first iteration we are correctly positioned\n",
    "    #at (0,0)\n",
    "    collisions, position, y_counter = 0, -x_delta, -1\n",
    "    for row in input_list:\n",
    "        #This ensures that y_counter will only be zero when divisible by y_delta.\n",
    "        y_counter = (y_counter + 1) % y_delta\n",
    "        if y_counter > 0:\n",
    "            continue\n",
    "        \n",
    "        #Calculate horizontal position using modular arithmetic\n",
    "        position = (position + x_delta) % len(row)\n",
    "        #Since \"#\" means a tree, we're going to add to our collision total here\n",
    "        if row[position] == \"#\":\n",
    "            collisions += 1\n",
    "    \n",
    "    return collisions"
   ]
  },
  {
   "cell_type": "code",
   "execution_count": 3,
   "metadata": {},
   "outputs": [
    {
     "output_type": "execute_result",
     "data": {
      "text/plain": [
       "292"
      ]
     },
     "metadata": {},
     "execution_count": 3
    }
   ],
   "source": [
    "day_3()"
   ]
  },
  {
   "cell_type": "code",
   "execution_count": 4,
   "metadata": {},
   "outputs": [
    {
     "output_type": "execute_result",
     "data": {
      "text/plain": [
       "9354744432"
      ]
     },
     "metadata": {},
     "execution_count": 4
    }
   ],
   "source": [
    "day_3(1) * day_3(3) * day_3(5) * day_3(7) * day_3(1, 2)"
   ]
  }
 ]
}