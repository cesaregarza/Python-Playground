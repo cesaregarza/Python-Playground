{
 "cells": [
  {
   "cell_type": "code",
   "execution_count": 21,
   "metadata": {},
   "outputs": [],
   "source": [
    "from sympy import *\n",
    "init_printing()"
   ]
  },
  {
   "cell_type": "code",
   "execution_count": 2,
   "metadata": {},
   "outputs": [],
   "source": [
    "evenFib = Matrix([[4,1],[1,0]])"
   ]
  },
  {
   "cell_type": "code",
   "execution_count": 3,
   "metadata": {},
   "outputs": [
    {
     "data": {
      "text/latex": [
       "$\\displaystyle \\left[\\begin{matrix}4 & 1\\\\1 & 0\\end{matrix}\\right]$"
      ],
      "text/plain": [
       "Matrix([\n",
       "[4, 1],\n",
       "[1, 0]])"
      ]
     },
     "execution_count": 3,
     "metadata": {},
     "output_type": "execute_result"
    }
   ],
   "source": [
    "evenFib"
   ]
  },
  {
   "cell_type": "code",
   "execution_count": 5,
   "metadata": {},
   "outputs": [
    {
     "data": {
      "text/plain": [
       "{2 - sqrt(5): 1, 2 + sqrt(5): 1}"
      ]
     },
     "execution_count": 5,
     "metadata": {},
     "output_type": "execute_result"
    }
   ],
   "source": [
    "evenFib.eigenvals()"
   ]
  },
  {
   "cell_type": "code",
   "execution_count": 15,
   "metadata": {},
   "outputs": [],
   "source": [
    "lplus = 2 + sqrt(5)\n",
    "lminus = 2 - sqrt(5)"
   ]
  },
  {
   "cell_type": "code",
   "execution_count": 7,
   "metadata": {},
   "outputs": [
    {
     "data": {
      "text/latex": [
       "$\\displaystyle \\left[\\begin{matrix}72 & 17\\\\17 & 4\\end{matrix}\\right]$"
      ],
      "text/plain": [
       "Matrix([\n",
       "[72, 17],\n",
       "[17,  4]])"
      ]
     },
     "execution_count": 7,
     "metadata": {},
     "output_type": "execute_result"
    }
   ],
   "source": [
    "evenFib ** 3"
   ]
  },
  {
   "cell_type": "code",
   "execution_count": 8,
   "metadata": {},
   "outputs": [
    {
     "data": {
      "text/latex": [
       "$\\displaystyle \\left[\\begin{matrix}305 & 72\\\\72 & 17\\end{matrix}\\right]$"
      ],
      "text/plain": [
       "Matrix([\n",
       "[305, 72],\n",
       "[ 72, 17]])"
      ]
     },
     "execution_count": 8,
     "metadata": {},
     "output_type": "execute_result"
    }
   ],
   "source": [
    "evenFib ** 4"
   ]
  },
  {
   "cell_type": "code",
   "execution_count": 12,
   "metadata": {},
   "outputs": [
    {
     "data": {
      "text/latex": [
       "$\\displaystyle 24476.0000408564$"
      ],
      "text/plain": [
       "24476.0000408564"
      ]
     },
     "execution_count": 12,
     "metadata": {},
     "output_type": "execute_result"
    }
   ],
   "source": [
    "N((2+sqrt(5)) ** 7)"
   ]
  },
  {
   "cell_type": "code",
   "execution_count": 27,
   "metadata": {},
   "outputs": [
    {
     "data": {
      "image/png": "[encoded data removed]",
      "text/latex": [
       "$\\displaystyle 152.0$"
      ],
      "text/plain": [
       "152.000000000000"
      ]
     },
     "execution_count": 27,
     "metadata": {},
     "output_type": "execute_result"
    }
   ],
   "source": [
    "N(2 * lplus ** 3 + 2 * lminus ** 3)"
   ]
  },
  {
   "cell_type": "code",
   "execution_count": 22,
   "metadata": {},
   "outputs": [
    {
     "data": {
      "text/latex": [
       "$\\displaystyle \\left[ \\left( 2 - \\sqrt{5}, \\  1, \\  \\left[ \\left[\\begin{matrix}- \\frac{1}{2 + \\sqrt{5}}\\\\1\\end{matrix}\\right]\\right]\\right), \\  \\left( 2 + \\sqrt{5}, \\  1, \\  \\left[ \\left[\\begin{matrix}- \\frac{1}{2 - \\sqrt{5}}\\\\1\\end{matrix}\\right]\\right]\\right)\\right]$"
      ],
      "text/plain": [
       "⎡⎛           ⎡⎡ -1   ⎤⎤⎞  ⎛           ⎡⎡ -1   ⎤⎤⎞⎤\n",
       "⎢⎜           ⎢⎢──────⎥⎥⎟  ⎜           ⎢⎢──────⎥⎥⎟⎥\n",
       "⎢⎜2 - √5, 1, ⎢⎢2 + √5⎥⎥⎟, ⎜2 + √5, 1, ⎢⎢2 - √5⎥⎥⎟⎥\n",
       "⎢⎜           ⎢⎢      ⎥⎥⎟  ⎜           ⎢⎢      ⎥⎥⎟⎥\n",
       "⎣⎝           ⎣⎣  1   ⎦⎦⎠  ⎝           ⎣⎣  1   ⎦⎦⎠⎦"
      ]
     },
     "execution_count": 22,
     "metadata": {},
     "output_type": "execute_result"
    }
   ],
   "source": [
    "evenFib.eigenvects()"
   ]
  },
  {
   "cell_type": "code",
   "execution_count": 29,
   "metadata": {},
   "outputs": [],
   "source": [
    "evenFibDiag = Matrix([[-1/lplus, -1/lminus],[1,1]])"
   ]
  },
  {
   "cell_type": "code",
   "execution_count": 30,
   "metadata": {},
   "outputs": [
    {
     "data": {
      "text/latex": [
       "$\\displaystyle \\left[\\begin{matrix}- \\frac{1}{2 + \\sqrt{5}} & - \\frac{1}{2 - \\sqrt{5}}\\\\1 & 1\\end{matrix}\\right]$"
      ],
      "text/plain": [
       "⎡ -1      -1   ⎤\n",
       "⎢──────  ──────⎥\n",
       "⎢2 + √5  2 - √5⎥\n",
       "⎢              ⎥\n",
       "⎣  1       1   ⎦"
      ]
     },
     "execution_count": 30,
     "metadata": {},
     "output_type": "execute_result"
    }
   ],
   "source": [
    "evenFibDiag"
   ]
  },
  {
   "cell_type": "code",
   "execution_count": 82,
   "metadata": {},
   "outputs": [
    {
     "data": {
      "text/latex": [
       "$\\displaystyle \\left[\\begin{matrix}-1 & 2 + \\sqrt{5}\\\\1 & -2 + \\sqrt{5}\\end{matrix}\\right]$"
      ],
      "text/plain": [
       "⎡-1  2 + √5 ⎤\n",
       "⎢           ⎥\n",
       "⎣1   -2 + √5⎦"
      ]
     },
     "execution_count": 82,
     "metadata": {},
     "output_type": "execute_result"
    }
   ],
   "source": [
    "simplify(evenFibDiag.inv() * 10/(sqrt(5)))"
   ]
  },
  {
   "cell_type": "code",
   "execution_count": 36,
   "metadata": {},
   "outputs": [
    {
     "data": {
      "text/latex": [
       "$\\displaystyle \\left[\\begin{matrix}4 x + y\\\\x\\end{matrix}\\right]$"
      ],
      "text/plain": [
       "⎡4⋅x + y⎤\n",
       "⎢       ⎥\n",
       "⎣   x   ⎦"
      ]
     },
     "execution_count": 36,
     "metadata": {},
     "output_type": "execute_result"
    }
   ],
   "source": [
    "x, y = symbols(\"x y\")\n",
    "evenFib * Matrix([[x],[y]])"
   ]
  },
  {
   "cell_type": "code",
   "execution_count": 39,
   "metadata": {},
   "outputs": [
    {
     "data": {
      "text/latex": [
       "$\\displaystyle \\left[\\begin{matrix}8 & 2\\\\2 & 0\\end{matrix}\\right]$"
      ],
      "text/plain": [
       "⎡8  2⎤\n",
       "⎢    ⎥\n",
       "⎣2  0⎦"
      ]
     },
     "execution_count": 39,
     "metadata": {},
     "output_type": "execute_result"
    }
   ],
   "source": [
    "2 * evenFib ** 1"
   ]
  },
  {
   "cell_type": "code",
   "execution_count": 40,
   "metadata": {},
   "outputs": [
    {
     "data": {
      "text/latex": [
       "$\\displaystyle \\left[\\begin{matrix}4 a + b & 4 b + c\\\\a & b\\end{matrix}\\right]$"
      ],
      "text/plain": [
       "⎡4⋅a + b  4⋅b + c⎤\n",
       "⎢                ⎥\n",
       "⎣   a        b   ⎦"
      ]
     },
     "execution_count": 40,
     "metadata": {},
     "output_type": "execute_result"
    }
   ],
   "source": [
    "a, b, c = symbols(\"a b c\")\n",
    "evenFib * Matrix([[a, b],[b, c]])"
   ]
  },
  {
   "cell_type": "code",
   "execution_count": 44,
   "metadata": {},
   "outputs": [
    {
     "data": {
      "text/latex": [
       "$\\displaystyle \\left[\\begin{matrix}-7 + 4 \\sqrt{5}\\\\-2 + \\sqrt{5}\\end{matrix}\\right]$"
      ],
      "text/plain": [
       "⎡-7 + 4⋅√5⎤\n",
       "⎢         ⎥\n",
       "⎣ -2 + √5 ⎦"
      ]
     },
     "execution_count": 44,
     "metadata": {},
     "output_type": "execute_result"
    }
   ],
   "source": [
    "simplify((evenFib * Matrix([[1/lplus],[1]])))"
   ]
  },
  {
   "cell_type": "code",
   "execution_count": 45,
   "metadata": {},
   "outputs": [],
   "source": [
    "Q = Matrix([[-1/a, -1/b],[1,1]])"
   ]
  },
  {
   "cell_type": "code",
   "execution_count": 46,
   "metadata": {},
   "outputs": [],
   "source": [
    "L = Matrix([[a, 0],[0, b]]) ** c"
   ]
  },
  {
   "cell_type": "code",
   "execution_count": 49,
   "metadata": {},
   "outputs": [],
   "source": [
    "QQ = Matrix([[-1, a], [1, -b]])"
   ]
  },
  {
   "cell_type": "code",
   "execution_count": 52,
   "metadata": {},
   "outputs": [
    {
     "data": {
      "text/latex": [
       "$\\displaystyle \\left[\\begin{matrix}\\frac{\\sqrt{5} \\left(- a b^{c} + a^{c} b\\right)}{5 a b}\\\\\\frac{\\sqrt{5} \\left(- a^{c} + b^{c}\\right)}{5}\\end{matrix}\\right]$"
      ],
      "text/plain": [
       "⎡   ⎛     c    c  ⎞⎤\n",
       "⎢√5⋅⎝- a⋅b  + a ⋅b⎠⎥\n",
       "⎢──────────────────⎥\n",
       "⎢      5⋅a⋅b       ⎥\n",
       "⎢                  ⎥\n",
       "⎢     ⎛   c    c⎞  ⎥\n",
       "⎢  √5⋅⎝- a  + b ⎠  ⎥\n",
       "⎢  ──────────────  ⎥\n",
       "⎣        5         ⎦"
      ]
     },
     "execution_count": 52,
     "metadata": {},
     "output_type": "execute_result"
    }
   ],
   "source": [
    "simplify(1/(2 * sqrt(5)) * Q * L * QQ * Matrix([[2],[0]]))"
   ]
  },
  {
   "cell_type": "code",
   "execution_count": 53,
   "metadata": {},
   "outputs": [
    {
     "data": {
      "text/latex": [
       "$\\displaystyle \\left[\\begin{matrix}- \\frac{a^{c}}{a} & - \\frac{b^{c}}{b}\\\\a^{c} & b^{c}\\end{matrix}\\right]$"
      ],
      "text/plain": [
       "⎡  c     c ⎤\n",
       "⎢-a    -b  ⎥\n",
       "⎢────  ────⎥\n",
       "⎢ a     b  ⎥\n",
       "⎢          ⎥\n",
       "⎢  c     c ⎥\n",
       "⎣ a     b  ⎦"
      ]
     },
     "execution_count": 53,
     "metadata": {},
     "output_type": "execute_result"
    }
   ],
   "source": [
    "Q * L"
   ]
  },
  {
   "cell_type": "code",
   "execution_count": 54,
   "metadata": {},
   "outputs": [
    {
     "data": {
      "text/latex": [
       "$\\displaystyle \\left[\\begin{matrix}- \\frac{1}{b} + \\frac{1}{a} & 0\\\\0 & a - b\\end{matrix}\\right]$"
      ],
      "text/plain": [
       "⎡  1   1       ⎤\n",
       "⎢- ─ + ─    0  ⎥\n",
       "⎢  b   a       ⎥\n",
       "⎢              ⎥\n",
       "⎣   0     a - b⎦"
      ]
     },
     "execution_count": 54,
     "metadata": {},
     "output_type": "execute_result"
    }
   ],
   "source": [
    "Q * QQ"
   ]
  },
  {
   "cell_type": "code",
   "execution_count": 55,
   "metadata": {},
   "outputs": [
    {
     "data": {
      "text/latex": [
       "$\\displaystyle \\left[\\begin{matrix}- \\frac{1}{- \\frac{1}{b} + \\frac{1}{a}} & - \\frac{1}{b \\left(- \\frac{1}{b} + \\frac{1}{a}\\right)}\\\\\\frac{1}{- \\frac{1}{b} + \\frac{1}{a}} & \\frac{1}{a \\left(- \\frac{1}{b} + \\frac{1}{a}\\right)}\\end{matrix}\\right]$"
      ],
      "text/plain": [
       "⎡  -1         -1     ⎤\n",
       "⎢───────  ───────────⎥\n",
       "⎢  1   1    ⎛  1   1⎞⎥\n",
       "⎢- ─ + ─  b⋅⎜- ─ + ─⎟⎥\n",
       "⎢  b   a    ⎝  b   a⎠⎥\n",
       "⎢                    ⎥\n",
       "⎢   1          1     ⎥\n",
       "⎢───────  ───────────⎥\n",
       "⎢  1   1    ⎛  1   1⎞⎥\n",
       "⎢- ─ + ─  a⋅⎜- ─ + ─⎟⎥\n",
       "⎣  b   a    ⎝  b   a⎠⎦"
      ]
     },
     "execution_count": 55,
     "metadata": {},
     "output_type": "execute_result"
    }
   ],
   "source": [
    "Q.inv()"
   ]
  },
  {
   "cell_type": "code",
   "execution_count": 117,
   "metadata": {},
   "outputs": [
    {
     "data": {
      "text/latex": [
       "$\\displaystyle \\left[\\begin{matrix}34\\\\8\\end{matrix}\\right]$"
      ],
      "text/plain": [
       "⎡34⎤\n",
       "⎢  ⎥\n",
       "⎣8 ⎦"
      ]
     },
     "execution_count": 117,
     "metadata": {},
     "output_type": "execute_result"
    }
   ],
   "source": [
    "simplify((evenFibDiag * Matrix([[lminus, 0],[0, lplus]]) ** a * evenFibDiag.inv() * Matrix([[2],[0]])).subs({a:2}))"
   ]
  },
  {
   "cell_type": "code",
   "execution_count": 60,
   "metadata": {},
   "outputs": [
    {
     "data": {
      "text/latex": [
       "$\\displaystyle \\left[\\begin{matrix}- \\frac{1}{2 + \\sqrt{5}} & - \\frac{1}{2 - \\sqrt{5}}\\\\1 & 1\\end{matrix}\\right]$"
      ],
      "text/plain": [
       "⎡ -1      -1   ⎤\n",
       "⎢──────  ──────⎥\n",
       "⎢2 + √5  2 - √5⎥\n",
       "⎢              ⎥\n",
       "⎣  1       1   ⎦"
      ]
     },
     "execution_count": 60,
     "metadata": {},
     "output_type": "execute_result"
    }
   ],
   "source": [
    "evenFibDiag"
   ]
  },
  {
   "cell_type": "code",
   "execution_count": 122,
   "metadata": {},
   "outputs": [],
   "source": [
    "m1 = simplify(evenFibDiag * (Matrix([[lminus, 0],[0, lplus]]) ** (a-1)))"
   ]
  },
  {
   "cell_type": "code",
   "execution_count": 123,
   "metadata": {},
   "outputs": [
    {
     "data": {
      "text/latex": [
       "$\\displaystyle \\left[\\begin{matrix}- \\left(2 - \\sqrt{5}\\right)^{a} + \\left(2 + \\sqrt{5}\\right)^{a}\\\\- \\left(2 - \\sqrt{5}\\right)^{a - 1} + \\left(2 + \\sqrt{5}\\right)^{a - 1}\\end{matrix}\\right]$"
      ],
      "text/plain": [
       "⎡              a           a    ⎤\n",
       "⎢    - (2 - √5)  + (2 + √5)     ⎥\n",
       "⎢                               ⎥\n",
       "⎢          a - 1           a - 1⎥\n",
       "⎣- (2 - √5)      + (2 + √5)     ⎦"
      ]
     },
     "execution_count": 123,
     "metadata": {},
     "output_type": "execute_result"
    }
   ],
   "source": [
    "simplify((m1 * Matrix([[-1, lplus], [1, -lminus]]) * Matrix([[2],[0]])) / (2))"
   ]
  },
  {
   "cell_type": "code",
   "execution_count": 83,
   "metadata": {},
   "outputs": [],
   "source": [
    "binetscousin = (lplus ** (a) - lminus ** (a))/sqrt(5)"
   ]
  },
  {
   "cell_type": "code",
   "execution_count": 102,
   "metadata": {},
   "outputs": [
    {
     "data": {
      "image/png": "[encoded data removed]",
      "text/latex": [
       "$\\displaystyle 8$"
      ],
      "text/plain": [
       "8"
      ]
     },
     "execution_count": 102,
     "metadata": {},
     "output_type": "execute_result"
    }
   ],
   "source": [
    "simplify(binetscousin.subs({a:2}))"
   ]
  },
  {
   "cell_type": "code",
   "execution_count": 121,
   "metadata": {},
   "outputs": [
    {
     "data": {
      "text/latex": [
       "$\\displaystyle \\left[\\begin{matrix}\\frac{\\left(-1\\right)^{a} \\left(-2 + \\sqrt{5}\\right)^{a}}{2 - \\sqrt{5}} + \\frac{2 \\left(-1\\right)^{a} \\sqrt{5} \\left(-2 + \\sqrt{5}\\right)^{a}}{5 \\left(2 - \\sqrt{5}\\right)} - \\frac{2 \\sqrt{5} \\left(2 + \\sqrt{5}\\right)^{a}}{5 \\left(2 + \\sqrt{5}\\right)} + \\frac{\\left(2 + \\sqrt{5}\\right)^{a}}{2 + \\sqrt{5}}\\\\- \\left(2 - \\sqrt{5}\\right)^{a} - \\frac{2 \\sqrt{5} \\left(2 - \\sqrt{5}\\right)^{a}}{5} - \\left(2 + \\sqrt{5}\\right)^{a} + \\frac{2 \\sqrt{5} \\left(2 + \\sqrt{5}\\right)^{a}}{5}\\end{matrix}\\right]$"
      ],
      "text/plain": [
       "⎡    a          a         a             a                a           a⎤\n",
       "⎢(-1) ⋅(-2 + √5)    2⋅(-1) ⋅√5⋅(-2 + √5)    2⋅√5⋅(2 + √5)    (2 + √5) ⎥\n",
       "⎢──────────────── + ───────────────────── - ────────────── + ─────────⎥\n",
       "⎢     2 - √5              5⋅(2 - √5)          5⋅(2 + √5)       2 + √5 ⎥\n",
       "⎢                                                                     ⎥\n",
       "⎢                                 a                            a      ⎥\n",
       "⎢                a   2⋅√5⋅(2 - √5)            a   2⋅√5⋅(2 + √5)       ⎥\n",
       "⎢      - (2 - √5)  - ────────────── - (2 + √5)  + ──────────────      ⎥\n",
       "⎣                          5                            5             ⎦"
      ]
     },
     "execution_count": 121,
     "metadata": {},
     "output_type": "execute_result"
    }
   ],
   "source": [
    "simplify((m1 * evenFibDiag.inv() * Matrix([[2],[0]])))"
   ]
  },
  {
   "cell_type": "code",
   "execution_count": 103,
   "metadata": {},
   "outputs": [],
   "source": [
    "basevector = Matrix([[2],[0]])"
   ]
  },
  {
   "cell_type": "code",
   "execution_count": 107,
   "metadata": {},
   "outputs": [
    {
     "data": {
      "text/latex": [
       "$\\displaystyle \\left[\\begin{matrix}34\\\\8\\end{matrix}\\right]$"
      ],
      "text/plain": [
       "⎡34⎤\n",
       "⎢  ⎥\n",
       "⎣8 ⎦"
      ]
     },
     "execution_count": 107,
     "metadata": {},
     "output_type": "execute_result"
    }
   ],
   "source": [
    "evenFib ** 2 * basevector"
   ]
  },
  {
   "cell_type": "code",
   "execution_count": 125,
   "metadata": {},
   "outputs": [
    {
     "data": {
      "text/latex": [
       "$\\displaystyle \\left[\\begin{matrix}34 & 8\\\\8 & 2\\end{matrix}\\right]$"
      ],
      "text/plain": [
       "⎡34  8⎤\n",
       "⎢     ⎥\n",
       "⎣8   2⎦"
      ]
     },
     "execution_count": 125,
     "metadata": {},
     "output_type": "execute_result"
    }
   ],
   "source": [
    "2 * evenFib ** 2 "
   ]
  },
  {
   "cell_type": "code",
   "execution_count": 127,
   "metadata": {},
   "outputs": [
    {
     "data": {
      "image/png": "[encoded data removed]",
      "text/latex": [
       "$\\displaystyle 2 a b \\left(a^{4} - b^{4}\\right)$"
      ],
      "text/plain": [
       "      ⎛ 4    4⎞\n",
       "2⋅a⋅b⋅⎝a  - b ⎠"
      ]
     },
     "execution_count": 127,
     "metadata": {},
     "output_type": "execute_result"
    }
   ],
   "source": [
    "simplify((a + b) * (a - b) * (2 * a * b) * (a ** 2 + b ** 2))"
   ]
  },
  {
   "cell_type": "code",
   "execution_count": 130,
   "metadata": {},
   "outputs": [
    {
     "data": {
      "image/png": "[encoded data removed]",
      "text/latex": [
       "$\\displaystyle \\frac{2000 \\left(a^{2} - 250\\right) \\left(a^{4} - 500 a^{2} + 125000\\right)}{a^{4}}$"
      ],
      "text/plain": [
       "     ⎛ 2      ⎞ ⎛ 4        2         ⎞\n",
       "2000⋅⎝a  - 250⎠⋅⎝a  - 500⋅a  + 125000⎠\n",
       "──────────────────────────────────────\n",
       "                   4                  \n",
       "                  a                   "
      ]
     },
     "execution_count": 130,
     "metadata": {},
     "output_type": "execute_result"
    }
   ],
   "source": [
    "factor(a ** 4 - ((500 / a) - a) ** 4)"
   ]
  },
  {
   "cell_type": "code",
   "execution_count": 163,
   "metadata": {},
   "outputs": [],
   "source": [
    "ng = 2 * a * b * (b ** 4 - a ** 4)"
   ]
  },
  {
   "cell_type": "code",
   "execution_count": 166,
   "metadata": {},
   "outputs": [
    {
     "data": {
      "image/png": "[encoded data removed]",
      "text/latex": [
       "$\\displaystyle 31875000$"
      ],
      "text/plain": [
       "31875000"
      ]
     },
     "execution_count": 166,
     "metadata": {},
     "output_type": "execute_result"
    }
   ],
   "source": [
    "ng.subs({a: (500/b)-b, b:20})"
   ]
  },
  {
   "cell_type": "code",
   "execution_count": null,
   "metadata": {},
   "outputs": [],
   "source": []
  }
 ],
 "metadata": {
  "kernelspec": {
   "display_name": "Python 3",
   "language": "python",
   "name": "python3"
  },
  "language_info": {
   "codemirror_mode": {
    "name": "ipython",
    "version": 3
   },
   "file_extension": ".py",
   "mimetype": "text/x-python",
   "name": "python",
   "nbconvert_exporter": "python",
   "pygments_lexer": "ipython3",
   "version": "3.7.4"
  }
 },
 "nbformat": 4,
 "nbformat_minor": 2
}
