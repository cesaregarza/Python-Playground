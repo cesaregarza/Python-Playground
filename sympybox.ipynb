{
 "cells": [
  {
   "cell_type": "code",
   "execution_count": 1,
   "metadata": {},
   "outputs": [],
   "source": [
    "import sympy"
   ]
  },
  {
   "cell_type": "code",
   "execution_count": 2,
   "metadata": {},
   "outputs": [],
   "source": [
    "sympy.init_printing(use_unicode=True)"
   ]
  },
  {
   "cell_type": "code",
   "execution_count": 4,
   "metadata": {},
   "outputs": [],
   "source": [
    "a, b, p, q = sympy.symbols('alpha beta p q')"
   ]
  },
  {
   "cell_type": "code",
   "execution_count": 9,
   "metadata": {},
   "outputs": [],
   "source": [
    "D = sympy.Matrix([[1-a, 1-a], [-b, 1-b]])"
   ]
  },
  {
   "cell_type": "code",
   "execution_count": 19,
   "metadata": {},
   "outputs": [],
   "source": [
    "k = D.eigenvals().keys()"
   ]
  },
  {
   "cell_type": "code",
   "execution_count": 27,
   "metadata": {},
   "outputs": [
    {
     "output_type": "execute_result",
     "data": {
      "text/plain": "             _______________________    \n            ╱  2            2           \n  α   β   ╲╱  α  + 2⋅α⋅β + β  - 4⋅β     \n- ─ - ─ - ────────────────────────── + 1\n  2   2               2                 ",
      "image/png": "[encoded data removed]",
      "text/latex": "$\\displaystyle - \\frac{\\alpha}{2} - \\frac{\\beta}{2} - \\frac{\\sqrt{\\alpha^{2} + 2 \\alpha \\beta + \\beta^{2} - 4 \\beta}}{2} + 1$"
     },
     "metadata": {},
     "execution_count": 27
    }
   ],
   "source": [
    "list(k)[0]"
   ]
  },
  {
   "cell_type": "code",
   "execution_count": 3,
   "metadata": {},
   "outputs": [],
   "source": [
    "s, x, u = sympy.symbols('sigma x mu')"
   ]
  },
  {
   "cell_type": "code",
   "execution_count": 9,
   "metadata": {},
   "outputs": [],
   "source": [
    "f = 1 / (s * sympy.sqrt(sympy.pi * 2)) * sympy.exp(-0.5 * ((x - u)/s) ** 2)"
   ]
  },
  {
   "cell_type": "code",
   "execution_count": 10,
   "metadata": {},
   "outputs": [
    {
     "output_type": "execute_result",
     "data": {
      "text/plain": "                 2 \n    -0.5⋅(-μ + x)  \n    ───────────────\n            2      \n           σ       \n√2⋅ℯ               \n───────────────────\n       2⋅√π⋅σ      ",
      "image/png": "[encoded data removed]",
      "text/latex": "$\\displaystyle \\frac{\\sqrt{2} e^{- \\frac{0.5 \\left(- \\mu + x\\right)^{2}}{\\sigma^{2}}}}{2 \\sqrt{\\pi} \\sigma}$"
     },
     "metadata": {},
     "execution_count": 10
    }
   ],
   "source": [
    "f"
   ]
  },
  {
   "cell_type": "code",
   "execution_count": 8,
   "metadata": {},
   "outputs": [
    {
     "output_type": "execute_result",
     "data": {
      "text/plain": "ℯ",
      "image/png": "[encoded data removed]",
      "text/latex": "$\\displaystyle e$"
     },
     "metadata": {},
     "execution_count": 8
    }
   ],
   "source": [
    "sympy.E"
   ]
  },
  {
   "cell_type": "code",
   "execution_count": 13,
   "metadata": {},
   "outputs": [
    {
     "output_type": "execute_result",
     "data": {
      "text/plain": "⎧                              ⎛             π                                \n⎪  0.707106781186547⋅√2    for ⎜2⋅│arg(σ)│ ≤ ─ ∧ │2⋅arg(μ) - 4⋅arg(σ)│ < π ∧ │\n⎪                              ⎝             2                                \n⎪                                                                             \n⎪   ∞                                                                         \n⎪   ⌠                                                                         \n⎪   ⎮               2                                                         \n⎪   ⎮   -0.5⋅(μ - x)                                                          \n⎨   ⎮   ──────────────                                                        \n⎪   ⎮          2                                                              \n⎪   ⎮         σ                                                               \n⎪√2⋅⎮  ℯ               dx                                                     \n⎪   ⌡                                                                         \n⎪   -∞                                                                        \n⎪────────────────────────                                               otherw\n⎪         2⋅√π⋅σ                                                              \n⎩                                                                             \n\n                              ⎞                π\n2⋅arg(μ) - 4⋅arg(σ) + 2⋅π│ < π⎟ ∨ 2⋅│arg(σ)│ < ─\n                              ⎠                2\n                                                \n                                                \n                                                \n                                                \n                                                \n                                                \n                                                \n                                                \n                                                \n                                                \n                                                \nise                                             \n                                                \n                                                ",
      "text/latex": "$\\displaystyle \\begin{cases} 0.707106781186547 \\sqrt{2} & \\text{for}\\: \\left(2 \\left|{\\arg{\\left(\\sigma \\right)}}\\right| \\leq \\frac{\\pi}{2} \\wedge \\left|{2 \\arg{\\left(\\mu \\right)} - 4 \\arg{\\left(\\sigma \\right)}}\\right| < \\pi \\wedge \\left|{2 \\arg{\\left(\\mu \\right)} - 4 \\arg{\\left(\\sigma \\right)} + 2 \\pi}\\right| < \\pi\\right) \\vee 2 \\left|{\\arg{\\left(\\sigma \\right)}}\\right| < \\frac{\\pi}{2} \\\\\\frac{\\sqrt{2} \\int\\limits_{-\\infty}^{\\infty} e^{- \\frac{0.5 \\left(\\mu - x\\right)^{2}}{\\sigma^{2}}}\\, dx}{2 \\sqrt{\\pi} \\sigma} & \\text{otherwise} \\end{cases}$"
     },
     "metadata": {},
     "execution_count": 13
    }
   ],
   "source": [
    "sympy.simplify(sympy.integrate(f, (x, -sympy.oo, sympy.oo)))"
   ]
  },
  {
   "cell_type": "code",
   "execution_count": null,
   "metadata": {},
   "outputs": [],
   "source": []
  }
 ],
 "metadata": {
  "language_info": {
   "codemirror_mode": {
    "name": "ipython",
    "version": 3
   },
   "file_extension": ".py",
   "mimetype": "text/x-python",
   "name": "python",
   "nbconvert_exporter": "python",
   "pygments_lexer": "ipython3",
   "version": "3.7.6-final"
  },
  "orig_nbformat": 2,
  "kernelspec": {
   "name": "python3",
   "display_name": "Python 3"
  }
 },
 "nbformat": 4,
 "nbformat_minor": 2
}