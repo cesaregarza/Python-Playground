{
 "cells": [
  {
   "cell_type": "code",
   "execution_count": 1,
   "metadata": {},
   "outputs": [],
   "source": [
    "import numpy as np\n",
    "import random\n",
    "import genetic\n",
    "from copy import deepcopy"
   ]
  },
  {
   "cell_type": "code",
   "execution_count": 2,
   "metadata": {},
   "outputs": [],
   "source": [
    "def fitness_score(vector):\n",
    "    score_val = np.sum(vector)\n",
    "    if score_val % 3 != 0:\n",
    "        score_val = 0\n",
    "    return score_val\n",
    "\n",
    "def atomize(x):\n",
    "    atomized_list = []\n",
    "    while(x > 0):\n",
    "        atomized_list.append(x % 10)\n",
    "        x = int(x // 10)\n",
    "    return atomized_list[::-1]\n",
    "\n",
    "def crossover_fxn(params):\n",
    "    parents = []\n",
    "    for i in params:\n",
    "        parents.append(atomize(i))\n",
    "    \n",
    "    if len(parents[0]) != len(parents[1]):\n",
    "\n",
    "        if len(parents[0]) > len(parents[1]):\n",
    "            while len(parents[0]) > len(parents[1]):\n",
    "                parents[1].insert(0,0)\n",
    "        else:\n",
    "            while len(parents[1]) > len(parents[0]):\n",
    "                parents[0].insert(0,0)\n",
    "    \n",
    "    child = []\n",
    "    for i in range(len(parents[0])):\n",
    "        rand_parent = random.randint(0,1)\n",
    "        try:\n",
    "            child.append(parents[rand_parent][i])\n",
    "        except IndexError as e:\n",
    "            print(params)\n",
    "            raise IndexError(e)\n",
    "    \n",
    "    child = child[::-1]\n",
    "    child_total = 0\n",
    "\n",
    "    for i,x in enumerate(child):\n",
    "        child_total += x * 10 ** i\n",
    "    \n",
    "    return child_total\n",
    "\n",
    "mom = genetic.Genetic_Vector(np.ones(5) * 3, 1, (0,999), fitness_score, simple_crossover = True)\n",
    "dad = genetic.Genetic_Vector(np.ones(5) * 6, 1, (0,555), fitness_score, simple_crossover= True)\n",
    "population_array = [mom, dad]"
   ]
  },
  {
   "cell_type": "code",
   "execution_count": 13,
   "metadata": {},
   "outputs": [
    {
     "data": {
      "text/plain": [
       "{'vector': array([3., 6., 3., 3., 3.]),\n",
       " 'generation': 2,\n",
       " 'parameter_bounds': [(0, 999), (0, 999), (0, 999), (0, 999), (0, 999)],\n",
       " 'fitness': <function __main__.fitness_score(vector)>,\n",
       " 'simple_mutation': True,\n",
       " 'mutation_rate': 0.016639438499006717,\n",
       " 'simple_crossover': True,\n",
       " 'crossover_function': None,\n",
       " 'creep_mutate': True,\n",
       " 'fitness_val': 18.0,\n",
       " 'vector_length': 5}"
      ]
     },
     "execution_count": 13,
     "metadata": {},
     "output_type": "execute_result"
    }
   ],
   "source": [
    "vars(mom.mate(dad))"
   ]
  },
  {
   "cell_type": "code",
   "execution_count": 15,
   "metadata": {},
   "outputs": [
    {
     "name": "stdout",
     "output_type": "stream",
     "text": [
      "New high score: 936.66 Generation: 1\n",
      "New high score: 1173.6 Generation: 4\n",
      "New high score: 1440.3 Generation: 6\n",
      "New high score: 1589.58 Generation: 15\n",
      "New high score: 1732.68 Generation: 19\n",
      "New high score: 2277.0 Generation: 20\n",
      "New high score: 2525.04 Generation: 22\n",
      "New high score: 3006.78 Generation: 23\n",
      "New high score: 3579.84 Generation: 24\n",
      "New high score: 4175.4 Generation: 25\n",
      "New high score: 4315.62 Generation: 26\n",
      "New high score: 4394.22 Generation: 28\n",
      "New high score: 4416.0 Generation: 29\n",
      "New high score: 4422.24 Generation: 32\n",
      "New high score: 4513.68 Generation: 34\n",
      "New high score: 4515.0 Generation: 38\n",
      "New high score: 4518.0 Generation: 58\n",
      "New high score: 4518.6 Generation: 63\n",
      "New high score: 4521.84 Generation: 72\n",
      "New high score: 4524.0 Generation: 78\n",
      "New high score: 4524.3 Generation: 137\n",
      "New high score: 4524.42 Generation: 138\n",
      "New high score: 4524.78 Generation: 139\n",
      "New high score: 4525.14 Generation: 140\n",
      "New high score: 4525.86 Generation: 141\n",
      "New high score: 4526.46 Generation: 142\n",
      "New high score: 4526.76 Generation: 143\n",
      "New high score: 4526.88 Generation: 144\n",
      "New high score: 4527.0 Generation: 145\n",
      "New high score: 4527.06 Generation: 154\n",
      "New high score: 4527.24 Generation: 156\n",
      "New high score: 4528.44 Generation: 158\n",
      "New high score: 4529.94 Generation: 160\n",
      "New high score: 4530.0 Generation: 161\n",
      "New high score: 4530.18 Generation: 168\n",
      "New high score: 4530.3 Generation: 169\n",
      "New high score: 4530.66 Generation: 170\n",
      "New high score: 4531.2 Generation: 171\n",
      "New high score: 4532.94 Generation: 174\n",
      "New high score: 4533.0 Generation: 176\n",
      "New high score: 4533.06 Generation: 210\n",
      "New high score: 4533.24 Generation: 211\n",
      "New high score: 4533.66 Generation: 212\n",
      "New high score: 4534.32 Generation: 213\n",
      "New high score: 4535.04 Generation: 214\n",
      "New high score: 4535.88 Generation: 216\n",
      "New high score: 4536.0 Generation: 217\n",
      "New high score: 4536.06 Generation: 228\n",
      "New high score: 4536.42 Generation: 243\n",
      "New high score: 4536.66 Generation: 244\n",
      "New high score: 4537.98 Generation: 247\n",
      "New high score: 4538.94 Generation: 249\n",
      "New high score: 4539.0 Generation: 250\n",
      "New high score: 4539.06 Generation: 365\n",
      "New high score: 4539.24 Generation: 366\n",
      "New high score: 4539.3 Generation: 367\n",
      "New high score: 4539.54 Generation: 368\n",
      "New high score: 4540.14 Generation: 369\n",
      "New high score: 4540.98 Generation: 370\n",
      "New high score: 4541.7 Generation: 371\n",
      "New high score: 4542.0 Generation: 372\n",
      "New high score: 4542.06 Generation: 381\n",
      "New high score: 4542.36 Generation: 382\n",
      "New high score: 4542.54 Generation: 383\n",
      "New high score: 4543.08 Generation: 384\n",
      "New high score: 4543.86 Generation: 385\n",
      "New high score: 4545.06 Generation: 387\n",
      "New high score: 4545.12 Generation: 389\n",
      "New high score: 4545.24 Generation: 390\n",
      "New high score: 4545.48 Generation: 391\n",
      "New high score: 4546.14 Generation: 392\n",
      "New high score: 4546.8 Generation: 393\n",
      "New high score: 4547.46 Generation: 394\n",
      "New high score: 4547.88 Generation: 395\n",
      "New high score: 4548.0 Generation: 396\n",
      "New high score: 4548.24 Generation: 442\n",
      "New high score: 4548.54 Generation: 443\n",
      "New high score: 4549.14 Generation: 444\n",
      "New high score: 4549.62 Generation: 445\n",
      "New high score: 4550.1 Generation: 446\n",
      "New high score: 4551.0 Generation: 448\n",
      "4551.0\n",
      "[ 921.  840.  921.  859. 1010.]\n"
     ]
    }
   ],
   "source": [
    "p = genetic.Genetic_Pool(mom, elitism=True)\n",
    "p.initialization()\n",
    "max_score = 0\n",
    "for i in range(500):\n",
    "    p.new_generation()\n",
    "\n",
    "    scores = []\n",
    "    for j in p.pool:\n",
    "        scores.append(j.fitness_val)\n",
    "    scores = np.asarray(scores)\n",
    "    sum_sco = np.mean(scores)\n",
    "    if sum_sco > max_score:\n",
    "        max_score = sum_sco\n",
    "        print(f\"New high score: {sum_sco} Generation: {i + 1}\")\n",
    "print (sum_sco)\n",
    "p.pool.sort()\n",
    "print(p.pool[-1].vector)"
   ]
  },
  {
   "cell_type": "code",
   "execution_count": 15,
   "metadata": {},
   "outputs": [
    {
     "name": "stdout",
     "output_type": "stream",
     "text": [
      "New high score: 775.92 Generation: 1\n",
      "New high score: 1084.38 Generation: 2\n",
      "New high score: 1178.28 Generation: 6\n",
      "New high score: 1352.94 Generation: 11\n",
      "New high score: 1489.44 Generation: 16\n",
      "New high score: 1784.1 Generation: 21\n",
      "New high score: 1789.26 Generation: 94\n",
      "New high score: 1808.7 Generation: 132\n",
      "New high score: 1918.74 Generation: 152\n",
      "New high score: 2082.0 Generation: 164\n",
      "New high score: 2430.18 Generation: 199\n",
      "New high score: 2470.44 Generation: 201\n",
      "New high score: 2645.1 Generation: 202\n",
      "New high score: 3349.08 Generation: 203\n",
      "New high score: 3362.46 Generation: 204\n",
      "New high score: 3793.74 Generation: 205\n",
      "New high score: 3981.72 Generation: 206\n",
      "New high score: 4248.12 Generation: 207\n",
      "New high score: 4254.84 Generation: 231\n",
      "New high score: 4314.72 Generation: 238\n",
      "New high score: 4315.68 Generation: 264\n",
      "New high score: 4321.8 Generation: 269\n",
      "New high score: 4398.12 Generation: 273\n",
      "New high score: 4401.84 Generation: 348\n",
      "New high score: 4415.88 Generation: 367\n",
      "New high score: 4494.24 Generation: 370\n",
      "New high score: 4507.08 Generation: 375\n",
      "New high score: 4554.96 Generation: 383\n",
      "New high score: 4566.0 Generation: 413\n"
     ]
    }
   ],
   "source": [
    "p = genetic.Genetic_Pool(mom, elitism=False)\n",
    "p.initialization()\n",
    "max_score = 0\n",
    "for i in range(500):\n",
    "    p.new_generation()\n",
    "\n",
    "    scores = []\n",
    "    for j in p.pool:\n",
    "        scores.append(j.fitness_val)\n",
    "    scores = np.asarray(scores)\n",
    "    sum_sco = np.mean(scores)\n",
    "    if sum_sco > max_score:\n",
    "        max_score = sum_sco\n",
    "        print(f\"New high score: {sum_sco} Generation: {i + 1}\")"
   ]
  },
  {
   "cell_type": "code",
   "execution_count": 7,
   "metadata": {},
   "outputs": [
    {
     "data": {
      "text/plain": [
       "<genetic.Genetic_Vector at 0x181d85ecb08>"
      ]
     },
     "execution_count": 7,
     "metadata": {},
     "output_type": "execute_result"
    }
   ],
   "source": [
    "mom.mate(dad)"
   ]
  },
  {
   "cell_type": "code",
   "execution_count": 30,
   "metadata": {},
   "outputs": [],
   "source": [
    "def tournament(a, tournament_size = 4):\n",
    "    candidates = random.sample(a, tournament_size)\n",
    "    rounds = (tournament_size - 1).bit_length() - 1\n",
    "    print(f\"candidates: {candidates}\")\n",
    "    \n",
    "    for i in range(rounds):\n",
    "        next_round = []\n",
    "        while len(candidates) > 1:\n",
    "            random.shuffle(candidates)\n",
    "            fighters = candidates[:2]\n",
    "            print(f\"fighters {fighters}\")\n",
    "            candidates = candidates[2:]\n",
    "            next_round.append(max(fighters))\n",
    "\n",
    "        candidates += next_round\n",
    "    \n",
    "    return candidates"
   ]
  },
  {
   "cell_type": "code",
   "execution_count": 22,
   "metadata": {},
   "outputs": [
    {
     "name": "stdout",
     "output_type": "stream",
     "text": [
      "candidates: [161, 70, 158, 177, 145, 179]\n",
      "candidates: [52, 112, 63, 182, 111, 199]\n",
      "candidates: [46, 140, 9, 77, 99, 179]\n",
      "candidates: [74, 190, 108, 103, 78, 88]\n",
      "candidates: [30, 63, 136, 199, 75, 6]\n",
      "candidates: [113, 87, 37, 33, 34, 139]\n",
      "candidates: [150, 35, 87, 169, 21, 144]\n",
      "candidates: [80, 102, 93, 163, 137, 77]\n",
      "candidates: [58, 118, 51, 66, 193, 123]\n",
      "candidates: [199, 32, 142, 94, 150, 134]\n",
      "candidates: [24, 192, 189, 13, 1, 67]\n",
      "candidates: [160, 149, 39, 11, 37, 108]\n",
      "Not max! [149, 11, 39, 180, 108, 37, 185, 160], [39, 160]\n",
      "done\n"
     ]
    }
   ],
   "source": [
    "li = list(range(200))\n",
    "for i in range(200):\n",
    "    r = random.sample(li, 8)\n",
    "    c = tournament(r, 6)\n",
    "    if np.max(np.asarray(r)) not in c:\n",
    "        print(f\"Not max! {r}, {c}\")\n",
    "        break\n",
    "print('done')"
   ]
  },
  {
   "cell_type": "code",
   "execution_count": 38,
   "metadata": {},
   "outputs": [
    {
     "name": "stdout",
     "output_type": "stream",
     "text": [
      "candidates: [181, 104, 39, 109, 133, 156]\n",
      "fighters [109, 156]\n",
      "fighters [39, 104]\n",
      "fighters [181, 133]\n",
      "fighters [104, 181]\n"
     ]
    },
    {
     "data": {
      "text/plain": [
       "[156, 181]"
      ]
     },
     "execution_count": 38,
     "metadata": {},
     "output_type": "execute_result"
    }
   ],
   "source": [
    "tournament([109, 178, 156, 43, 181, 133, 39, 104], 6)"
   ]
  },
  {
   "cell_type": "code",
   "execution_count": 3,
   "metadata": {},
   "outputs": [],
   "source": [
    "def parent_selection(population_array):\n",
    "    population_array = sort_pop_array(population_array)\n",
    "    parent1, parent2 = population_array[-2:]\n",
    "    population_array.append(parent1.mate(parent2))\n",
    "\n",
    "def cull_population(population_array):\n",
    "    if len(population_array) > 500:\n",
    "        population_array = sort_pop_array(population_array)\n",
    "        population_array = population_array[:500]\n",
    "    return population_array\n",
    "\n",
    "def sort_pop_array(population_array):\n",
    "    population_array.sort(key = lambda x: x.score_val, reverse = True)\n",
    "    return population_array \n",
    "\n",
    "def weighted_parent_selection(population_array):\n",
    "    population_array = sort_pop_array(population_array)\n",
    "    r_score = (0.5) ** (2 / len(population_array))\n",
    "    parent1 = 0\n",
    "    for i,x in enumerate(population_array):\n",
    "        r = random.random()\n",
    "        if r < r_score:\n",
    "            parent1 = population_array.pop(i)\n",
    "            break\n",
    "\n",
    "    if parent1 is 0:\n",
    "        parent1 = population_array[-1]\n",
    "\n",
    "    parent2_selected = False\n",
    "\n",
    "    for i,x in enumerate(population_array):\n",
    "        r = random.random()\n",
    "        if r < r_score:\n",
    "            parent2 = x\n",
    "            if parent1 is parent2:\n",
    "                continue\n",
    "            else:\n",
    "                parent2_selected = True\n",
    "                break\n",
    "\n",
    "    if parent2_selected is False:\n",
    "        parent2 = population_array[-1]\n",
    "    child = parent1.mate(parent2)\n",
    "    if child.score_val != 0:\n",
    "        return parent1.mate(parent2)\n",
    "    else:\n",
    "        return False\n",
    "\n",
    "def generation(population_array):\n",
    "    generational_pool = deepcopy(population_array)\n",
    "    l = max(int(len(generational_pool) // 3),1)\n",
    "    while len(generational_pool) > l:\n",
    "        child = weighted_parent_selection(generational_pool)\n",
    "        if child is not False:\n",
    "            population_array.append(child)\n",
    "    return population_array"
   ]
  },
  {
   "cell_type": "code",
   "execution_count": 9,
   "metadata": {},
   "outputs": [
    {
     "data": {
      "text/plain": [
       "{'vector': array([48., 48., 48., 48., 48., 48., 48., 48., 48., 48., 48., 48., 49.,\n",
       "        48., 48., 48., 50., 48., 48., 48.]),\n",
       " 'generation': 210,\n",
       " 'mutation_rate': 0.007614418041323546,\n",
       " 'bounds': 50,\n",
       " 'score_val': 963.0,\n",
       " 'vector_length': 20}"
      ]
     },
     "execution_count": 9,
     "metadata": {},
     "output_type": "execute_result"
    }
   ],
   "source": [
    "for i in range(500):\n",
    "    population_array = generation(population_array)\n",
    "    population_array = cull_population(population_array)\n",
    "\n",
    "population_array = sort_pop_array(population_array)\n",
    "vars(population_array[0])"
   ]
  },
  {
   "cell_type": "code",
   "execution_count": 10,
   "metadata": {},
   "outputs": [
    {
     "name": "stdout",
     "output_type": "stream",
     "text": [
      "963.0 963.0\n"
     ]
    }
   ],
   "source": [
    "print(sort_pop_array(population_array)[0].score_val, population_array[-1].score_val)"
   ]
  },
  {
   "cell_type": "code",
   "execution_count": 11,
   "metadata": {},
   "outputs": [
    {
     "data": {
      "text/plain": [
       "{'vector': array([48., 48., 49., 48., 48., 48., 48., 50., 48., 48., 48., 50., 49.,\n",
       "        48., 48., 48., 50., 48., 48., 49.]),\n",
       " 'generation': 222,\n",
       " 'mutation_rate': 0.015287176020581945,\n",
       " 'bounds': 50,\n",
       " 'score_val': 969.0,\n",
       " 'vector_length': 20}"
      ]
     },
     "execution_count": 11,
     "metadata": {},
     "output_type": "execute_result"
    }
   ],
   "source": [
    "for i in range(500):\n",
    "    population_array = generation(population_array)\n",
    "    population_array = cull_population(population_array)\n",
    "\n",
    "population_array = sort_pop_array(population_array)\n",
    "vars(population_array[0])"
   ]
  },
  {
   "cell_type": "code",
   "execution_count": null,
   "metadata": {},
   "outputs": [],
   "source": []
  }
 ],
 "metadata": {
  "file_extension": ".py",
  "kernelspec": {
   "display_name": "Python 3",
   "language": "python",
   "name": "python3"
  },
  "language_info": {
   "codemirror_mode": {
    "name": "ipython",
    "version": 3
   },
   "file_extension": ".py",
   "mimetype": "text/x-python",
   "name": "python",
   "nbconvert_exporter": "python",
   "pygments_lexer": "ipython3",
   "version": "3.7.4"
  },
  "mimetype": "text/x-python",
  "name": "python",
  "npconvert_exporter": "python",
  "pygments_lexer": "ipython3",
  "version": 3
 },
 "nbformat": 4,
 "nbformat_minor": 4
}
